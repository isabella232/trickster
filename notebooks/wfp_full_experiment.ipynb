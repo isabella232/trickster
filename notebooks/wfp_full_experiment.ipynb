{
 "cells": [
  {
   "cell_type": "code",
   "execution_count": 4,
   "metadata": {
    "tags": [
     "parameters"
    ]
   },
   "outputs": [],
   "source": [
    "EPSILONS = [50, 100, 1000, 10000]\n",
    "MAX_ITER = 5000"
   ]
  },
  {
   "cell_type": "code",
   "execution_count": 5,
   "metadata": {},
   "outputs": [],
   "source": [
    "%load_ext autoreload\n",
    "%autoreload 2"
   ]
  },
  {
   "cell_type": "code",
   "execution_count": 6,
   "metadata": {},
   "outputs": [],
   "source": [
    "import sys\n",
    "sys.path.append('..')"
   ]
  },
  {
   "cell_type": "code",
   "execution_count": 7,
   "metadata": {},
   "outputs": [
    {
     "name": "stderr",
     "output_type": "stream",
     "text": [
      "/home/bogdan/Workspace/trickster/venv/lib/python3.6/site-packages/sklearn/cross_validation.py:41: DeprecationWarning: This module was deprecated in version 0.18 in favor of the model_selection module into which all the refactored classes and functions are moved. Also note that the interface of the new CV iterators are different from that of this module. This module will be removed in 0.20.\n",
      "  \"This module will be removed in 0.20.\", DeprecationWarning)\n"
     ]
    }
   ],
   "source": [
    "import warnings\n",
    "warnings.filterwarnings(\"ignore\")\n",
    "\n",
    "import pickle\n",
    "import seaborn as sns\n",
    "import pandas as pd\n",
    "import numpy as np\n",
    "import matplotlib\n",
    "import matplotlib.patches as mpatches\n",
    "import tqdm\n",
    "\n",
    "from scipy.stats import entropy\n",
    "from scipy.stats import pearsonr\n",
    "from matplotlib import pyplot as plt\n",
    "from sklearn.feature_selection import f_regression\n",
    "from sklearn.cross_validation import train_test_split\n",
    "\n",
    "from trickster.domain.wfp import load_data, extract"
   ]
  },
  {
   "cell_type": "code",
   "execution_count": 8,
   "metadata": {},
   "outputs": [],
   "source": [
    "import plot_params"
   ]
  },
  {
   "cell_type": "markdown",
   "metadata": {},
   "source": [
    "## Trace length analysis"
   ]
  },
  {
   "cell_type": "code",
   "execution_count": 9,
   "metadata": {},
   "outputs": [],
   "source": [
    "X, y = load_data(path='../data/knndata/', verbose=False)"
   ]
  },
  {
   "cell_type": "code",
   "execution_count": 10,
   "metadata": {},
   "outputs": [],
   "source": [
    "X_train, X_test, y_train, y_test = train_test_split(X, y, test_size=0.1, random_state=1)"
   ]
  },
  {
   "cell_type": "code",
   "execution_count": 11,
   "metadata": {},
   "outputs": [],
   "source": [
    "with open('../out/models/model_full_lr_cumul.pkl', 'rb') as f:\n",
    "    lr_model = pickle.load(f)\n",
    "    \n",
    "with open('../out/models/model_full_svmrbf_cumul.pkl', 'rb') as f:\n",
    "    svm_model = pickle.load(f)"
   ]
  },
  {
   "cell_type": "code",
   "execution_count": 12,
   "metadata": {},
   "outputs": [
    {
     "data": {
      "application/vnd.jupyter.widget-view+json": {
       "model_id": "5701d6c8c90e44c89234c4ed6b13d823",
       "version_major": 2,
       "version_minor": 0
      },
      "text/plain": [
       "HBox(children=(IntProgress(value=0, max=1800), HTML(value='')))"
      ]
     },
     "metadata": {},
     "output_type": "display_data"
    },
    {
     "name": "stdout",
     "output_type": "stream",
     "text": [
      "\n"
     ]
    },
    {
     "data": {
      "text/html": [
       "<div>\n",
       "<style scoped>\n",
       "    .dataframe tbody tr th:only-of-type {\n",
       "        vertical-align: middle;\n",
       "    }\n",
       "\n",
       "    .dataframe tbody tr th {\n",
       "        vertical-align: top;\n",
       "    }\n",
       "\n",
       "    .dataframe thead th {\n",
       "        text-align: right;\n",
       "    }\n",
       "</style>\n",
       "<table border=\"1\" class=\"dataframe\">\n",
       "  <thead>\n",
       "    <tr style=\"text-align: right;\">\n",
       "      <th></th>\n",
       "      <th>label</th>\n",
       "      <th>lrpred</th>\n",
       "      <th>svmpred</th>\n",
       "      <th>tracelen</th>\n",
       "    </tr>\n",
       "  </thead>\n",
       "  <tbody>\n",
       "    <tr>\n",
       "      <th>0</th>\n",
       "      <td>1.0</td>\n",
       "      <td>0.0</td>\n",
       "      <td>1.0</td>\n",
       "      <td>76.0</td>\n",
       "    </tr>\n",
       "    <tr>\n",
       "      <th>1</th>\n",
       "      <td>0.0</td>\n",
       "      <td>0.0</td>\n",
       "      <td>0.0</td>\n",
       "      <td>64.0</td>\n",
       "    </tr>\n",
       "    <tr>\n",
       "      <th>2</th>\n",
       "      <td>1.0</td>\n",
       "      <td>0.0</td>\n",
       "      <td>1.0</td>\n",
       "      <td>123.0</td>\n",
       "    </tr>\n",
       "    <tr>\n",
       "      <th>3</th>\n",
       "      <td>1.0</td>\n",
       "      <td>1.0</td>\n",
       "      <td>1.0</td>\n",
       "      <td>2659.0</td>\n",
       "    </tr>\n",
       "    <tr>\n",
       "      <th>4</th>\n",
       "      <td>0.0</td>\n",
       "      <td>0.0</td>\n",
       "      <td>0.0</td>\n",
       "      <td>986.0</td>\n",
       "    </tr>\n",
       "  </tbody>\n",
       "</table>\n",
       "</div>"
      ],
      "text/plain": [
       "   label  lrpred  svmpred  tracelen\n",
       "0    1.0     0.0      1.0      76.0\n",
       "1    0.0     0.0      0.0      64.0\n",
       "2    1.0     0.0      1.0     123.0\n",
       "3    1.0     1.0      1.0    2659.0\n",
       "4    0.0     0.0      0.0     986.0"
      ]
     },
     "execution_count": 12,
     "metadata": {},
     "output_type": "execute_result"
    }
   ],
   "source": [
    "trace_len_df = pd.DataFrame()\n",
    "\n",
    "for trace, label in tqdm.tqdm_notebook(list(zip(X_test, y_test))):\n",
    "    cumul_feature_vec = extract(trace)\n",
    "    trace_len_df = trace_len_df.append(\n",
    "        {\n",
    "            'tracelen': float(len(trace)),\n",
    "            'label': float(label),\n",
    "            'lrpred': float(lr_model.predict([cumul_feature_vec])[0]),\n",
    "            'svmpred': float(svm_model.predict([cumul_feature_vec])[0]),\n",
    "        },\n",
    "        ignore_index=True\n",
    "    )\n",
    "    \n",
    "trace_len_df.head()"
   ]
  },
  {
   "cell_type": "code",
   "execution_count": 13,
   "metadata": {},
   "outputs": [
    {
     "data": {
      "text/plain": [
       "<matplotlib.legend.Legend at 0x7f41523d6fd0>"
      ]
     },
     "execution_count": 13,
     "metadata": {},
     "output_type": "execute_result"
    },
    {
     "data": {
      "image/png": "[encoded data removed]",
      "text/plain": [
       "<Figure size 432x288 with 1 Axes>"
      ]
     },
     "metadata": {
      "needs_background": "light"
     },
     "output_type": "display_data"
    }
   ],
   "source": [
    "fig, ax = plt.subplots()\n",
    "\n",
    "sns.distplot(trace_len_df.query('label == 0 and tracelen <= 500').tracelen,\n",
    "             label='Monitored',\n",
    "             ax=ax)\n",
    "sns.distplot(trace_len_df.query('label == 1 and tracelen <= 500').tracelen,\n",
    "             label='Non-monitored',\n",
    "             ax=ax)\n",
    "\n",
    "ax.set_xlim(0, 500)\n",
    "ax.legend()"
   ]
  },
  {
   "cell_type": "markdown",
   "metadata": {},
   "source": [
    "## Visualizing adversarial traces"
   ]
  },
  {
   "cell_type": "code",
   "execution_count": 14,
   "metadata": {},
   "outputs": [],
   "source": [
    "results_pickle_names = [\n",
    "    '../out/reports/results_full_eps_{}_tracelen_500_iter_5000.pkl'.format(eps)\n",
    "    for eps in EPSILONS\n",
    "]\n",
    "adv_results = [pickle.load(open(filename, 'rb')) for filename in results_pickle_names]"
   ]
  },
  {
   "cell_type": "markdown",
   "metadata": {},
   "source": [
    "### Transferability"
   ]
  },
  {
   "cell_type": "code",
   "execution_count": 15,
   "metadata": {},
   "outputs": [],
   "source": [
    "target_results = adv_results[-1]\n",
    "trans_df = pd.DataFrame()\n",
    "\n",
    "for i, row in target_results.iterrows():\n",
    "    if row.adv_x is not None:\n",
    "        feature_vec = extract(row.x)\n",
    "        adv_feature_vec = extract(row.adv_x)\n",
    "        svm_orig_pred = svm_model.predict([feature_vec])[0]\n",
    "        if svm_orig_pred != 1:\n",
    "            trans_df = trans_df.append({\n",
    "                'tracelen': float(len(row.x)),\n",
    "                'realcost': float(row.real_cost),\n",
    "                'svmpred':  float(svm_model.predict([adv_feature_vec])[0]),\n",
    "                'transdiff': svm_model.predict_proba([adv_feature_vec])[0, 1] - lr_model.predict_proba([adv_feature_vec])[0, 1],\n",
    "                'conf': float(row.confidence),\n",
    "                'origconf': float(row.original_confidence),\n",
    "            }, ignore_index=True)\n",
    "        \n",
    "trans_df['qtracelen'] = pd.qcut(trans_df.tracelen, 5).astype('str')\n",
    "trans_df['qrealcost'] = pd.qcut(trans_df.realcost, 5).astype('str')"
   ]
  },
  {
   "cell_type": "code",
   "execution_count": 16,
   "metadata": {},
   "outputs": [
    {
     "data": {
      "text/plain": [
       "0.4155844155844156"
      ]
     },
     "execution_count": 16,
     "metadata": {},
     "output_type": "execute_result"
    }
   ],
   "source": [
    "trans_df.svmpred.mean()"
   ]
  },
  {
   "cell_type": "code",
   "execution_count": 17,
   "metadata": {},
   "outputs": [
    {
     "data": {
      "text/plain": [
       "array([ 22, 114, 178, 238, 486])"
      ]
     },
     "execution_count": 17,
     "metadata": {},
     "output_type": "execute_result"
    }
   ],
   "source": [
    "tracelen_quantiles = np.quantile(trans_df.tracelen, q=np.linspace(0.2, 1, 5)).astype(np.int)\n",
    "tracelen_quantiles"
   ]
  },
  {
   "cell_type": "code",
   "execution_count": 18,
   "metadata": {},
   "outputs": [
    {
     "data": {
      "image/png": "[encoded data removed]",
      "text/plain": [
       "<Figure size 360x288 with 1 Axes>"
      ]
     },
     "metadata": {
      "needs_background": "light"
     },
     "output_type": "display_data"
    }
   ],
   "source": [
    "fig, ax = plt.subplots()\n",
    "\n",
    "sns.pointplot(\n",
    "    data=trans_df,\n",
    "    x='qtracelen',\n",
    "    y='svmpred',\n",
    "    ax=ax\n",
    ")\n",
    "\n",
    "# plt.xticks(rotation='vertical')\n",
    "ax.set_xticklabels(tracelen_quantiles)\n",
    "ax.set_xlabel('Trace length, quantile boundary')\n",
    "ax.set_ylabel('Transferability')\n",
    "\n",
    "fig.set_figwidth(5)"
   ]
  },
  {
   "cell_type": "code",
   "execution_count": 50,
   "metadata": {},
   "outputs": [
    {
     "data": {
      "image/png": "[encoded data removed]",
      "text/plain": [
       "<Figure size 432x288 with 1 Axes>"
      ]
     },
     "metadata": {
      "needs_background": "light"
     },
     "output_type": "display_data"
    }
   ],
   "source": [
    "fig, ax = plt.subplots()\n",
    "\n",
    "g = sns.stripplot(\n",
    "    data=trans_df,\n",
    "    x='qtracelen',\n",
    "    y='realcost',\n",
    "    hue='svmpred',\n",
    "    ax=ax\n",
    ")\n",
    "\n",
    "g.legend_.set_title('Transferable')\n",
    "g.legend_.texts[0].set_text('No')\n",
    "g.legend_.texts[1].set_text('Yes')\n",
    "\n",
    "ax.set_xticklabels(tracelen_quantiles)\n",
    "ax.set_xlabel('Trace length, quantile boundary')\n",
    "ax.set_ylabel('Dummies')\n",
    "\n",
    "ax.set_yscale('log')"
   ]
  },
  {
   "cell_type": "markdown",
   "metadata": {},
   "source": [
    "### Runtime and success rates"
   ]
  },
  {
   "cell_type": "code",
   "execution_count": 51,
   "metadata": {},
   "outputs": [],
   "source": [
    "runtime_df = pd.DataFrame(columns=['eps', 'nodes', 'runtime', 'found'])\n",
    "\n",
    "for eps, results_df in zip(EPSILONS, adv_results):\n",
    "    for i, row in results_df.iterrows():\n",
    "#         if row.found:\n",
    "        runtime_df = runtime_df.append(\n",
    "            {\n",
    "                'eps': eps,\n",
    "                'nodes': float(row.nodes_expanded),\n",
    "                'runtime': float(row.runtime),\n",
    "                'found': row.found\n",
    "            },\n",
    "            ignore_index=True)"
   ]
  },
  {
   "cell_type": "code",
   "execution_count": 52,
   "metadata": {},
   "outputs": [
    {
     "data": {
      "text/plain": [
       "Text(0,0.5,'Runtime, s')"
      ]
     },
     "execution_count": 52,
     "metadata": {},
     "output_type": "execute_result"
    },
    {
     "data": {
      "image/png": "[encoded data removed]",
      "text/plain": [
       "<Figure size 432x288 with 1 Axes>"
      ]
     },
     "metadata": {
      "needs_background": "light"
     },
     "output_type": "display_data"
    }
   ],
   "source": [
    "fig, ax = plt.subplots()\n",
    "\n",
    "sns.boxplot(data=runtime_df, x='eps', y='runtime',\n",
    "            ax=ax)\n",
    "\n",
    "ax.set_yscale('log')\n",
    "ax.set_xlabel(r'$\\varepsilon$')\n",
    "ax.set_ylabel('Runtime, s')"
   ]
  },
  {
   "cell_type": "code",
   "execution_count": 53,
   "metadata": {},
   "outputs": [],
   "source": [
    "success_df = pd.DataFrame(columns=['eps', 'found', 'tracelen', 'realcost'])\n",
    "\n",
    "for eps, results_df in zip(EPSILONS, adv_results):\n",
    "    for i, row in results_df.iterrows():\n",
    "        success_df = success_df.append({\n",
    "            'eps': eps,\n",
    "            'found': float(row.found),\n",
    "            'tracelen': len(row.x),\n",
    "            'realcost': float(row.real_cost) if row.found else None\n",
    "        }, ignore_index=True)\n",
    "        \n",
    "success_df['qtracelen'] = pd.qcut(success_df.tracelen, 5)"
   ]
  },
  {
   "cell_type": "code",
   "execution_count": 54,
   "metadata": {},
   "outputs": [
    {
     "data": {
      "text/plain": [
       "Text(0.5,0,'$\\\\varepsilon$')"
      ]
     },
     "execution_count": 54,
     "metadata": {},
     "output_type": "execute_result"
    },
    {
     "data": {
      "image/png": "[encoded data removed]",
      "text/plain": [
       "<Figure size 432x288 with 1 Axes>"
      ]
     },
     "metadata": {
      "needs_background": "light"
     },
     "output_type": "display_data"
    }
   ],
   "source": [
    "fig, ax = plt.subplots()\n",
    "\n",
    "sns.pointplot(\n",
    "    x=success_df.eps.unique(),\n",
    "    y=success_df.groupby('eps').found.mean(),\n",
    "    ax=ax)\n",
    "\n",
    "ax.set_ylabel('Success rate')\n",
    "ax.set_xlabel(r'$\\varepsilon$')"
   ]
  },
  {
   "cell_type": "code",
   "execution_count": 55,
   "metadata": {},
   "outputs": [
    {
     "data": {
      "text/plain": [
       "Text(0,0.5,'Success rate')"
      ]
     },
     "execution_count": 55,
     "metadata": {},
     "output_type": "execute_result"
    },
    {
     "data": {
      "image/png": "[encoded data removed]",
      "text/plain": [
       "<Figure size 432x288 with 2 Axes>"
      ]
     },
     "metadata": {
      "needs_background": "light"
     },
     "output_type": "display_data"
    }
   ],
   "source": [
    "fig, ax = plt.subplots()\n",
    "\n",
    "pal = sns.color_palette()\n",
    "\n",
    "sns.pointplot(\n",
    "    data=success_df.query('eps==10000'),\n",
    "    x='qtracelen',\n",
    "    y='realcost',\n",
    "    color=pal[0],\n",
    "    ax=ax)\n",
    "\n",
    "ax2 = ax.twinx()\n",
    "\n",
    "sns.pointplot(\n",
    "    data=success_df.query('eps==50'),\n",
    "    x='qtracelen',\n",
    "    y='found',\n",
    "    color=pal[1],\n",
    "    ax=ax2,\n",
    ")\n",
    "\n",
    "ax.set_xticklabels(tracelen_quantiles)\n",
    "ax.set_ylabel(r'Dummies ($\\varepsilon = 10K$)')\n",
    "ax.set_xlabel('Initial trace length, quantile boundary')\n",
    "\n",
    "ax2.set_ylabel('Success rate')"
   ]
  },
  {
   "cell_type": "markdown",
   "metadata": {},
   "source": [
    "### Cost overhead"
   ]
  },
  {
   "cell_type": "code",
   "execution_count": 56,
   "metadata": {},
   "outputs": [],
   "source": [
    "costs_df = pd.DataFrame(columns=['eps', 'index', 'cost', 'overhead'])\n",
    "\n",
    "smallest_eps_index = EPSILONS.index(min(EPSILONS))\n",
    "baseline_df = adv_results[smallest_eps_index]\n",
    "\n",
    "for eps, results_df in zip(EPSILONS, adv_results):\n",
    "    for i, row in results_df.iterrows():\n",
    "        if row.found:\n",
    "            try:\n",
    "                _, baseline_item = next(\n",
    "                    baseline_df[baseline_df['index']==row['index']].iterrows())\n",
    "            except:\n",
    "                continue\n",
    "\n",
    "            if baseline_item.found:\n",
    "                overhead = row.path_cost / baseline_item['real_cost']\n",
    "                costs_df = costs_df.append(\n",
    "                    {'eps': eps, 'index': row['index'], 'cost': row['path_cost'], 'overhead': overhead},\n",
    "                    ignore_index=True)"
   ]
  },
  {
   "cell_type": "code",
   "execution_count": 57,
   "metadata": {},
   "outputs": [
    {
     "data": {
      "text/plain": [
       "Text(0.5,0,'$\\\\varepsilon$')"
      ]
     },
     "execution_count": 57,
     "metadata": {},
     "output_type": "execute_result"
    },
    {
     "data": {
      "image/png": "[encoded data removed]",
      "text/plain": [
       "<Figure size 432x288 with 1 Axes>"
      ]
     },
     "metadata": {
      "needs_background": "light"
     },
     "output_type": "display_data"
    }
   ],
   "source": [
    "fig, ax = plt.subplots()\n",
    "\n",
    "sns.boxplot(\n",
    "    data=costs_df,\n",
    "    x='eps',\n",
    "    y='overhead',\n",
    "    ax=ax\n",
    ")\n",
    "\n",
    "ax.set_ylabel('Cost overhead')\n",
    "ax.set_xlabel(r'$\\varepsilon$')"
   ]
  },
  {
   "cell_type": "code",
   "execution_count": null,
   "metadata": {},
   "outputs": [],
   "source": []
  }
 ],
 "metadata": {
  "kernelspec": {
   "display_name": "Python 3",
   "language": "python",
   "name": "python3"
  },
  "language_info": {
   "codemirror_mode": {
    "name": "ipython",
    "version": 3
   },
   "file_extension": ".py",
   "mimetype": "text/x-python",
   "name": "python",
   "nbconvert_exporter": "python",
   "pygments_lexer": "ipython3",
   "version": "3.6.7"
  }
 },
 "nbformat": 4,
 "nbformat_minor": 2
}
