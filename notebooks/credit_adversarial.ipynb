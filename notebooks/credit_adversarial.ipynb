{
 "cells": [
  {
   "cell_type": "code",
   "execution_count": 1,
   "metadata": {},
   "outputs": [],
   "source": [
    "%load_ext  autoreload\n",
    "%autoreload 2"
   ]
  },
  {
   "cell_type": "code",
   "execution_count": 2,
   "metadata": {},
   "outputs": [],
   "source": [
    "import sys\n",
    "sys.path.append('..')"
   ]
  },
  {
   "cell_type": "code",
   "execution_count": 3,
   "metadata": {},
   "outputs": [],
   "source": [
    "import numpy as np\n",
    "import pandas as pd\n",
    "import seaborn as sns\n",
    "\n",
    "from trickster.search import a_star_search\n",
    "\n",
    "from sklearn.utils import shuffle\n",
    "from sklearn.model_selection import train_test_split, GridSearchCV\n",
    "from sklearn.linear_model import LogisticRegressionCV\n",
    "from sklearn.svm import SVC\n",
    "from scipy.spatial import distance\n",
    "from tqdm import tqdm_notebook\n",
    "from matplotlib import pyplot as plt\n",
    "\n",
    "from defaultcontext import with_default_context\n",
    "from profiled import Profiler, profiled\n",
    "\n",
    "seed = 2018"
   ]
  },
  {
   "cell_type": "markdown",
   "metadata": {},
   "source": [
    "## Load data\n",
    "\n",
    "We assume the target linear model will work on one-hot discretized features. This is a common practice, since a linear model can only capture linear relationship between response and a continuous feature. If the continuous feature, however, is quantized, the relationship captured can be non-linear.\n",
    "\n",
    "Therefore, we discretize and one-hot encode all features. We quantize the continuous features, like credit amount, age, etc., into 5 bins."
   ]
  },
  {
   "cell_type": "code",
   "execution_count": 4,
   "metadata": {
    "scrolled": true
   },
   "outputs": [
    {
     "name": "stdout",
     "output_type": "stream",
     "text": [
      "Examples are represented as 38-dimensional vectors.\n"
     ]
    }
   ],
   "source": [
    "# Load the file\n",
    "df = pd.read_csv('data/german_credit_data.csv')\n",
    "df = df.drop(df.columns[0], axis=1) # remove the index column\n",
    "\n",
    "# Quantize credit amount, duration and age into 5 bins\n",
    "amount_series = df.loc[:, 'Credit amount']\n",
    "df.loc[:, 'Credit amount'] = pd.qcut(amount_series, 5)\n",
    "\n",
    "duration_series = df.loc[:, 'Duration']\n",
    "df.loc[:, 'Duration'] = pd.qcut(duration_series, 5)\n",
    "\n",
    "duration_series = df.loc[:, 'Age']\n",
    "df.loc[:, 'Age'] = pd.qcut(duration_series, 5)\n",
    "\n",
    "# Set Job type to object for one-hot encoding\n",
    "df.loc[:, 'Job'] = df.loc[:, 'Job'].astype(object)\n",
    "\n",
    "# Perform one-hot encoding\n",
    "df = pd.get_dummies(df)\n",
    "# Drop binary features\n",
    "df = df.drop(columns=['Sex_male', 'Risk_bad'])\n",
    "\n",
    "# Separate features from targets\n",
    "df_X = df.iloc[:, :-1]\n",
    "df_y = df.iloc[:, -1]\n",
    "\n",
    "print('Examples are represented as {}-dimensional vectors.'.format(df_X.shape[1]))"
   ]
  },
  {
   "cell_type": "code",
   "execution_count": 5,
   "metadata": {
    "scrolled": true
   },
   "outputs": [
    {
     "name": "stdout",
     "output_type": "stream",
     "text": [
      "Shape of X: (1000, 38). Shape of y: (1000,).\n"
     ]
    },
    {
     "data": {
      "text/plain": [
       "((900, 38), (900,), (100, 38), (100,))"
      ]
     },
     "execution_count": 5,
     "metadata": {},
     "output_type": "execute_result"
    }
   ],
   "source": [
    "# Convert to numpy\n",
    "X = df_X.values.astype('int8')\n",
    "y = df_y.values.astype('int8')\n",
    "print('Shape of X: {}. Shape of y: {}.'.format(X.shape, y.shape))\n",
    "\n",
    "# Split into training and test sets\n",
    "X_train, X_test, y_train, y_test = train_test_split(X, y, test_size=0.1, random_state=seed)\n",
    "X_train.shape, y_train.shape, X_test.shape, y_test.shape"
   ]
  },
  {
   "cell_type": "markdown",
   "metadata": {},
   "source": [
    "## Fit the target model"
   ]
  },
  {
   "cell_type": "markdown",
   "metadata": {},
   "source": [
    "We start with an SVM-RBF just to see how much will we potentially lose by using plain logistic regression"
   ]
  },
  {
   "cell_type": "code",
   "execution_count": 6,
   "metadata": {},
   "outputs": [
    {
     "name": "stdout",
     "output_type": "stream",
     "text": [
      "Best params are: {'kernel': 'rbf', 'gamma': 0.03, 'C': 5} with score: 74.44%.\n",
      "Test score is: 71.00%.\n"
     ]
    }
   ],
   "source": [
    "# Fit SVM with RBF kernel using CV\n",
    "tuned_parameters = [\n",
    "    {\n",
    "        'kernel': ['rbf'], \n",
    "        'gamma': [0.01, 0.03, 0.05, 0.07], \n",
    "        'C': [1, 3, 5, 7, 10]\n",
    "    }\n",
    "]\n",
    "clf = GridSearchCV(SVC(), tuned_parameters, cv=5, n_jobs=-1)\n",
    "clf.fit(X_train, y_train)\n",
    "print('Best params are: {} with score: {:.2f}%.'.format(clf.best_params_, clf.best_score_ * 100))\n",
    "print('Test score is: {:.2f}%.'.format(clf.score(X_test, y_test)*100))\n",
    "\n",
    "# Best params are: {'C': 5, 'gamma': 0.03, 'kernel': 'rbf'} with score: 74.44%.\n",
    "# Test score is: 71.00%."
   ]
  },
  {
   "cell_type": "markdown",
   "metadata": {},
   "source": [
    "Now we fit the target logistic regression model."
   ]
  },
  {
   "cell_type": "code",
   "execution_count": 7,
   "metadata": {
    "scrolled": true
   },
   "outputs": [
    {
     "name": "stdout",
     "output_type": "stream",
     "text": [
      "Best score is: 73.44%. Best C is: 0.1585.\n",
      "Test score is: 71.00%.\n"
     ]
    }
   ],
   "source": [
    "# Fit logistic regression and perform CV\n",
    "clf = LogisticRegressionCV(\n",
    "    Cs=21, \n",
    "    cv=5, \n",
    "    n_jobs=-1, \n",
    "    random_state=seed\n",
    ")\n",
    "clf.fit(X_train, y_train)\n",
    "\n",
    "# Get best score and C value\n",
    "mean_scores = np.mean(clf.scores_[1], axis=0)\n",
    "best_idx = np.argmax(mean_scores)\n",
    "best_score = mean_scores[best_idx]\n",
    "best_C = clf.Cs_[best_idx]\n",
    "\n",
    "print('Best score is: {:.2f}%. Best C is: {:.4f}.'.format(best_score*100, best_C))\n",
    "print('Test score is: {:.2f}%.'.format(clf.score(X_test, y_test)*100))\n",
    "\n",
    "# Best score is: 73.44%. Best C is: 0.1585.\n",
    "# Test score is: 71.000%."
   ]
  },
  {
   "cell_type": "markdown",
   "metadata": {},
   "source": [
    "## Perform adversarial examples search"
   ]
  },
  {
   "cell_type": "markdown",
   "metadata": {},
   "source": [
    "Context-local counter we'll use for counting expanded graph nodes."
   ]
  },
  {
   "cell_type": "code",
   "execution_count": 8,
   "metadata": {},
   "outputs": [],
   "source": [
    "@with_default_context(use_empty_init=True)\n",
    "class Counter:\n",
    "    def __init__(self):\n",
    "        self.cnt = 0\n",
    "        \n",
    "    def increment(self):\n",
    "        self.cnt += 1\n",
    "        \n",
    "    def count(self):\n",
    "        return self.cnt"
   ]
  },
  {
   "cell_type": "markdown",
   "metadata": {},
   "source": [
    "The `Node` class hosts the transformation code. By setting `decrease_amount` and `decrease_duration` we can get in total three different transformation graphs."
   ]
  },
  {
   "cell_type": "code",
   "execution_count": 9,
   "metadata": {},
   "outputs": [],
   "source": [
    "class Node:\n",
    "    amount_start_idx = df_X.columns.get_loc(\"Credit amount_(249.999, 1262.0]\")\n",
    "    duration_start_idx = df_X.columns.get_loc(\"Duration_(3.999, 12.0]\")\n",
    "    purpose_start_idx = df_X.columns.get_loc(\"Purpose_business\")\n",
    "    \n",
    "    def __init__(self, x, decrease_amount=True, decrease_duration=True):\n",
    "        self.root = x\n",
    "        self.decrease_amount = decrease_amount\n",
    "        self.decrease_duration = decrease_duration\n",
    "        \n",
    "        # Slices in the vector for each features\n",
    "        self.static = self.root[:Node.amount_start_idx]\n",
    "        self.amount = self.root[Node.amount_start_idx:Node.duration_start_idx]\n",
    "        self.duration = self.root[Node.duration_start_idx:Node.purpose_start_idx]\n",
    "        self.purpose = self.root[Node.purpose_start_idx:]\n",
    "    \n",
    "    def _get_neighbour(self, x, direction='pos'):\n",
    "        \"\"\"Get the neighbouring value in a quantized one-hot feature vector.\"\"\"\n",
    "        idx = np.argmax(x)\n",
    "        if direction == 'pos' and idx != len(x) - 1:\n",
    "            return np.roll(x, 1).tolist()\n",
    "        elif direction == 'neg' and idx != 0:\n",
    "            return np.roll(x, -1).tolist()\n",
    "        return []\n",
    "\n",
    "    def _expand_neighbours(self, field, directions=None):\n",
    "        \"\"\"Expand neighbouring values of a quantized feature.\"\"\"\n",
    "        if directions is None:\n",
    "            directions = ['pos', 'neg']\n",
    "            \n",
    "        child_fields = []\n",
    "        for direction in directions:\n",
    "            child_fields.append(self._get_neighbour(field, direction=direction))\n",
    "\n",
    "        child_fields = [x for x in child_fields if len(x) > 0]\n",
    "        return np.array(child_fields, dtype='uint8')\n",
    "    \n",
    "    def _expand_all(self, field):\n",
    "        \"\"\"Expand all values of a categorical feature.\"\"\"\n",
    "        child_fields = []\n",
    "        for i in range(1, len(field)):\n",
    "            child_fields.append(np.roll(field, i))\n",
    "        return child_fields\n",
    "\n",
    "    def expand(self):\n",
    "        \"\"\"Generate all children of the current node.\"\"\"\n",
    "        \n",
    "        # Increment the counter of expanded nodes.\n",
    "        counter = Counter.get_default()\n",
    "        counter.increment()\n",
    "        \n",
    "        children = []\n",
    "        \n",
    "        # Expand \"credit amount\".\n",
    "        for c in self._expand_neighbours(\n",
    "                self.amount,\n",
    "                directions=['pos', 'neg'] if self.decrease_amount else ['pos']):\n",
    "            child = np.concatenate((self.static, c, self.duration, self.purpose))\n",
    "            children.append(child)\n",
    "        \n",
    "        # Expand \"duration\".\n",
    "        for c in self._expand_neighbours(\n",
    "                self.duration,\n",
    "                directions=['pos', 'neg'] if self.decrease_duration else ['pos']):\n",
    "            child = np.concatenate((self.static, self.amount, c, self.purpose))\n",
    "            children.append(child)\n",
    "        \n",
    "        # Expand \"purpose\".\n",
    "        for c in self._expand_all(self.purpose):\n",
    "            child = np.concatenate((self.static, self.amount, self.duration, c))\n",
    "            children.append(child)\n",
    "        return children\n",
    "    \n",
    "    def __repr__(self):\n",
    "        return 'Node({})'.format(self.root)"
   ]
  },
  {
   "cell_type": "markdown",
   "metadata": {},
   "source": [
    "All the functions that need to be passed into the search, in the expected format."
   ]
  },
  {
   "cell_type": "code",
   "execution_count": 10,
   "metadata": {},
   "outputs": [],
   "source": [
    "def _expand_fn(x, p_norm=1, **kwargs):\n",
    "    \"\"\"Wrap the example in `Node`, expand the node, and compute the costs.\n",
    "    \n",
    "    Returns a list of tuples (child, cost)\n",
    "    \"\"\"\n",
    "    node = Node(x, **kwargs)\n",
    "    children = node.expand()\n",
    "    costs = [np.linalg.norm(x - c, ord=p_norm) for c in children]\n",
    "    return list(zip(children, costs))\n",
    "\n",
    "def _goal_fn(x, clf, target_confidence=0.5):\n",
    "    \"\"\"Tell whether the example has reached the goal.\"\"\"\n",
    "    return clf.predict_proba([x])[0, 1] >= target_confidence\n",
    "\n",
    "def _heuristic_fn(x, clf, q_norm=np.inf):\n",
    "    \"\"\"Distance to the decision boundary of a logistic regression classifier.\n",
    "    \n",
    "    By default the distance is w.r.t. L1 norm. This means that the denominator\n",
    "    has to be in terms of the Holder dual norm (`q_norm`), so L-inf. I know,\n",
    "    this interface is horrible.\n",
    "    \n",
    "    NOTE: The value has to be zero if the example is already on the target side\n",
    "    of the boundary.\n",
    "    \"\"\"\n",
    "    score = clf.decision_function([x])[0]\n",
    "    if score >= 0:\n",
    "        return 0.0\n",
    "    return np.abs(score) / np.linalg.norm(clf.coef_, ord=q_norm)\n",
    "\n",
    "def hash_fn(x):\n",
    "    \"\"\"Hash function for examples.\"\"\"\n",
    "    return hash(x.tostring())\n",
    "\n",
    "@profiled\n",
    "def find_adversarial(x, clf, p_norm=1, q_norm=np.inf,\n",
    "                     target_confidence=0.5, return_path=False, **kwargs):\n",
    "    \"\"\"Transform an example until it is classified with target confidence.\"\"\" \n",
    "\n",
    "    if clf.predict_proba([x])[0, 1] >= target_confidence:\n",
    "        raise Exception('Initial example is already classified as positive.')        \n",
    "    return a_star_search(\n",
    "        start_node=x, \n",
    "        expand_fn=lambda x: _expand_fn(x, p_norm=p_norm, **kwargs), \n",
    "        goal_fn=lambda x: _goal_fn(x, clf, target_confidence), \n",
    "        heuristic_fn=lambda x: _heuristic_fn(x, clf, q_norm=q_norm), \n",
    "        hash_fn=hash_fn,\n",
    "        return_path=return_path\n",
    "    )"
   ]
  },
  {
   "cell_type": "code",
   "execution_count": 11,
   "metadata": {},
   "outputs": [],
   "source": [
    "def find_adv_examples(X, target_confidence, graph='all', p_norm=1, q_norm=np.inf):\n",
    "    \"\"\"Find adversarial examples for a whole dataset\"\"\"\n",
    "    \n",
    "    if graph == 'all':\n",
    "        node_kwargs = dict(decrease_amount=True, decrease_duration=True)\n",
    "    if graph == 'increase_amount':\n",
    "        node_kwargs = dict(decrease_amount=False, decrease_duration=True)\n",
    "    if graph == 'increase_amount_and_duration':\n",
    "        node_kwargs = dict(decrease_amount=False, decrease_duration=False)\n",
    "    \n",
    "    # Dataframe for storing the results.\n",
    "    results = pd.DataFrame(\n",
    "        columns=['index', 'found', 'x_adv', 'confidence',\n",
    "                 'real_cost', 'path_cost', 'nodes_expanded', 'runtime'])\n",
    "\n",
    "    # Indices of examples classified as negative.\n",
    "    neg_indices, = np.where(clf.predict_proba(X)[:, 1] < target_confidence)\n",
    "    \n",
    "    for i, original_index in enumerate(neg_indices):\n",
    "        x = X[original_index]\n",
    "        \n",
    "        # Instantiate a counter for expanded nodes, and a profiler.\n",
    "        expanded_counter = Counter()\n",
    "        per_example_profiler = Profiler()\n",
    "        \n",
    "        with expanded_counter.as_default(), per_example_profiler.as_default():\n",
    "            x_adv, path_cost = find_adversarial(\n",
    "                x, clf, target_confidence=target_confidence, **node_kwargs)\n",
    "\n",
    "        nodes_expanded = expanded_counter.count()\n",
    "        runtime = per_example_profiler.compute_stats()['find_adversarial']['tot']\n",
    "        \n",
    "        # If an adversarial example was not found, only record index, runtime, and \n",
    "        # the number of expanded nodes.\n",
    "        if x_adv is None:\n",
    "            results.loc[i] = [original_index, False, [], None,\n",
    "                              None, None, nodes_expanded, runtime]\n",
    "        else:\n",
    "            confidence = clf.predict_proba([x_adv])[0, 1]\n",
    "            real_cost = np.linalg.norm(x - x_adv, ord=p_norm)\n",
    "            \n",
    "            results.loc[i] = [original_index, True, x_adv, confidence,\n",
    "                              real_cost, path_cost, nodes_expanded, runtime]\n",
    "\n",
    "    return results"
   ]
  },
  {
   "cell_type": "markdown",
   "metadata": {},
   "source": [
    "## Run the experiments"
   ]
  },
  {
   "cell_type": "markdown",
   "metadata": {},
   "source": [
    "Fix several target confidence levels."
   ]
  },
  {
   "cell_type": "code",
   "execution_count": 12,
   "metadata": {},
   "outputs": [
    {
     "data": {
      "text/plain": [
       "array([0.5 , 0.55, 0.6 , 0.65, 0.7 , 0.75, 0.8 , 0.85, 0.9 , 0.95])"
      ]
     },
     "execution_count": 12,
     "metadata": {},
     "output_type": "execute_result"
    }
   ],
   "source": [
    "confidence_levels = np.linspace(0.50, 0.95, 10)\n",
    "confidence_levels"
   ]
  },
  {
   "cell_type": "markdown",
   "metadata": {},
   "source": [
    "Find adversarial examples for the whole dataset using different transformation graphs"
   ]
  },
  {
   "cell_type": "code",
   "execution_count": 14,
   "metadata": {},
   "outputs": [
    {
     "data": {
      "application/vnd.jupyter.widget-view+json": {
       "model_id": "f691ed037fe047e2af6728234f4f0b0d",
       "version_major": 2,
       "version_minor": 0
      },
      "text/plain": [
       "HBox(children=(IntProgress(value=0, max=10), HTML(value='')))"
      ]
     },
     "metadata": {},
     "output_type": "display_data"
    },
    {
     "name": "stdout",
     "output_type": "stream",
     "text": [
      "\n"
     ]
    }
   ],
   "source": [
    "results_graph_1 = []\n",
    "for level in tqdm_notebook(confidence_levels):\n",
    "    results_graph_1.append(find_adv_examples(X, level))"
   ]
  },
  {
   "cell_type": "code",
   "execution_count": 15,
   "metadata": {},
   "outputs": [
    {
     "data": {
      "application/vnd.jupyter.widget-view+json": {
       "model_id": "05aef729c85f468eb3dec674596c631a",
       "version_major": 2,
       "version_minor": 0
      },
      "text/plain": [
       "HBox(children=(IntProgress(value=0, max=10), HTML(value='')))"
      ]
     },
     "metadata": {},
     "output_type": "display_data"
    },
    {
     "name": "stdout",
     "output_type": "stream",
     "text": [
      "\n"
     ]
    }
   ],
   "source": [
    "results_graph_2 = []\n",
    "for level in tqdm_notebook(confidence_levels):\n",
    "    results_graph_2.append(\n",
    "        find_adv_examples(X, level, graph='increase_amount'))"
   ]
  },
  {
   "cell_type": "code",
   "execution_count": 16,
   "metadata": {},
   "outputs": [
    {
     "data": {
      "application/vnd.jupyter.widget-view+json": {
       "model_id": "c307a7f56e6a436d97692fad97b83d0a",
       "version_major": 2,
       "version_minor": 0
      },
      "text/plain": [
       "HBox(children=(IntProgress(value=0, max=10), HTML(value='')))"
      ]
     },
     "metadata": {},
     "output_type": "display_data"
    },
    {
     "name": "stdout",
     "output_type": "stream",
     "text": [
      "\n"
     ]
    }
   ],
   "source": [
    "results_graph_3 = []\n",
    "for level in tqdm_notebook(confidence_levels):\n",
    "    results_graph_3.append(\n",
    "        find_adv_examples(X, level, graph='increase_amount_and_duration'))"
   ]
  },
  {
   "cell_type": "markdown",
   "metadata": {},
   "source": [
    "## Sanity check for the optimality"
   ]
  },
  {
   "cell_type": "markdown",
   "metadata": {},
   "source": [
    "This part was used for debugging. It checks the costs of the found adversarial examples for all three graphs. Since the second graph is a subgraph of the first, and the third is a subgraph of the second ($G_3 \\subset G_2 \\subset G_1$), the path cost of the adversarial examples has to follow $C(x, x^*_{G_3}) \\geq C(x, x^*_{G_2}) \\geq C(x, x^*_{G_1})$."
   ]
  },
  {
   "cell_type": "code",
   "execution_count": 17,
   "metadata": {},
   "outputs": [],
   "source": [
    "def example_diff(a, b):\n",
    "    different_indices = np.where(a != b)\n",
    "    return pd.DataFrame(\n",
    "        [a[different_indices], b[different_indices]],\n",
    "        columns=df_X.columns[different_indices],\n",
    "    )\n",
    "\n",
    "from IPython.display import display"
   ]
  },
  {
   "cell_type": "code",
   "execution_count": 18,
   "metadata": {},
   "outputs": [],
   "source": [
    "for result_graph_1, result_graph_2, result_graph_3 in zip(\n",
    "        results_graph_1, results_graph_2, results_graph_3):\n",
    "\n",
    "    for i, x in enumerate(X):\n",
    "        a = result_graph_1['path_cost'][result_graph_1['index'] == i].values\n",
    "        b = result_graph_2['path_cost'][result_graph_2['index'] == i].values\n",
    "        c = result_graph_3['path_cost'][result_graph_3['index'] == i].values\n",
    "\n",
    "        try:\n",
    "            if len(a) > 0 and len(b) > 0 and not pd.isna(a) and not pd.isna(b):\n",
    "                assert a[0] <= b[0]\n",
    "            if len(b) > 0 and len(c) > 0 and not pd.isna(b) and not pd.isna(c):\n",
    "                assert b[0] <= c[0]\n",
    "            if len(a) > 0 and len(c) > 0 and not pd.isna(a) and not pd.isna(c):\n",
    "                assert a[0] <= c[0]\n",
    "        \n",
    "        # Output information about violating examples.\n",
    "        except AssertionError:\n",
    "            print('Assumption violated at index', i)\n",
    "            print('Real costs:', a, b, c)\n",
    "            \n",
    "            path_a = result_graph_1['path_cost'][result_graph_1['index'] == i].values\n",
    "            path_b = result_graph_2['path_cost'][result_graph_2['index'] == i].values\n",
    "            path_c = result_graph_3['path_cost'][result_graph_3['index'] == i].values\n",
    "            print('Path costs:', path_a, path_b, path_c)\n",
    "            \n",
    "            conf_a = result_graph_1['confidence'][result_graph_1['index'] == i].values[0]\n",
    "            conf_b = result_graph_2['confidence'][result_graph_2['index'] == i].values[0]\n",
    "            conf_c = result_graph_3['confidence'][result_graph_3['index'] == i].values[0]\n",
    "            print('Confidences:', conf_a, conf_b, conf_c)\n",
    "            \n",
    "            x_adv_a = result_graph_1['x_adv'][result_graph_1['index'] == i].values[0]\n",
    "            x_adv_b = result_graph_2['x_adv'][result_graph_2['index'] == i].values[0]\n",
    "            x_adv_c = result_graph_3['x_adv'][result_graph_3['index'] == i].values[0]\n",
    "            \n",
    "            if len(x_adv_a) > 0:\n",
    "                display(example_diff(X[i], x_adv_a))\n",
    "            if len(x_adv_b) > 0:\n",
    "                display(example_diff(X[i], x_adv_b))\n",
    "            if len(x_adv_c) > 0:\n",
    "                display(example_diff(X[i], x_adv_c))\n",
    "\n",
    "            continue"
   ]
  },
  {
   "cell_type": "markdown",
   "metadata": {},
   "source": [
    "### Plots"
   ]
  },
  {
   "cell_type": "markdown",
   "metadata": {},
   "source": [
    "Success rates for crafting adversarial examples, and average confidence of these."
   ]
  },
  {
   "cell_type": "code",
   "execution_count": 28,
   "metadata": {},
   "outputs": [],
   "source": [
    "def plot_confidence(results):\n",
    "    success_prop = [result['found'].mean() for result in results]\n",
    "    avg_confidence = [result['confidence'].mean() for result in results]\n",
    "    \n",
    "    fig, ax = plt.subplots()\n",
    "    ax.set_xticks(confidence_levels)\n",
    "    ax.plot(confidence_levels, success_prop,\n",
    "            label='Success proportion')\n",
    "    ax.plot(confidence_levels, avg_confidence,\n",
    "            label='Avg confidence of adversarial examples')\n",
    "    ax.plot(confidence_levels, confidence_levels,\n",
    "            linestyle='dashed', color='gray', label='Baseline confidence')\n",
    "    ax.set_xlabel('Target confidence')\n",
    "    ax.set_ylabel('')\n",
    "    plt.legend()\n",
    "    plt.show()"
   ]
  },
  {
   "cell_type": "markdown",
   "metadata": {},
   "source": [
    "Graph 1 (changing \"amount\", \"duration\", and \"purpose\" in any direction)"
   ]
  },
  {
   "cell_type": "code",
   "execution_count": 29,
   "metadata": {},
   "outputs": [
    {
     "data": {
      "image/png": "[encoded data removed]",
      "text/plain": [
       "<Figure size 432x288 with 1 Axes>"
      ]
     },
     "metadata": {},
     "output_type": "display_data"
    }
   ],
   "source": [
    "plot_confidence(results_graph_1)"
   ]
  },
  {
   "cell_type": "markdown",
   "metadata": {},
   "source": [
    "Graph 2 (changing \"duration\" in any direction, and \"purpose\", and only increasing \"amount\")"
   ]
  },
  {
   "cell_type": "code",
   "execution_count": 30,
   "metadata": {},
   "outputs": [
    {
     "data": {
      "image/png": "[encoded data removed]",
      "text/plain": [
       "<Figure size 432x288 with 1 Axes>"
      ]
     },
     "metadata": {},
     "output_type": "display_data"
    }
   ],
   "source": [
    "plot_confidence(results_graph_2)"
   ]
  },
  {
   "cell_type": "markdown",
   "metadata": {},
   "source": [
    "Graph 3 (changing \"purpose\" in any direction, and only increasing \"amount\" and \"duration\")"
   ]
  },
  {
   "cell_type": "code",
   "execution_count": 31,
   "metadata": {},
   "outputs": [
    {
     "data": {
      "image/png": "[encoded data removed]",
      "text/plain": [
       "<Figure size 432x288 with 1 Axes>"
      ]
     },
     "metadata": {},
     "output_type": "display_data"
    }
   ],
   "source": [
    "plot_confidence(results_graph_3)"
   ]
  },
  {
   "cell_type": "markdown",
   "metadata": {},
   "source": [
    "Number of expanded nodes for graph 1 (strongly correlated with runtime)"
   ]
  },
  {
   "cell_type": "code",
   "execution_count": 33,
   "metadata": {},
   "outputs": [
    {
     "data": {
      "image/png": "[encoded data removed]",
      "text/plain": [
       "<Figure size 432x288 with 1 Axes>"
      ]
     },
     "metadata": {},
     "output_type": "display_data"
    }
   ],
   "source": [
    "avg_expanded = pd.Series(\n",
    "    [np.mean(result['nodes_expanded'][result['found']])\n",
    "     for result in results_graph_1])\n",
    "sigma_expanded = pd.Series(\n",
    "    [np.std(result['nodes_expanded'][result['found']])\n",
    "     for result in results_graph_1])\n",
    "\n",
    "avg_runtime = pd.Series(\n",
    "    [np.mean(result['runtime'][result['found']])\n",
    "     for result in results_graph_1])\n",
    "\n",
    "fig, ax = plt.subplots()\n",
    "avg_expanded.plot(label='Number of expanded nodes', ax=ax)\n",
    "ax.fill_between(range(len(confidence_levels)),\n",
    "                avg_expanded - 2 * sigma_expanded,\n",
    "                avg_expanded + 2 * sigma_expanded, alpha=.2)\n",
    "ax.set_xticks(range(len(confidence_levels)))\n",
    "ax.set_xticklabels(['%2.2f' % level for level in confidence_levels])\n",
    "ax.set_xlim(0, len(confidence_levels) - 1)\n",
    "ax.set_xlabel('Target confidence')\n",
    "ax.set_ylabel('Number of expanded nodes')\n",
    "\n",
    "# avg_runtime.plot(secondary_y=True, label='Avg runtime')\n",
    "plt.show()"
   ]
  }
 ],
 "metadata": {
  "kernelspec": {
   "display_name": "Python 3",
   "language": "python",
   "name": "python3"
  },
  "language_info": {
   "codemirror_mode": {
    "name": "ipython",
    "version": 3
   },
   "file_extension": ".py",
   "mimetype": "text/x-python",
   "name": "python",
   "nbconvert_exporter": "python",
   "pygments_lexer": "ipython3",
   "version": "3.5.2"
  }
 },
 "nbformat": 4,
 "nbformat_minor": 2
}
