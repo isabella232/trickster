{
 "cells": [
  {
   "cell_type": "code",
   "execution_count": 1,
   "metadata": {},
   "outputs": [],
   "source": [
    "%load_ext  autoreload\n",
    "%autoreload 2"
   ]
  },
  {
   "cell_type": "code",
   "execution_count": 4,
   "metadata": {},
   "outputs": [],
   "source": [
    "import sys\n",
    "sys.path.append('..')"
   ]
  },
  {
   "cell_type": "code",
   "execution_count": 86,
   "metadata": {},
   "outputs": [],
   "source": [
    "import numpy as np\n",
    "import pandas as pd\n",
    "\n",
    "from trickster.search import a_star_search\n",
    "\n",
    "from sklearn.utils import shuffle\n",
    "from sklearn.model_selection import train_test_split, GridSearchCV\n",
    "from sklearn.linear_model import LogisticRegressionCV\n",
    "from sklearn.svm import SVC\n",
    "from scipy.spatial import distance\n",
    "from tqdm import tqdm_notebook\n",
    "from matplotlib import pyplot as plt\n",
    "\n",
    "from defaultcontext import with_default_context\n",
    "from profiled import Profiler, profiled\n",
    "\n",
    "seed = 2018"
   ]
  },
  {
   "cell_type": "code",
   "execution_count": 8,
   "metadata": {
    "scrolled": true
   },
   "outputs": [
    {
     "name": "stdout",
     "output_type": "stream",
     "text": [
      "Examples are represented as 39-dimensional vectors.\n"
     ]
    }
   ],
   "source": [
    "# Load the file\n",
    "df = pd.read_csv('data/german_credit_data.csv')\n",
    "df = df.drop(df.columns[0], axis=1) # remove the index column\n",
    "\n",
    "# Quantize credit amount, duration and age into 5 bins\n",
    "amount_series = df.loc[:, 'Credit amount']\n",
    "df.loc[:, 'Credit amount'] = pd.qcut(amount_series, 5)\n",
    "\n",
    "duration_series = df.loc[:, 'Duration']\n",
    "df.loc[:, 'Duration'] = pd.qcut(duration_series, 5)\n",
    "\n",
    "duration_series = df.loc[:, 'Age']\n",
    "df.loc[:, 'Age'] = pd.qcut(duration_series, 5)\n",
    "\n",
    "# Set Job type to object for one-hot encoding\n",
    "df.loc[:, 'Job'] = df.loc[:, 'Job'].astype(object)\n",
    "\n",
    "# Perform one-hot encoding\n",
    "df = pd.get_dummies(df)\n",
    "# Drop binary features\n",
    "df = df.drop(columns=['Sex_male', 'Risk_bad'])\n",
    "\n",
    "print('Examples are represented as {}-dimensional vectors.'.format(len(df.columns)))\n",
    "\n",
    "# Separate features from targets\n",
    "df_X = df.iloc[:, :-1]\n",
    "df_y = df.iloc[:, -1]"
   ]
  },
  {
   "cell_type": "code",
   "execution_count": 9,
   "metadata": {
    "scrolled": true
   },
   "outputs": [
    {
     "name": "stdout",
     "output_type": "stream",
     "text": [
      "Shape of X: (1000, 38). Shape of y: (1000,).\n"
     ]
    },
    {
     "data": {
      "text/plain": [
       "((900, 38), (900,), (100, 38), (100,))"
      ]
     },
     "execution_count": 9,
     "metadata": {},
     "output_type": "execute_result"
    }
   ],
   "source": [
    "# Convert to numpy\n",
    "X = df_X.values.astype('int8')\n",
    "y = df_y.values.astype('int8')\n",
    "print('Shape of X: {}. Shape of y: {}.'.format(X.shape, y.shape))\n",
    "\n",
    "# Split into training and test sets\n",
    "X_train, X_test, y_train, y_test = train_test_split(X, y, test_size=0.1, random_state=seed)\n",
    "X_train.shape, y_train.shape, X_test.shape, y_test.shape"
   ]
  },
  {
   "cell_type": "code",
   "execution_count": 11,
   "metadata": {},
   "outputs": [
    {
     "name": "stdout",
     "output_type": "stream",
     "text": [
      "Best params are: {'C': 5, 'kernel': 'rbf', 'gamma': 0.03} with score: 74.44%.\n",
      "Test score is: 71.00%.\n"
     ]
    }
   ],
   "source": [
    "# Fit SVM with RBF kernel using CV\n",
    "tuned_parameters = [\n",
    "    {\n",
    "        'kernel': ['rbf'], \n",
    "        'gamma': [0.01, 0.03, 0.05, 0.07], \n",
    "        'C': [1, 3, 5, 7, 10]\n",
    "    }\n",
    "]\n",
    "clf = GridSearchCV(SVC(), tuned_parameters, cv=5, n_jobs=-1)\n",
    "clf.fit(X_train, y_train)\n",
    "print('Best params are: {} with score: {:.2f}%.'.format(clf.best_params_, clf.best_score_ * 100))\n",
    "print('Test score is: {:.2f}%.'.format(clf.score(X_test, y_test)*100))\n",
    "\n",
    "# Best params are: {'C': 5, 'gamma': 0.03, 'kernel': 'rbf'} with score: 74.44%.\n",
    "# Test score is: 71.00%."
   ]
  },
  {
   "cell_type": "code",
   "execution_count": 15,
   "metadata": {
    "scrolled": true
   },
   "outputs": [
    {
     "name": "stdout",
     "output_type": "stream",
     "text": [
      "Best score is: 73.44%. Best C is: 0.1585.\n",
      "Test score is: 71.00%.\n"
     ]
    }
   ],
   "source": [
    "# Fit logistic regression and perform CV\n",
    "clf = LogisticRegressionCV(\n",
    "    Cs=21, \n",
    "    cv=5, \n",
    "    n_jobs=-1, \n",
    "    random_state=seed\n",
    ")\n",
    "clf.fit(X_train, y_train)\n",
    "\n",
    "# Get best score and C value\n",
    "mean_scores = np.mean(clf.scores_[1], axis=0)\n",
    "best_idx = np.argmax(mean_scores)\n",
    "best_score = mean_scores[best_idx]\n",
    "best_C = clf.Cs_[best_idx]\n",
    "\n",
    "print('Best score is: {:.2f}%. Best C is: {:.4f}.'.format(best_score*100, best_C))\n",
    "print('Test score is: {:.2f}%.'.format(clf.score(X_test, y_test)*100))\n",
    "\n",
    "# Best score is: 73.44%. Best C is: 0.1585.\n",
    "# Test score is: 71.000%."
   ]
  },
  {
   "cell_type": "markdown",
   "metadata": {},
   "source": [
    "### Perform adversarial examples search"
   ]
  },
  {
   "cell_type": "code",
   "execution_count": 52,
   "metadata": {},
   "outputs": [],
   "source": [
    "@with_default_context(use_empty_init=True)\n",
    "class Counter:\n",
    "    def __init__(self):\n",
    "        self.cnt = 0\n",
    "        \n",
    "    def increment(self):\n",
    "        self.cnt += 1\n",
    "        \n",
    "    def count(self):\n",
    "        return self.cnt"
   ]
  },
  {
   "cell_type": "code",
   "execution_count": 32,
   "metadata": {},
   "outputs": [],
   "source": [
    "class Node:\n",
    "    amount_start_idx = df_X.columns.get_loc(\"Credit amount_(249.999, 1262.0]\")\n",
    "    duration_start_idx = df_X.columns.get_loc(\"Duration_(3.999, 12.0]\")\n",
    "    purpose_start_idx = df_X.columns.get_loc(\"Purpose_business\")\n",
    "    \n",
    "    def __init__(self, x, decrease_amount=True, decrease_duration=True):\n",
    "        self.root = x\n",
    "        self.decrease_amount = decrease_amount\n",
    "        self.decrease_duration = decrease_duration\n",
    "        \n",
    "        self.static = self.root[:Node.amount_start_idx]\n",
    "        self.amount = self.root[Node.amount_start_idx:Node.duration_start_idx]\n",
    "        self.duration = self.root[Node.duration_start_idx:Node.purpose_start_idx]\n",
    "        self.purpose = self.root[Node.purpose_start_idx:]\n",
    "    \n",
    "    def _roll(self, x, direction='pos'):\n",
    "        idx = np.argmax(x)\n",
    "        if direction == 'pos' and idx != len(x) - 1:\n",
    "            return np.roll(x, 1).tolist()\n",
    "        elif direction == 'neg' and idx != 0:\n",
    "            return np.roll(x, -1).tolist()\n",
    "        return []\n",
    "\n",
    "    def _expand_roll(self, field, directions=None):\n",
    "        if directions is None:\n",
    "            directions = ['pos', 'neg']\n",
    "            \n",
    "        child_fields = []\n",
    "        for direction in directions:\n",
    "            child_fields.append(self._roll(field, direction=direction))\n",
    "\n",
    "        child_fields = [x for x in child_fields if len(x) > 0]\n",
    "        return np.array(child_fields, dtype='uint8')\n",
    "    \n",
    "    def _expand_all(self, field):\n",
    "        child_fields = []\n",
    "        for i in range(1, len(field)):\n",
    "            child_fields.append(np.roll(field, i))\n",
    "        return child_fields\n",
    "\n",
    "    def expand(self):\n",
    "        counter = Counter.get_default()\n",
    "        counter.increment()\n",
    "        \n",
    "        children = []\n",
    "        for c in self._expand_roll(\n",
    "                self.amount,\n",
    "                directions=['pos', 'neg'] if self.decrease_amount else ['pos']):\n",
    "            child = np.concatenate((self.static, c, self.duration, self.purpose))\n",
    "            children.append(child)\n",
    "        for c in self._expand_roll(\n",
    "                self.duration,\n",
    "                directions=['pos', 'neg'] if self.decrease_duration else ['pos']):\n",
    "            child = np.concatenate((self.static, self.amount, c, self.purpose))\n",
    "            children.append(child)\n",
    "        for c in self._expand_all(self.purpose):\n",
    "            child = np.concatenate((self.static, self.amount, self.duration, c))\n",
    "            children.append(child)\n",
    "        return children\n",
    "    \n",
    "    def __repr__(self):\n",
    "        return '<Node> {}.'.format(self.root)"
   ]
  },
  {
   "cell_type": "code",
   "execution_count": 258,
   "metadata": {},
   "outputs": [],
   "source": [
    "def _expand_fn(x, norm=1, **kwargs):\n",
    "    node = Node(x, **kwargs)\n",
    "    children = node.expand()\n",
    "    costs = [np.linalg.norm(x - c, ord=norm) for c in children]\n",
    "    return list(zip(children, costs))\n",
    "\n",
    "def _goal_fn(x, clf, confidence):\n",
    "    return clf.predict_proba([x])[0, 1] >= confidence\n",
    "\n",
    "def _heuristic_fn(x, clf, norm=np.inf):\n",
    "    score = clf.decision_function([x])[0]\n",
    "    if score >= 0:\n",
    "        return 0.0\n",
    "    return np.abs(score) / np.linalg.norm(clf.coef_, ord=norm)\n",
    "\n",
    "def hash_fn(x):\n",
    "    return hash(x.tostring())\n",
    "\n",
    "@profiled\n",
    "def find_adversarial(x, clf, p_norm=1, q_norm=np.inf, confidence=0.5, return_path=False, **kwargs):\n",
    "    if clf.predict_proba([x])[0, 1] >= confidence:\n",
    "        raise Exception('Initial example is already classified as \"accept\".')\n",
    "        \n",
    "    return a_star_search(\n",
    "        start_node=x, \n",
    "        expand_fn=lambda x: _expand_fn(x, norm=p_norm, **kwargs), \n",
    "        goal_fn=lambda x: _goal_fn(x, clf, confidence), \n",
    "        heuristic_fn=lambda x: _heuristic_fn(x, clf, norm=q_norm), \n",
    "        hash_fn=hash_fn,\n",
    "        return_path=return_path\n",
    "    )"
   ]
  },
  {
   "cell_type": "code",
   "execution_count": 139,
   "metadata": {},
   "outputs": [],
   "source": [
    "def find_adv_examples_for_level(X, level, graph='all'):\n",
    "    if graph == 'all':\n",
    "        node_kwargs = dict(decrease_amount=True, decrease_duration=True)\n",
    "    if graph == 'increase_amount':\n",
    "        node_kwargs = dict(decrease_amount=False, decrease_duration=True)\n",
    "    if graph == 'increase_amount_and_duration':\n",
    "        node_kwargs = dict(decrease_amount=False, decrease_duration=False)\n",
    "        \n",
    "    p_norm = 1\n",
    "    results = pd.DataFrame(\n",
    "        columns=['index', 'found', 'x_adv', 'confidence',\n",
    "                 'real_cost', 'path_cost', 'nodes_expanded', 'runtime'])\n",
    "\n",
    "    neg_indices, = np.where(clf.predict_proba(X)[:, 1] < level)\n",
    "    for i, original_index in enumerate(neg_indices):\n",
    "\n",
    "        x = X[original_index]\n",
    "        expanded_counter = Counter()\n",
    "        per_example_profiler = Profiler()\n",
    "        with expanded_counter.as_default(), per_example_profiler.as_default():\n",
    "            x_adv, path_cost = find_adversarial(x, clf, confidence=level, **node_kwargs)\n",
    "\n",
    "        nodes_expanded = expanded_counter.count()\n",
    "        runtime = per_example_profiler.compute_stats()['find_adversarial']['tot']\n",
    "        if x_adv is None:\n",
    "            results.loc[i] = [original_index, False, [], None,\n",
    "                              None, None, nodes_expanded, runtime]\n",
    "        else:\n",
    "            confidence = clf.predict_proba([x_adv])[0, 1]\n",
    "            real_cost = np.linalg.norm(x - x_adv, ord=p_norm)\n",
    "            results.loc[i] = [original_index, True, x_adv, confidence,\n",
    "                              real_cost, path_cost, nodes_expanded, runtime]\n",
    "\n",
    "    return results"
   ]
  },
  {
   "cell_type": "code",
   "execution_count": 137,
   "metadata": {},
   "outputs": [],
   "source": [
    "levels = np.linspace(0.50, 0.95, 10)"
   ]
  },
  {
   "cell_type": "code",
   "execution_count": 82,
   "metadata": {},
   "outputs": [
    {
     "data": {
      "application/vnd.jupyter.widget-view+json": {
       "model_id": "b49bd4bca9b8479c9e251c109a19d290",
       "version_major": 2,
       "version_minor": 0
      },
      "text/plain": [
       "HBox(children=(IntProgress(value=0, max=10), HTML(value='')))"
      ]
     },
     "metadata": {},
     "output_type": "display_data"
    }
   ],
   "source": [
    "results_graph_1 = []\n",
    "for level in tqdm_notebook(levels):\n",
    "    results_graph_1.append(find_adv_examples_for_level(X, level))"
   ]
  },
  {
   "cell_type": "code",
   "execution_count": 210,
   "metadata": {},
   "outputs": [
    {
     "data": {
      "application/vnd.jupyter.widget-view+json": {
       "model_id": "11c474baba9d41f3a9b6b5ac7a5e686d",
       "version_major": 2,
       "version_minor": 0
      },
      "text/plain": [
       "HBox(children=(IntProgress(value=0, max=10), HTML(value='')))"
      ]
     },
     "metadata": {},
     "output_type": "display_data"
    }
   ],
   "source": [
    "results_graph_2 = []\n",
    "for level in tqdm_notebook(levels):\n",
    "    results_graph_2.append(\n",
    "        find_adv_examples_for_level(X, level, graph='increase_amount'))"
   ]
  },
  {
   "cell_type": "code",
   "execution_count": 216,
   "metadata": {},
   "outputs": [
    {
     "data": {
      "application/vnd.jupyter.widget-view+json": {
       "model_id": "d767d6716aee4aaab72e09d2e8af23d9",
       "version_major": 2,
       "version_minor": 0
      },
      "text/plain": [
       "HBox(children=(IntProgress(value=0, max=10), HTML(value='')))"
      ]
     },
     "metadata": {},
     "output_type": "display_data"
    }
   ],
   "source": [
    "results_graph_3 = []\n",
    "for level in tqdm_notebook(levels):\n",
    "    results_graph_3.append(\n",
    "        find_adv_examples_for_level(X, level, graph='increase_amount_and_duration'))"
   ]
  },
  {
   "cell_type": "markdown",
   "metadata": {},
   "source": [
    "### Sanity check for the optimality"
   ]
  },
  {
   "cell_type": "code",
   "execution_count": 244,
   "metadata": {},
   "outputs": [],
   "source": [
    "def example_diff(a, b):\n",
    "    different_indices = np.where(a != b)\n",
    "    return pd.DataFrame(\n",
    "        [a[different_indices], b[different_indices]],\n",
    "        columns=df_X.columns[different_indices],\n",
    "    )\n",
    "\n",
    "from IPython.display import display"
   ]
  },
  {
   "cell_type": "code",
   "execution_count": 275,
   "metadata": {},
   "outputs": [],
   "source": [
    "for result_graph_1, result_graph_2, result_graph_3 in zip(\n",
    "        results_graph_1, results_graph_2, results_graph_3):\n",
    "\n",
    "    for i, x in enumerate(X):\n",
    "        a = result_graph_1['path_cost'][result_graph_1['index'] == i].values\n",
    "        b = result_graph_2['path_cost'][result_graph_2['index'] == i].values\n",
    "        c = result_graph_3['path_cost'][result_graph_3['index'] == i].values\n",
    "\n",
    "        try:\n",
    "            if len(a) > 0 and len(b) > 0 and not pd.isna(a) and not pd.isna(b):\n",
    "                assert a[0] <= b[0]\n",
    "            if len(b) > 0 and len(c) > 0 and not pd.isna(b) and not pd.isna(c):\n",
    "                assert b[0] <= c[0]\n",
    "            if len(a) > 0 and len(c) > 0 and not pd.isna(a) and not pd.isna(c):\n",
    "                assert a[0] <= c[0]\n",
    "\n",
    "        except AssertionError:\n",
    "            print('Assumption violated at index', i)\n",
    "            print('Real costs:', a, b, c)\n",
    "            \n",
    "            path_a = result_graph_1['path_cost'][result_graph_1['index'] == i].values\n",
    "            path_b = result_graph_2['path_cost'][result_graph_2['index'] == i].values\n",
    "            path_c = result_graph_3['path_cost'][result_graph_3['index'] == i].values\n",
    "            print('Path costs:', path_a, path_b, path_c)\n",
    "            \n",
    "            conf_a = result_graph_1['confidence'][result_graph_1['index'] == i].values[0]\n",
    "            conf_b = result_graph_2['confidence'][result_graph_2['index'] == i].values[0]\n",
    "            conf_c = result_graph_3['confidence'][result_graph_3['index'] == i].values[0]\n",
    "            print('Confidences:', conf_a, conf_b, conf_c)\n",
    "            \n",
    "            x_adv_a = result_graph_1['x_adv'][result_graph_1['index'] == i].values[0]\n",
    "            x_adv_b = result_graph_2['x_adv'][result_graph_2['index'] == i].values[0]\n",
    "            x_adv_c = result_graph_3['x_adv'][result_graph_3['index'] == i].values[0]\n",
    "            \n",
    "            if len(x_adv_a) > 0:\n",
    "                display(example_diff(X[i], x_adv_a))\n",
    "            if len(x_adv_b) > 0:\n",
    "                display(example_diff(X[i], x_adv_b))\n",
    "            if len(x_adv_c) > 0:\n",
    "                display(example_diff(X[i], x_adv_c))\n",
    "\n",
    "            continue"
   ]
  },
  {
   "cell_type": "markdown",
   "metadata": {},
   "source": [
    "### Plots"
   ]
  },
  {
   "cell_type": "code",
   "execution_count": 149,
   "metadata": {},
   "outputs": [],
   "source": [
    "def plot_confidence(results):\n",
    "    success_prop = [result['found'].mean() for result in results]\n",
    "    avg_confidence = [result['confidence'].mean() for result in results]\n",
    "    \n",
    "    fig, ax = plt.subplots()\n",
    "    ax.set_xticks(levels)\n",
    "    ax.plot(levels, success_prop, label='Success proportion')\n",
    "    ax.plot(levels, avg_confidence, label='Avg confidence')\n",
    "    ax.plot(levels, levels, linestyle='dashed', color='gray')\n",
    "    plt.legend()\n",
    "    plt.show()"
   ]
  },
  {
   "cell_type": "code",
   "execution_count": 150,
   "metadata": {},
   "outputs": [
    {
     "data": {
      "image/png": "[encoded data removed]",
      "text/plain": [
       "<Figure size 432x288 with 1 Axes>"
      ]
     },
     "metadata": {},
     "output_type": "display_data"
    }
   ],
   "source": [
    "plot_confidence(results_graph_1)"
   ]
  },
  {
   "cell_type": "code",
   "execution_count": 151,
   "metadata": {},
   "outputs": [
    {
     "data": {
      "image/png": "[encoded data removed]",
      "text/plain": [
       "<Figure size 432x288 with 1 Axes>"
      ]
     },
     "metadata": {},
     "output_type": "display_data"
    }
   ],
   "source": [
    "plot_confidence(results_graph_2)"
   ]
  },
  {
   "cell_type": "code",
   "execution_count": 156,
   "metadata": {},
   "outputs": [
    {
     "data": {
      "image/png": "[encoded data removed]",
      "text/plain": [
       "<Figure size 432x288 with 1 Axes>"
      ]
     },
     "metadata": {},
     "output_type": "display_data"
    }
   ],
   "source": [
    "plot_confidence(results_graph_3)"
   ]
  },
  {
   "cell_type": "code",
   "execution_count": 159,
   "metadata": {},
   "outputs": [
    {
     "data": {
      "image/png": "[encoded data removed]",
      "text/plain": [
       "<Figure size 432x288 with 2 Axes>"
      ]
     },
     "metadata": {},
     "output_type": "display_data"
    }
   ],
   "source": [
    "avg_expanded = pd.Series(\n",
    "    [np.mean(result['nodes_expanded'][result['found']])\n",
    "     for result in results_graph_3])\n",
    "avg_runtime = pd.Series(\n",
    "    [np.mean(result['runtime'][result['found']])\n",
    "     for result in results_graph_3])\n",
    "\n",
    "avg_expanded.plot(label='Number of expanded nodes')\n",
    "avg_runtime.plot(secondary_y=True, label='Avg runtime')\n",
    "plt.show()"
   ]
  }
 ],
 "metadata": {
  "kernelspec": {
   "display_name": "Python 3",
   "language": "python",
   "name": "python3"
  },
  "language_info": {
   "codemirror_mode": {
    "name": "ipython",
    "version": 3
   },
   "file_extension": ".py",
   "mimetype": "text/x-python",
   "name": "python",
   "nbconvert_exporter": "python",
   "pygments_lexer": "ipython3",
   "version": "3.5.2"
  }
 },
 "nbformat": 4,
 "nbformat_minor": 2
}
