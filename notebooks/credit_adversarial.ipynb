{
 "cells": [
  {
   "cell_type": "code",
   "execution_count": 1,
   "metadata": {},
   "outputs": [],
   "source": [
    "%load_ext  autoreload\n",
    "%autoreload 2"
   ]
  },
  {
   "cell_type": "code",
   "execution_count": 2,
   "metadata": {},
   "outputs": [],
   "source": [
    "import numpy as np\n",
    "import pandas as pd\n",
    "\n",
    "from trickster.trickster.search import a_star_search\n",
    "\n",
    "from sklearn.utils import shuffle\n",
    "from sklearn.model_selection import train_test_split, GridSearchCV\n",
    "from sklearn.linear_model import LogisticRegressionCV\n",
    "from sklearn.svm import SVC\n",
    "from scipy.spatial import distance\n",
    "\n",
    "seed = 2018"
   ]
  },
  {
   "cell_type": "code",
   "execution_count": 3,
   "metadata": {
    "scrolled": true
   },
   "outputs": [
    {
     "name": "stdout",
     "output_type": "stream",
     "text": [
      "Examples are represented as 39-dimensional vectors.\n"
     ]
    }
   ],
   "source": [
    "# Load the file\n",
    "df = pd.read_csv('data/german_credit_data.csv')\n",
    "df = df.drop(df.columns[0], axis=1) # remove the index column\n",
    "\n",
    "# Quantize credit amount, duration and age into 5 bins\n",
    "amount_series = df.loc[:, 'Credit amount']\n",
    "df.loc[:, 'Credit amount'] = pd.qcut(amount_series, 5)\n",
    "\n",
    "duration_series = df.loc[:, 'Duration']\n",
    "df.loc[:, 'Duration'] = pd.qcut(duration_series, 5)\n",
    "\n",
    "duration_series = df.loc[:, 'Age']\n",
    "df.loc[:, 'Age'] = pd.qcut(duration_series, 5)\n",
    "\n",
    "# Set Job type to object for one-hot encoding\n",
    "df.loc[:, 'Job'] = df.loc[:, 'Job'].astype(object)\n",
    "\n",
    "# Perform one-hot encoding\n",
    "df = pd.get_dummies(df)\n",
    "# Drop binary features\n",
    "df = df.drop(columns=['Sex_male', 'Risk_bad'])\n",
    "\n",
    "print('Examples are represented as {}-dimensional vectors.'.format(len(df.columns)))\n",
    "\n",
    "# Separate features from targets\n",
    "df_X = df.iloc[:, :-1]\n",
    "df_y = df.iloc[:, -1]"
   ]
  },
  {
   "cell_type": "code",
   "execution_count": 4,
   "metadata": {
    "scrolled": true
   },
   "outputs": [
    {
     "name": "stdout",
     "output_type": "stream",
     "text": [
      "Shape of X: (1000, 38). Shape of y: (1000,).\n"
     ]
    },
    {
     "data": {
      "text/plain": [
       "((900, 38), (900,), (100, 38), (100,))"
      ]
     },
     "execution_count": 4,
     "metadata": {},
     "output_type": "execute_result"
    }
   ],
   "source": [
    "# Convert to numpy\n",
    "X = df_X.values.astype('int8')\n",
    "y = df_y.values.astype('int8')\n",
    "print('Shape of X: {}. Shape of y: {}.'.format(X.shape, y.shape))\n",
    "\n",
    "# Split into training and test sets\n",
    "X_train, X_test, y_train, y_test = train_test_split(X, y, test_size=0.1, random_state=seed)\n",
    "X_train.shape, y_train.shape, X_test.shape, y_test.shape"
   ]
  },
  {
   "cell_type": "code",
   "execution_count": 5,
   "metadata": {
    "scrolled": true
   },
   "outputs": [
    {
     "name": "stdout",
     "output_type": "stream",
     "text": [
      "Best score is: 73.44%. Best C is: 0.1585.\n",
      "Test score is: 71.00%.\n"
     ]
    }
   ],
   "source": [
    "# Fit logistic regression and perform CV\n",
    "clf = LogisticRegressionCV(\n",
    "    Cs=21, \n",
    "    cv=5, \n",
    "    n_jobs=-1, \n",
    "    random_state=seed\n",
    ")\n",
    "clf.fit(X_train, y_train)\n",
    "\n",
    "# Get best score and C value\n",
    "mean_scores = np.mean(clf.scores_[1], axis=0)\n",
    "best_idx = np.argmax(mean_scores)\n",
    "best_score = mean_scores[best_idx]\n",
    "best_C = clf.Cs_[best_idx]\n",
    "\n",
    "print('Best score is: {:.2f}%. Best C is: {:.4f}.'.format(best_score*100, best_C))\n",
    "print('Test score is: {:.2f}%.'.format(clf.score(X_test, y_test)*100))\n",
    "\n",
    "# Best score is: 73.44%. Best C is: 0.1585.\n",
    "# Test score is: 71.000%."
   ]
  },
  {
   "cell_type": "code",
   "execution_count": null,
   "metadata": {},
   "outputs": [],
   "source": [
    "# Fit SVM with RBF kernel using CV\n",
    "tuned_parameters = [\n",
    "    {\n",
    "        'kernel': ['rbf'], \n",
    "        'gamma': [0.01, 0.03, 0.05, 0.07], \n",
    "        'C': [1, 3, 5, 7, 10]\n",
    "    }\n",
    "]\n",
    "clf = GridSearchCV(SVC(), tuned_parameters, cv=5, n_jobs=-1)\n",
    "clf.fit(X_train, y_train)\n",
    "print('Best params are: {} with score: {:.2f}%.'.format(clf.best_params_, clf.best_score_ * 100))\n",
    "print('Test score is: {:.2f}%.'.format(clf.score(X_test, y_test)*100))\n",
    "\n",
    "# Best params are: {'C': 5, 'gamma': 0.03, 'kernel': 'rbf'} with score: 74.44%.\n",
    "# Test score is: 71.00%."
   ]
  },
  {
   "cell_type": "markdown",
   "metadata": {},
   "source": [
    "### Perform adversarial examples search"
   ]
  },
  {
   "cell_type": "code",
   "execution_count": 8,
   "metadata": {},
   "outputs": [],
   "source": [
    "class Node:\n",
    "    \n",
    "    amount_start_idx = df_X.columns.get_loc(\"Credit amount_(249.999, 1262.0]\")\n",
    "    duration_start_idx = df_X.columns.get_loc(\"Duration_(3.999, 12.0]\")\n",
    "    purpose_start_idx = df_X.columns.get_loc(\"Purpose_business\")\n",
    "    \n",
    "    def __init__(self, x):\n",
    "        self.root = x\n",
    "        self.static = self.root[:Node.amount_start_idx]\n",
    "        self.amount = self.root[Node.amount_start_idx:Node.duration_start_idx]\n",
    "        self.duration = self.root[Node.duration_start_idx:Node.purpose_start_idx]\n",
    "        self.purpose = self.root[Node.purpose_start_idx:]\n",
    "    \n",
    "    def _roll(self, x, direction='pos'):\n",
    "        idx = np.argmax(x)\n",
    "        if direction == 'pos' and idx != len(x) - 1:\n",
    "            return np.roll(x, 1).tolist()\n",
    "        elif direction == 'neg' and idx != 0:\n",
    "            return np.roll(x, -1).tolist()\n",
    "        return []\n",
    "\n",
    "    def _expand_roll(self, field):\n",
    "        child_fields = []\n",
    "        child_fields.append(self._roll(field, direction='pos'))\n",
    "        # Comment out next line to prevent duration and amount from decreasing\n",
    "        child_fields.append(self._roll(field, direction='neg'))\n",
    "        child_fields = [x for x in child_fields if len(x) > 0]\n",
    "        return np.array(child_fields, dtype='uint8')\n",
    "    \n",
    "    def _expand_all(self, field):\n",
    "        child_fields = []\n",
    "        for i in range(1, len(field)):\n",
    "            child_fields.append(np.roll(field, i))\n",
    "        return child_fields\n",
    "\n",
    "    def expand(self):\n",
    "        children = []\n",
    "        for c in self._expand_roll(self.amount):\n",
    "            child = np.concatenate((self.static, c, self.duration, self.purpose))\n",
    "            children.append(child)\n",
    "        for c in self._expand_roll(self.duration):\n",
    "            child = np.concatenate((self.static, self.amount, c, self.purpose))\n",
    "            children.append(child)\n",
    "        for c in self._expand_all(self.purpose):\n",
    "            child = np.concatenate((self.static, self.amount, self.duration, c))\n",
    "            children.append(child)\n",
    "        return children\n",
    "    \n",
    "    def __repr__(self):\n",
    "        return '<Node> {}.'.format(self.root)"
   ]
  },
  {
   "cell_type": "code",
   "execution_count": 12,
   "metadata": {},
   "outputs": [],
   "source": [
    "from trickster.trickster.search import a_star_search\n",
    "\n",
    "def _expand_fn(x):    \n",
    "    node = Node(x)\n",
    "    children = node.expand()\n",
    "    costs = [distance.euclidean(x, c) for c in children]\n",
    "    return list(zip(children, costs))\n",
    "\n",
    "def _goal_fn(x, clf, confidence):\n",
    "    return clf.predict_proba([x])[:, 1][0] >= confidence\n",
    "\n",
    "def _heuristic_fn(x, clf, norm):\n",
    "    return np.abs(clf.decision_function([x]))[0] / np.linalg.norm(clf.coef_, ord=norm)\n",
    "\n",
    "def _hash_fn(x):\n",
    "    return hash(x.tostring())\n",
    "\n",
    "def find_adversarial(x, clf, norm=2, confidence=0.5):\n",
    "    if not clf.predict([x])[0] == 0:\n",
    "        raise Exception('Initial example is already classified as good risk.')\n",
    "        \n",
    "    return a_star_search(\n",
    "        start_node=x, \n",
    "        expand_fn=_expand_fn, \n",
    "        goal_fn=lambda x: _goal_fn(x, clf, confidence), \n",
    "        heuristic_fn=lambda x: _heuristic_fn(x, clf, norm), \n",
    "        hash_fn=_hash_fn\n",
    "    )"
   ]
  },
  {
   "cell_type": "code",
   "execution_count": 15,
   "metadata": {},
   "outputs": [
    {
     "name": "stdout",
     "output_type": "stream",
     "text": [
      "\n",
      ">>>> Looking into (negative) test example #1.\n",
      ">> Adversarial example found with a cost: 2.00 and confidence: 55.03.\n",
      ">> Label: Duration_(12.0, 15.0]. Change: 0 -> 1.\n",
      ">> Label: Duration_(15.0, 24.0]. Change: 1 -> 0.\n",
      "\n",
      ">>>> Looking into (negative) test example #2.\n",
      ">> Adversarial example found with a cost: 2.00 and confidence: 60.05.\n",
      ">> Label: Credit amount_(2852.4, 4720.0]. Change: 0 -> 1.\n",
      ">> Label: Credit amount_(4720.0, 18424.0]. Change: 1 -> 0.\n",
      "\n",
      ">>>> Looking into (negative) test example #3.\n",
      ">> Adversarial example found with a cost: 8.00 and confidence: 51.05.\n",
      ">> Label: Credit amount_(1906.8, 2852.4]. Change: 1 -> 0.\n",
      ">> Label: Credit amount_(2852.4, 4720.0]. Change: 0 -> 1.\n",
      ">> Label: Duration_(12.0, 15.0]. Change: 0 -> 1.\n",
      ">> Label: Duration_(15.0, 24.0]. Change: 1 -> 0.\n",
      "\n",
      ">>>> Looking into (negative) test example #4.\n",
      ">> Adversarial example found with a cost: 2.00 and confidence: 51.46.\n",
      ">> Label: Credit amount_(2852.4, 4720.0]. Change: 0 -> 1.\n",
      ">> Label: Credit amount_(4720.0, 18424.0]. Change: 1 -> 0.\n",
      "\n",
      ">>>> Looking into (negative) test example #5.\n",
      ">> Adversarial example found with a cost: 2.00 and confidence: 50.88.\n",
      ">> Label: Credit amount_(2852.4, 4720.0]. Change: 0 -> 1.\n",
      ">> Label: Credit amount_(4720.0, 18424.0]. Change: 1 -> 0.\n",
      "\n",
      ">>>> Looking into (negative) test example #6.\n",
      ">> Adversarial example found with a cost: 8.00 and confidence: 52.02.\n",
      ">> Label: Credit amount_(2852.4, 4720.0]. Change: 0 -> 1.\n",
      ">> Label: Credit amount_(4720.0, 18424.0]. Change: 1 -> 0.\n",
      ">> Label: Purpose_furniture/equipment. Change: 0 -> 1.\n",
      ">> Label: Purpose_vacation/others. Change: 1 -> 0.\n",
      "\n",
      ">>>> Looking into (negative) test example #7.\n",
      ">> Adversarial example found with a cost: 8.00 and confidence: 51.05.\n",
      ">> Label: Duration_(12.0, 15.0]. Change: 0 -> 1.\n",
      ">> Label: Duration_(15.0, 24.0]. Change: 1 -> 0.\n",
      ">> Label: Purpose_car. Change: 1 -> 0.\n",
      ">> Label: Purpose_furniture/equipment. Change: 0 -> 1.\n",
      "\n",
      ">>>> Looking into (negative) test example #8.\n",
      ">> Adversarial example found with a cost: 2.00 and confidence: 58.77.\n",
      ">> Label: Credit amount_(2852.4, 4720.0]. Change: 0 -> 1.\n",
      ">> Label: Credit amount_(4720.0, 18424.0]. Change: 1 -> 0.\n",
      "\n",
      ">>>> Looking into (negative) test example #9.\n",
      ">> Adversarial example found with a cost: 2.00 and confidence: 57.16.\n",
      ">> Label: Duration_(12.0, 15.0]. Change: 0 -> 1.\n",
      ">> Label: Duration_(15.0, 24.0]. Change: 1 -> 0.\n",
      "\n",
      ">>>> Looking into (negative) test example #10.\n",
      ">> Adversarial example found with a cost: 8.00 and confidence: 50.85.\n",
      ">> Label: Credit amount_(2852.4, 4720.0]. Change: 0 -> 1.\n",
      ">> Label: Credit amount_(4720.0, 18424.0]. Change: 1 -> 0.\n",
      ">> Label: Purpose_furniture/equipment. Change: 1 -> 0.\n",
      ">> Label: Purpose_radio/TV. Change: 0 -> 1.\n",
      "\n",
      ">>>> Looking into (negative) test example #11.\n",
      ">> Adversarial example found with a cost: 18.00 and confidence: 51.12.\n",
      ">> Label: Credit amount_(249.999, 1262.0]. Change: 1 -> 0.\n",
      ">> Label: Credit amount_(1262.0, 1906.8]. Change: 0 -> 1.\n",
      ">> Label: Duration_(12.0, 15.0]. Change: 0 -> 1.\n",
      ">> Label: Duration_(15.0, 24.0]. Change: 1 -> 0.\n",
      ">> Label: Purpose_car. Change: 1 -> 0.\n",
      ">> Label: Purpose_radio/TV. Change: 0 -> 1.\n",
      "\n",
      ">>>> Looking into (negative) test example #12.\n",
      ">> Adversarial example found with a cost: 2.00 and confidence: 54.21.\n",
      ">> Label: Credit amount_(2852.4, 4720.0]. Change: 0 -> 1.\n",
      ">> Label: Credit amount_(4720.0, 18424.0]. Change: 1 -> 0.\n",
      "\n",
      ">>>> Looking into (negative) test example #13.\n",
      ">> Adversarial example found with a cost: 2.00 and confidence: 50.09.\n",
      ">> Label: Duration_(15.0, 24.0]. Change: 1 -> 0.\n",
      ">> Label: Duration_(24.0, 30.0]. Change: 0 -> 1.\n",
      "\n",
      ">>>> Looking into (negative) test example #14.\n",
      ">> Adversarial example found with a cost: 2.00 and confidence: 57.90.\n",
      ">> Label: Duration_(12.0, 15.0]. Change: 0 -> 1.\n",
      ">> Label: Duration_(15.0, 24.0]. Change: 1 -> 0.\n"
     ]
    }
   ],
   "source": [
    "adversarials = []\n",
    "labels = list(df_X)\n",
    "\n",
    "amount_start_idx = df_X.columns.get_loc(\"Credit amount_(249.999, 1262.0]\")\n",
    "duration_start_idx = df_X.columns.get_loc(\"Duration_(3.999, 12.0]\")\n",
    "purpose_start_idx = df_X.columns.get_loc(\"Purpose_business\")\n",
    "\n",
    "i = 0\n",
    "for x in X_test:\n",
    "    \n",
    "    # Check if example is already good risk\n",
    "    if clf.predict([x])[0] == 1:\n",
    "        continue\n",
    "    \n",
    "    i += 1\n",
    "    print('\\n>>>> Looking into (negative) test example #{}.'.format(i))\n",
    "    x_adv, cost = find_adversarial(x, clf, norm=2, confidence=0.5)\n",
    "    if x_adv is None:\n",
    "        continue\n",
    "    \n",
    "    confidence = clf.predict_proba([x_adv])[:, 1][0] * 100\n",
    "    print('>> Adversarial example found with a cost: {:.2f} and confidence: {:.2f}.'.format(cost**2, confidence))\n",
    "    \n",
    "    assert clf.predict([x_adv]) == 1\n",
    "    \n",
    "        \n",
    "    changes_idx = np.where(np.logical_xor(x, x_adv) == True)[0]\n",
    "    for idx in changes_idx:\n",
    "        print('>> Label: {}. Change: {} -> {}.'.format(labels[idx], x[idx], x_adv[idx]))"
   ]
  }
 ],
 "metadata": {
  "kernelspec": {
   "display_name": "Python 3",
   "language": "python",
   "name": "python3"
  },
  "language_info": {
   "codemirror_mode": {
    "name": "ipython",
    "version": 3
   },
   "file_extension": ".py",
   "mimetype": "text/x-python",
   "name": "python",
   "nbconvert_exporter": "python",
   "pygments_lexer": "ipython3",
   "version": "3.6.3"
  }
 },
 "nbformat": 4,
 "nbformat_minor": 2
}
