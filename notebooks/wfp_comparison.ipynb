{
 "cells": [
  {
   "cell_type": "code",
   "execution_count": 1,
   "metadata": {
    "tags": [
     "parameters"
    ]
   },
   "outputs": [],
   "source": [
    "REPORT_PATH = \"../out/reports/wfp_full__model_svmrbf__dummies_3__tracelen_500__iter_5000.pkl\"\n",
    "DEF_SUMMARY_PATH = \"../out/wfp_defenses/wfp_defense_compare.csv\"\n",
    "\n",
    "FIGS_PATH = '../out/images'\n",
    "FIGWIDTH = 8.5\n",
    "FIGHEIGHT = 6.5\n",
    "SAVE_PLOTS = True"
   ]
  },
  {
   "cell_type": "code",
   "execution_count": 2,
   "metadata": {},
   "outputs": [],
   "source": [
    "%load_ext autoreload\n",
    "%autoreload 2"
   ]
  },
  {
   "cell_type": "code",
   "execution_count": 3,
   "metadata": {},
   "outputs": [],
   "source": [
    "import sys\n",
    "sys.path.append('..')"
   ]
  },
  {
   "cell_type": "code",
   "execution_count": 4,
   "metadata": {},
   "outputs": [
    {
     "name": "stderr",
     "output_type": "stream",
     "text": [
      "/home/bogdan/Workspace/trickster/venv/lib/python3.6/site-packages/sklearn/cross_validation.py:41: DeprecationWarning: This module was deprecated in version 0.18 in favor of the model_selection module into which all the refactored classes and functions are moved. Also note that the interface of the new CV iterators are different from that of this module. This module will be removed in 0.20.\n",
      "  \"This module will be removed in 0.20.\", DeprecationWarning)\n"
     ]
    }
   ],
   "source": [
    "import warnings\n",
    "warnings.filterwarnings(\"ignore\")\n",
    "\n",
    "import os\n",
    "import pickle\n",
    "import seaborn as sns\n",
    "import pandas as pd\n",
    "import numpy as np\n",
    "import matplotlib\n",
    "import matplotlib.patches as mpatches\n",
    "import tqdm\n",
    "\n",
    "from joypy import joyplot\n",
    "\n",
    "from scipy.stats import entropy\n",
    "from scipy.stats import pearsonr\n",
    "from matplotlib import pyplot as plt\n",
    "from sklearn.feature_selection import f_regression\n",
    "from sklearn.cross_validation import train_test_split\n",
    "\n",
    "from trickster.domain.wfp import load_data, extract"
   ]
  },
  {
   "cell_type": "code",
   "execution_count": 5,
   "metadata": {},
   "outputs": [],
   "source": [
    "import plot_params"
   ]
  },
  {
   "cell_type": "code",
   "execution_count": 6,
   "metadata": {},
   "outputs": [],
   "source": [
    "def save_fig(fig, name_template, *args, **kwargs):\n",
    "    fig.savefig(os.path.join(FIGS_PATH, name_template.format(*args, **kwargs)))"
   ]
  },
  {
   "cell_type": "code",
   "execution_count": 7,
   "metadata": {},
   "outputs": [],
   "source": [
    "with open(REPORT_PATH, 'rb') as f:\n",
    "    adv_results = pickle.load(f)"
   ]
  },
  {
   "cell_type": "code",
   "execution_count": 8,
   "metadata": {},
   "outputs": [],
   "source": [
    "def_summary = pd.read_csv(DEF_SUMMARY_PATH)\n",
    "def_summary = def_summary.rename(columns={'idx': 'filename'})"
   ]
  },
  {
   "cell_type": "code",
   "execution_count": 9,
   "metadata": {},
   "outputs": [
    {
     "data": {
      "text/plain": [
       "array(['Original', 'CS BUFLO', 'Tamaraw', 'Decoy', 'WTF-PAD'],\n",
       "      dtype=object)"
      ]
     },
     "execution_count": 9,
     "metadata": {},
     "output_type": "execute_result"
    }
   ],
   "source": [
    "def_summary.defense.unique()"
   ]
  },
  {
   "cell_type": "code",
   "execution_count": 10,
   "metadata": {},
   "outputs": [],
   "source": [
    "gs_summary = pd.DataFrame(columns=[\n",
    "    'filename', 'trace len', 'defense', 'added packets', 'class', 'svm pred', 'lr pred'\n",
    "])\n",
    "for _, row in adv_results.iterrows():\n",
    "    if row.found:\n",
    "        gs_summary = gs_summary.append({\n",
    "            'filename': row.filename,\n",
    "            'trace len': len(row.adv_x),\n",
    "            'added packets': len(row.adv_x) - len(row.x),\n",
    "            'svm pred': 1,\n",
    "            'defense': 'Ours'\n",
    "        }, ignore_index=True)\n",
    "    else:\n",
    "        gs_summary = gs_summary.append({\n",
    "            'filename': row.filename,\n",
    "            'trace len': len(row.x),\n",
    "            'svm pred': 0,\n",
    "            'defense': 'Ours'\n",
    "        }, ignore_index=True)"
   ]
  },
  {
   "cell_type": "code",
   "execution_count": 11,
   "metadata": {},
   "outputs": [],
   "source": [
    "all_defenses_summary = gs_summary.append(def_summary.query(\"defense != 'Original'\"))"
   ]
  },
  {
   "cell_type": "code",
   "execution_count": 12,
   "metadata": {},
   "outputs": [],
   "source": [
    "GS_DEF_NAME = \"Our baseline\""
   ]
  },
  {
   "cell_type": "code",
   "execution_count": 13,
   "metadata": {},
   "outputs": [
    {
     "data": {
      "text/html": [
       "<div>\n",
       "<style scoped>\n",
       "    .dataframe tbody tr th:only-of-type {\n",
       "        vertical-align: middle;\n",
       "    }\n",
       "\n",
       "    .dataframe tbody tr th {\n",
       "        vertical-align: top;\n",
       "    }\n",
       "\n",
       "    .dataframe thead th {\n",
       "        text-align: right;\n",
       "    }\n",
       "</style>\n",
       "<table border=\"1\" class=\"dataframe\">\n",
       "  <thead>\n",
       "    <tr style=\"text-align: right;\">\n",
       "      <th></th>\n",
       "      <th>defense</th>\n",
       "      <th>success</th>\n",
       "    </tr>\n",
       "  </thead>\n",
       "  <tbody>\n",
       "    <tr>\n",
       "      <th>0</th>\n",
       "      <td>Our baseline</td>\n",
       "      <td>True</td>\n",
       "    </tr>\n",
       "    <tr>\n",
       "      <th>1</th>\n",
       "      <td>Our baseline</td>\n",
       "      <td>True</td>\n",
       "    </tr>\n",
       "    <tr>\n",
       "      <th>2</th>\n",
       "      <td>Our baseline</td>\n",
       "      <td>True</td>\n",
       "    </tr>\n",
       "    <tr>\n",
       "      <th>3</th>\n",
       "      <td>Our baseline</td>\n",
       "      <td>True</td>\n",
       "    </tr>\n",
       "    <tr>\n",
       "      <th>4</th>\n",
       "      <td>Our baseline</td>\n",
       "      <td>True</td>\n",
       "    </tr>\n",
       "  </tbody>\n",
       "</table>\n",
       "</div>"
      ],
      "text/plain": [
       "        defense  success\n",
       "0  Our baseline     True\n",
       "1  Our baseline     True\n",
       "2  Our baseline     True\n",
       "3  Our baseline     True\n",
       "4  Our baseline     True"
      ]
     },
     "execution_count": 13,
     "metadata": {},
     "output_type": "execute_result"
    }
   ],
   "source": [
    "success_data = pd.DataFrame(columns=[\"defense\", \"success\"])\n",
    "success_data.defense = all_defenses_summary.defense.replace({\"Ours\": GS_DEF_NAME})\n",
    "success_data.success = all_defenses_summary[\"svm pred\"] == 1 | (~all_defenses_summary[\"added packets\"].isna())\n",
    "success_data.head()"
   ]
  },
  {
   "cell_type": "code",
   "execution_count": 14,
   "metadata": {},
   "outputs": [
    {
     "data": {
      "text/html": [
       "<div>\n",
       "<style scoped>\n",
       "    .dataframe tbody tr th:only-of-type {\n",
       "        vertical-align: middle;\n",
       "    }\n",
       "\n",
       "    .dataframe tbody tr th {\n",
       "        vertical-align: top;\n",
       "    }\n",
       "\n",
       "    .dataframe thead th {\n",
       "        text-align: right;\n",
       "    }\n",
       "</style>\n",
       "<table border=\"1\" class=\"dataframe\">\n",
       "  <thead>\n",
       "    <tr style=\"text-align: right;\">\n",
       "      <th></th>\n",
       "      <th>CS BUFLO</th>\n",
       "      <th>Decoy</th>\n",
       "      <th>Our baseline</th>\n",
       "      <th>Tamaraw</th>\n",
       "      <th>WTF-PAD</th>\n",
       "    </tr>\n",
       "  </thead>\n",
       "  <tbody>\n",
       "    <tr>\n",
       "      <th>10-25</th>\n",
       "      <td>410.0</td>\n",
       "      <td>1065.0</td>\n",
       "      <td>12</td>\n",
       "      <td>2414.0</td>\n",
       "      <td>1644.0</td>\n",
       "    </tr>\n",
       "    <tr>\n",
       "      <th>81-17</th>\n",
       "      <td>348.0</td>\n",
       "      <td>1485.0</td>\n",
       "      <td>3</td>\n",
       "      <td>1416.0</td>\n",
       "      <td>506.0</td>\n",
       "    </tr>\n",
       "    <tr>\n",
       "      <th>81-12</th>\n",
       "      <td>97.0</td>\n",
       "      <td>1834.0</td>\n",
       "      <td>6</td>\n",
       "      <td>1021.0</td>\n",
       "      <td>46.0</td>\n",
       "    </tr>\n",
       "    <tr>\n",
       "      <th>10-66</th>\n",
       "      <td>290.0</td>\n",
       "      <td>2645.0</td>\n",
       "      <td>9</td>\n",
       "      <td>1722.0</td>\n",
       "      <td>422.0</td>\n",
       "    </tr>\n",
       "    <tr>\n",
       "      <th>10-47</th>\n",
       "      <td>163.0</td>\n",
       "      <td>1512.0</td>\n",
       "      <td>9</td>\n",
       "      <td>1223.0</td>\n",
       "      <td>762.0</td>\n",
       "    </tr>\n",
       "  </tbody>\n",
       "</table>\n",
       "</div>"
      ],
      "text/plain": [
       "       CS BUFLO   Decoy  Our baseline  Tamaraw  WTF-PAD\n",
       "10-25     410.0  1065.0            12   2414.0   1644.0\n",
       "81-17     348.0  1485.0             3   1416.0    506.0\n",
       "81-12      97.0  1834.0             6   1021.0     46.0\n",
       "10-66     290.0  2645.0             9   1722.0    422.0\n",
       "10-47     163.0  1512.0             9   1223.0    762.0"
      ]
     },
     "execution_count": 14,
     "metadata": {},
     "output_type": "execute_result"
    }
   ],
   "source": [
    "overhead_data = pd.DataFrame()\n",
    "for _, row in gs_summary.iterrows():\n",
    "    t = def_summary.query(\"filename=='%s' and defense!='Original'\" % row.filename)\n",
    "    def_overheads = t.pivot_table(\n",
    "        columns=\"defense\",\n",
    "        values=\"added packets\",\n",
    "        index=\"filename\"\n",
    "    )\n",
    "    adv_ex_overhead = pd.DataFrame(\n",
    "        {GS_DEF_NAME: row[\"added packets\"] if row['svm pred'] == 1 else 0},\n",
    "        index=[row[\"filename\"]]\n",
    "    )\n",
    "    full_overhead = pd.concat([adv_ex_overhead, def_overheads], axis=1)\n",
    "    overhead_data = overhead_data.append(full_overhead)\n",
    "    \n",
    "overhead_data.head()"
   ]
  },
  {
   "cell_type": "code",
   "execution_count": 15,
   "metadata": {},
   "outputs": [
    {
     "data": {
      "image/png": "[encoded data removed]",
      "text/plain": [
       "<Figure size 612x468 with 1 Axes>"
      ]
     },
     "metadata": {
      "needs_background": "light"
     },
     "output_type": "display_data"
    }
   ],
   "source": [
    "clean_overhead_data = overhead_data.dropna()\n",
    "increase_data = pd.DataFrame()\n",
    "for defense in [GS_DEF_NAME, 'CS BUFLO', 'Tamaraw', 'Decoy', 'WTF-PAD']:\n",
    "    df = clean_overhead_data\n",
    "    increase_data = increase_data.append(\n",
    "        pd.concat({\n",
    "            \"increase\": df[defense] / df[GS_DEF_NAME],\n",
    "            \"defense\": pd.Series([defense] * len(df), index=df.index)\n",
    "        }, axis=1), ignore_index=True\n",
    "    )\n",
    "increase_data = increase_data[increase_data[\"increase\"] != np.inf]\n",
    "    \n",
    "fig, ax = plt.subplots()\n",
    "sns.boxplot(data=increase_data, x=\"increase\", y=\"defense\", ax=ax)\n",
    "ax.set_xscale(\"symlog\")\n",
    "\n",
    "ax.vlines(1, -1, 10, linestyles=\"--\", color=\"lightgray\")\n",
    "\n",
    "ax.set_xlabel(\"Overhead, $\\\\times$\")\n",
    "ax.set_ylabel(\"Defense\")\n",
    "\n",
    "fig.set_figwidth(FIGWIDTH)\n",
    "fig.set_figheight(FIGHEIGHT)\n",
    "\n",
    "if SAVE_PLOTS:\n",
    "    save_fig(fig, 'wfp_defs_overhead_comparison.pdf')"
   ]
  },
  {
   "cell_type": "code",
   "execution_count": 16,
   "metadata": {},
   "outputs": [
    {
     "data": {
      "text/html": [
       "<div>\n",
       "<style scoped>\n",
       "    .dataframe tbody tr th:only-of-type {\n",
       "        vertical-align: middle;\n",
       "    }\n",
       "\n",
       "    .dataframe tbody tr th {\n",
       "        vertical-align: top;\n",
       "    }\n",
       "\n",
       "    .dataframe thead th {\n",
       "        text-align: right;\n",
       "    }\n",
       "</style>\n",
       "<table border=\"1\" class=\"dataframe\">\n",
       "  <thead>\n",
       "    <tr style=\"text-align: right;\">\n",
       "      <th>defense</th>\n",
       "      <th>CS BUFLO</th>\n",
       "      <th>Decoy</th>\n",
       "      <th>Tamaraw</th>\n",
       "      <th>WTF-PAD</th>\n",
       "    </tr>\n",
       "  </thead>\n",
       "  <tbody>\n",
       "    <tr>\n",
       "      <th>bad_baseline</th>\n",
       "      <td>0.047431</td>\n",
       "      <td>0.019763</td>\n",
       "      <td>0.00000</td>\n",
       "      <td>0.051383</td>\n",
       "    </tr>\n",
       "    <tr>\n",
       "      <th>success</th>\n",
       "      <td>0.478261</td>\n",
       "      <td>0.905138</td>\n",
       "      <td>0.83004</td>\n",
       "      <td>0.434783</td>\n",
       "    </tr>\n",
       "  </tbody>\n",
       "</table>\n",
       "</div>"
      ],
      "text/plain": [
       "defense       CS BUFLO     Decoy  Tamaraw   WTF-PAD\n",
       "bad_baseline  0.047431  0.019763  0.00000  0.051383\n",
       "success       0.478261  0.905138  0.83004  0.434783"
      ]
     },
     "execution_count": 16,
     "metadata": {},
     "output_type": "execute_result"
    }
   ],
   "source": [
    "overhead_delta_data = pd.DataFrame()\n",
    "for defense in ['CS BUFLO', 'Tamaraw', 'Decoy', 'WTF-PAD']:\n",
    "    df = overhead_data\n",
    "    bad_baseline = df[defense] < df[GS_DEF_NAME]\n",
    "    success_mask = (def_summary[\"svm pred\"] == 1) & (def_summary[\"defense\"] == defense)\n",
    "    success_filenames = def_summary[success_mask][\"filename\"]\n",
    "    overhead_delta_data = overhead_delta_data.append(\n",
    "        pd.concat({\n",
    "            \"bad_baseline\": bad_baseline,\n",
    "            \"success\": pd.Series(df.index.isin(success_filenames), index=df.index),\n",
    "            \"defense\": pd.Series([defense] * len(df), index=df.index)\n",
    "        }, axis=1), ignore_index=True\n",
    "    )\n",
    "\n",
    "overhead_delta_data.pivot_table(columns=\"defense\")"
   ]
  },
  {
   "cell_type": "code",
   "execution_count": 17,
   "metadata": {},
   "outputs": [
    {
     "data": {
      "image/png": "[encoded data removed]",
      "text/plain": [
       "<Figure size 612x468 with 1 Axes>"
      ]
     },
     "metadata": {
      "needs_background": "light"
     },
     "output_type": "display_data"
    }
   ],
   "source": [
    "fig, ax = plt.subplots()\n",
    "\n",
    "baseline_mean = success_data.query(\"defense == '%s'\" % GS_DEF_NAME).success.mean()\n",
    "ax.vlines(baseline_mean * 100, -.5, 4.5, linestyles=\"--\", color=\"lightgray\")\n",
    "sns.barplot(\n",
    "    data=success_data, x=\"success\", y=\"defense\",\n",
    "    estimator=lambda vals: vals.mean() * 100,\n",
    "    alpha=0.75,\n",
    "    ax=ax)\n",
    "\n",
    "ax.set_xlabel(\"Success, \\%\")\n",
    "ax.set_ylabel(\"Defense\")\n",
    "\n",
    "fig.set_figwidth(FIGWIDTH)\n",
    "fig.set_figheight(FIGHEIGHT)\n",
    "\n",
    "if SAVE_PLOTS:\n",
    "    save_fig(fig, 'wfp_defs_success_comparison.pdf')"
   ]
  }
 ],
 "metadata": {
  "celltoolbar": "Tags",
  "kernelspec": {
   "display_name": "Python 3",
   "language": "python",
   "name": "python3"
  },
  "language_info": {
   "codemirror_mode": {
    "name": "ipython",
    "version": 3
   },
   "file_extension": ".py",
   "mimetype": "text/x-python",
   "name": "python",
   "nbconvert_exporter": "python",
   "pygments_lexer": "ipython3",
   "version": "3.6.7"
  }
 },
 "nbformat": 4,
 "nbformat_minor": 2
}
