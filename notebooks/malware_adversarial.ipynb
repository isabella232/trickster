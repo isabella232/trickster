{
 "cells": [
  {
   "cell_type": "code",
   "execution_count": 1,
   "metadata": {},
   "outputs": [],
   "source": [
    "%load_ext autoreload\n",
    "%autoreload 2"
   ]
  },
  {
   "cell_type": "code",
   "execution_count": 13,
   "metadata": {},
   "outputs": [],
   "source": [
    "import sys\n",
    "sys.path.append('..')\n",
    "\n",
    "import warnings\n",
    "warnings.filterwarnings('ignore')"
   ]
  },
  {
   "cell_type": "code",
   "execution_count": 3,
   "metadata": {
    "scrolled": true
   },
   "outputs": [],
   "source": [
    "import numpy as np\n",
    "import pandas as pd\n",
    "from os import listdir\n",
    "from sklearn.model_selection import train_test_split\n",
    "from sklearn.preprocessing import LabelEncoder\n",
    "from sklearn.linear_model import LogisticRegressionCV\n",
    "from scipy.sparse import csr_matrix, save_npz, load_npz\n",
    "\n",
    "from trickster.saliency import *\n",
    "\n",
    "MANIFEST_FEATURES = [    # corresponds to...\n",
    "    'provider',          # \"Hardware Components\" \n",
    "    'permission',        # \"Permissions\"\n",
    "    'activity',          # \"Components\" (185,729 / 218,951)\n",
    "    'service_receiver',  # \"Components\" (33,222  / 218,951)\n",
    "    'intent'             # \"Intents\"\n",
    "]                        # ... in the Grosse et al. paper\n",
    "\n",
    "seed = 2018"
   ]
  },
  {
   "cell_type": "code",
   "execution_count": 4,
   "metadata": {},
   "outputs": [],
   "source": [
    "# Record hashes corresponding to malware applications\n",
    "df = pd.read_csv('data/drebin_malware_sha256.csv')\n",
    "malware_hashes = set(df['sha256'])"
   ]
  },
  {
   "cell_type": "code",
   "execution_count": 5,
   "metadata": {
    "scrolled": false
   },
   "outputs": [],
   "source": [
    "data_dir = 'data/drebin/'\n",
    "\n",
    "# Load the data and record the feature set\n",
    "data, labels, features = [], [], set()\n",
    "subset = 1000 # use only a subset of the dataset\n",
    "\n",
    "for file_path in listdir(data_dir)[:subset]:\n",
    "    with open(data_dir + file_path) as f:\n",
    "        lines = [x.strip() for x in f]\n",
    "        if lines == '':\n",
    "            continue\n",
    "        data.append(lines)\n",
    "        features |= set(lines)\n",
    "        label = 1 if file_path in malware_hashes else 0\n",
    "        labels.append(label)"
   ]
  },
  {
   "cell_type": "code",
   "execution_count": 6,
   "metadata": {
    "scrolled": true
   },
   "outputs": [
    {
     "name": "stdout",
     "output_type": "stream",
     "text": [
      "feature: 19\n",
      "url: 5928\n",
      "api_call: 128\n",
      "call: 128\n",
      "permission: 190\n",
      "real_permission: 40\n",
      "activity: 3168\n",
      "intent: 214\n",
      "service_receiver: 662\n",
      "provider: 68\n",
      "Sum of all features: 10545.\n"
     ]
    }
   ],
   "source": [
    "# Provide statistics about the feature classes in the DREBIN dataset\n",
    "\n",
    "classes, seen = {}, set()\n",
    "for d in data:\n",
    "    for feature in d:\n",
    "        if feature in seen:\n",
    "            continue\n",
    "        seen.add(feature)\n",
    "        f = feature.split('::')[0]\n",
    "        if f == '':\n",
    "            continue\n",
    "        classes[f] = classes.get(f, 0) + 1\n",
    "        \n",
    "classes_count = sum(classes.values())\n",
    "\n",
    "for k, v in classes.items():\n",
    "    print('{}: {}'.format(k, v))\n",
    "print('Sum of all features: {}.'.format(classes_count))"
   ]
  },
  {
   "cell_type": "code",
   "execution_count": 7,
   "metadata": {},
   "outputs": [
    {
     "name": "stdout",
     "output_type": "stream",
     "text": [
      "Label encoded 500 examples.\n",
      "Shape of X: (1000, 10545). Shape of y: (1000,).\n"
     ]
    }
   ],
   "source": [
    "# Fit a label encoder and transform the input data\n",
    "label_encoder = LabelEncoder()\n",
    "label_encoder.fit(list(features))\n",
    "\n",
    "encoded = []\n",
    "for i, x in enumerate(data):\n",
    "    if i != 0 and i % 500 == 0:\n",
    "        print('Label encoded {} examples.'.format(i))\n",
    "    e = label_encoder.transform(x)\n",
    "    encoded.append(e)\n",
    "\n",
    "# Create a sparse binary matrix from the input data\n",
    "indptr = np.cumsum([0] + [len(x) for x in encoded])\n",
    "indices = np.concatenate(encoded)\n",
    "ones = np.ones(indices.size)\n",
    "\n",
    "N, K = len(data), len(features)\n",
    "X = csr_matrix((ones, indices, indptr), shape=(N, K))\n",
    "y = np.array(labels)\n",
    "print('Shape of X: {}. Shape of y: {}.'.format(X.shape, y.shape))"
   ]
  },
  {
   "cell_type": "code",
   "execution_count": 8,
   "metadata": {},
   "outputs": [
    {
     "data": {
      "text/plain": [
       "((900, 10545), (900,), (100, 10545), (100,))"
      ]
     },
     "execution_count": 8,
     "metadata": {},
     "output_type": "execute_result"
    }
   ],
   "source": [
    "# Uncomment to save & load data for future use\n",
    "\n",
    "# save_npz('data/tmp/malware_X.npz', X)\n",
    "# np.save('data/tmp/malware_y.npy', y)\n",
    "\n",
    "# X = load_npz('data/tmp/malware_X.npz')\n",
    "# y = np.load('data/tmp/malware_y.npy')\n",
    "\n",
    "# Split into training and test sets\n",
    "X_train, X_test, y_train, y_test = train_test_split(X, y, test_size=0.1, random_state=seed)\n",
    "X_train.shape, y_train.shape, X_test.shape, y_test.shape"
   ]
  },
  {
   "cell_type": "code",
   "execution_count": 9,
   "metadata": {},
   "outputs": [
    {
     "name": "stdout",
     "output_type": "stream",
     "text": [
      "Training score for a constant model f(x) = 0 is: 95.11%.\n",
      "Training accuracy is: 99.78%. Best C is: 0.7000. Class weight: balanced. Scoring: accuracy.\n"
     ]
    }
   ],
   "source": [
    "# Fit logistic regression and perform CV\n",
    "\n",
    "Cs = np.arange(0.5, 1.5, 0.025)\n",
    "class_weight = 'balanced' # balanced or None\n",
    "scoring = 'accuracy' # accuracy or roc_auc\n",
    "\n",
    "clf = LogisticRegressionCV(\n",
    "    Cs=Cs, \n",
    "    cv=5, \n",
    "    n_jobs=-1, \n",
    "    penalty='l2',\n",
    "    scoring=scoring,\n",
    "    class_weight=class_weight,\n",
    "    random_state=seed\n",
    ")\n",
    "clf.fit(X_train, y_train)\n",
    "\n",
    "# Get best score and C value\n",
    "mean_scores = np.mean(clf.scores_[1], axis=0)\n",
    "best_idx = np.argmax(mean_scores)\n",
    "best_score = mean_scores[best_idx]\n",
    "best_C = clf.Cs_[best_idx]\n",
    "\n",
    "constant_acc = 1 - sum(y_train) / len(y_train)\n",
    "print('Training score for a constant model f(x) = 0 is: {:.2f}%.'.format(constant_acc*100))\n",
    "print('Training accuracy is: {:.2f}%. Best C is: {:.4f}. Class weight: {}. Scoring: {}.'\n",
    "      .format(clf.score(X_train, y_train)*100, best_C, class_weight, scoring))\n",
    "\n",
    "# Training score for a constant model f(x) = 0 is: 95.11%.\n",
    "# Training accuracy is: 99.78%. Best C is: 0.7000. Class weight: balanced. Scoring: accuracy."
   ]
  },
  {
   "cell_type": "code",
   "execution_count": 10,
   "metadata": {},
   "outputs": [
    {
     "name": "stdout",
     "output_type": "stream",
     "text": [
      "Test score for a constant model f(x) = 0 is: 93.00%.\n",
      "Test accuracy is: 98.00%.\n"
     ]
    }
   ],
   "source": [
    "constant_acc = 1 - sum(y_test) / len(y_test)\n",
    "print('Test score for a constant model f(x) = 0 is: {:.2f}%.'.format(constant_acc*100))\n",
    "print('Test accuracy is: {:.2f}%.'.format(clf.score(X_test, y_test)*100))\n",
    "\n",
    "# Test score for a constant model f(x) = 0 is: 95.50%.\n",
    "# Test accuracy is: 97.40%."
   ]
  },
  {
   "cell_type": "code",
   "execution_count": 11,
   "metadata": {},
   "outputs": [],
   "source": [
    "def get_feature_class(idx, label_encoder):\n",
    "    feature = label_encoder.inverse_transform(idx)\n",
    "    return feature.split('::')[0]\n",
    "\n",
    "# Replicate Algorithm 1 from Grosse et al. paper\n",
    "def find_adversarial(x, clf, oracle, label_encoder, k=20):\n",
    "    if clf.predict([x]) == 0:\n",
    "        raise Exception('Initial example is already classified as bening.')\n",
    "    x_star = np.array(x, dtype='intc')\n",
    "    distortions = 0\n",
    "    while clf.predict([x_star]) != 0 and distortions < k:\n",
    "        derivative = oracle.eval(x_star)\n",
    "        idxs = np.argsort(derivative)\n",
    "        for i, idx in enumerate(idxs):\n",
    "            # Check if changing the feature is permitted.\n",
    "            if x_star[idx] == 0 and get_feature_class(idx, label_encoder) in MANIFEST_FEATURES:\n",
    "                x_star[idx] = 1\n",
    "                break\n",
    "            if i == len(idxs) - 1:\n",
    "                raise Exception('Adversarial example is impossible to create.')\n",
    "        distortions += 1\n",
    "    if distortions == k:\n",
    "        raise Exception('Distortion bound reached.')\n",
    "    return x_star"
   ]
  },
  {
   "cell_type": "code",
   "execution_count": 14,
   "metadata": {
    "scrolled": false
   },
   "outputs": [
    {
     "name": "stdout",
     "output_type": "stream",
     "text": [
      "\n",
      "Crafting adversarial example for example: 18.\n",
      "Start probability: 0.08. Resulting probability: 0.54.\n",
      "\n",
      "Crafting adversarial example for example: 102.\n",
      "Distortion bound reached.\n",
      "\n",
      "Crafting adversarial example for example: 119.\n",
      "Start probability: 0.19. Resulting probability: 0.56.\n",
      "\n",
      "Crafting adversarial example for example: 125.\n",
      "Start probability: 0.01. Resulting probability: 0.53.\n",
      "\n",
      "Crafting adversarial example for example: 126.\n",
      "Start probability: 0.02. Resulting probability: 0.53.\n",
      "\n",
      "Crafting adversarial example for example: 132.\n",
      "Start probability: 0.01. Resulting probability: 0.50.\n",
      "\n",
      "Crafting adversarial example for example: 166.\n",
      "Distortion bound reached.\n",
      "\n",
      "Crafting adversarial example for example: 215.\n",
      "Start probability: 0.02. Resulting probability: 0.55.\n",
      "\n",
      "Crafting adversarial example for example: 217.\n",
      "Start probability: 0.02. Resulting probability: 0.54.\n",
      "\n",
      "Crafting adversarial example for example: 230.\n",
      "Start probability: 0.38. Resulting probability: 0.51.\n",
      "\n",
      "Crafting adversarial example for example: 250.\n",
      "Start probability: 0.03. Resulting probability: 0.53.\n",
      "\n",
      "Crafting adversarial example for example: 279.\n",
      "Distortion bound reached.\n",
      "\n",
      "Crafting adversarial example for example: 291.\n",
      "Distortion bound reached.\n",
      "\n",
      "Crafting adversarial example for example: 300.\n",
      "Start probability: 0.08. Resulting probability: 0.52.\n",
      "\n",
      "Crafting adversarial example for example: 362.\n",
      "Start probability: 0.04. Resulting probability: 0.54.\n",
      "\n",
      "Crafting adversarial example for example: 367.\n",
      "Start probability: 0.01. Resulting probability: 0.52.\n",
      "\n",
      "Crafting adversarial example for example: 368.\n",
      "Distortion bound reached.\n",
      "\n",
      "Crafting adversarial example for example: 381.\n",
      "Start probability: 0.01. Resulting probability: 0.53.\n",
      "\n",
      "Crafting adversarial example for example: 385.\n",
      "Distortion bound reached.\n",
      "\n",
      "Crafting adversarial example for example: 411.\n",
      "Start probability: 0.02. Resulting probability: 0.55.\n",
      "\n",
      "Crafting adversarial example for example: 439.\n",
      "Start probability: 0.03. Resulting probability: 0.52.\n",
      "\n",
      "Crafting adversarial example for example: 444.\n",
      "Start probability: 0.14. Resulting probability: 0.53.\n",
      "\n",
      "Crafting adversarial example for example: 451.\n",
      "Start probability: 0.41. Resulting probability: 0.54.\n",
      "\n",
      "Crafting adversarial example for example: 506.\n",
      "Start probability: 0.02. Resulting probability: 0.51.\n",
      "\n",
      "Crafting adversarial example for example: 542.\n",
      "Distortion bound reached.\n",
      "\n",
      "Crafting adversarial example for example: 594.\n",
      "Start probability: 0.07. Resulting probability: 0.52.\n",
      "\n",
      "Crafting adversarial example for example: 596.\n",
      "Start probability: 0.02. Resulting probability: 0.55.\n",
      "\n",
      "Crafting adversarial example for example: 607.\n",
      "Start probability: 0.13. Resulting probability: 0.55.\n",
      "\n",
      "Crafting adversarial example for example: 612.\n",
      "Start probability: 0.03. Resulting probability: 0.51.\n",
      "\n",
      "Crafting adversarial example for example: 618.\n",
      "Start probability: 0.02. Resulting probability: 0.55.\n",
      "\n",
      "Crafting adversarial example for example: 621.\n",
      "Distortion bound reached.\n",
      "\n",
      "Crafting adversarial example for example: 661.\n",
      "Distortion bound reached.\n",
      "\n",
      "Crafting adversarial example for example: 669.\n",
      "Start probability: 0.01. Resulting probability: 0.52.\n",
      "\n",
      "Crafting adversarial example for example: 683.\n",
      "Start probability: 0.04. Resulting probability: 0.54.\n",
      "\n",
      "Crafting adversarial example for example: 690.\n",
      "Start probability: 0.04. Resulting probability: 0.51.\n",
      "\n",
      "Crafting adversarial example for example: 703.\n",
      "Start probability: 0.07. Resulting probability: 0.55.\n",
      "\n",
      "Crafting adversarial example for example: 732.\n",
      "Start probability: 0.02. Resulting probability: 0.54.\n",
      "\n",
      "Crafting adversarial example for example: 803.\n",
      "Start probability: 0.04. Resulting probability: 0.54.\n",
      "\n",
      "Crafting adversarial example for example: 808.\n",
      "Start probability: 0.02. Resulting probability: 0.51.\n",
      "\n",
      "Crafting adversarial example for example: 813.\n",
      "Start probability: 0.02. Resulting probability: 0.54.\n",
      "\n",
      "Crafting adversarial example for example: 817.\n",
      "Start probability: 0.01. Resulting probability: 0.51.\n",
      "\n",
      "Crafting adversarial example for example: 824.\n",
      "Start probability: 0.04. Resulting probability: 0.53.\n",
      "\n",
      "Crafting adversarial example for example: 831.\n",
      "Distortion bound reached.\n",
      "\n",
      "Crafting adversarial example for example: 844.\n",
      "Start probability: 0.01. Resulting probability: 0.52.\n",
      "\n",
      "Crafting adversarial example for example: 848.\n",
      "Start probability: 0.02. Resulting probability: 0.55.\n",
      "\n",
      "Crafting adversarial example for example: 880.\n",
      "Start probability: 0.02. Resulting probability: 0.54.\n",
      "\n",
      "Crafting adversarial example for example: 881.\n",
      "Start probability: 0.02. Resulting probability: 0.53.\n",
      "\n",
      "Crafting adversarial example for example: 883.\n",
      "Start probability: 0.03. Resulting probability: 0.52.\n",
      "\n",
      "Crafting adversarial example for example: 912.\n",
      "Start probability: 0.03. Resulting probability: 0.53.\n",
      "\n",
      "Crafting adversarial example for example: 989.\n",
      "Start probability: 0.04. Resulting probability: 0.54.\n",
      "\n",
      "Crafting adversarial example for example: 998.\n",
      "Start probability: 0.04. Resulting probability: 0.53.\n"
     ]
    }
   ],
   "source": [
    "oracle = LogisticRegressionScikitSaliencyOracle(clf)\n",
    "\n",
    "for i, x in enumerate(X):\n",
    "    x = x.toarray()[0]\n",
    "    if clf.predict([x]) == 1:\n",
    "        print('\\nCrafting adversarial example for example: {}.'.format(i))\n",
    "        try:\n",
    "            x_adv = find_adversarial(x, clf, oracle, label_encoder, k=20)\n",
    "        except Exception as e:\n",
    "            print(e)\n",
    "            continue\n",
    "        x_prob, x_adv_prob = clf.predict_proba([x])[0, 0], clf.predict_proba([x_adv])[0, 0]\n",
    "        print('Start probability: {:.2f}. Resulting probability: {:.2f}.'.format(x_prob, x_adv_prob))"
   ]
  }
 ],
 "metadata": {
  "kernelspec": {
   "display_name": "Python 3",
   "language": "python",
   "name": "python3"
  },
  "language_info": {
   "codemirror_mode": {
    "name": "ipython",
    "version": 3
   },
   "file_extension": ".py",
   "mimetype": "text/x-python",
   "name": "python",
   "nbconvert_exporter": "python",
   "pygments_lexer": "ipython3",
   "version": "3.6.5"
  }
 },
 "nbformat": 4,
 "nbformat_minor": 2
}
