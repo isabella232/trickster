{
 "cells": [
  {
   "cell_type": "markdown",
   "metadata": {},
   "source": [
    "## SVM-RBF heuristics\n",
    "\n",
    "These are experiments with lower bounds on adversarial robustness from Hein & Andriushchenko, 2017"
   ]
  },
  {
   "cell_type": "code",
   "execution_count": 1,
   "metadata": {},
   "outputs": [],
   "source": [
    "import numpy as np\n",
    "import matplotlib.pyplot as plt\n",
    "import seaborn as sns\n",
    "import tqdm\n",
    "from sklearn import svm, datasets\n",
    "from sklearn.metrics.pairwise import rbf_kernel"
   ]
  },
  {
   "cell_type": "code",
   "execution_count": 2,
   "metadata": {},
   "outputs": [],
   "source": [
    "def make_meshgrid(x, y, h=.02):\n",
    "    \"\"\"Create a mesh of points to plot in\n",
    "\n",
    "    Parameters\n",
    "    ----------\n",
    "    x: data to base x-axis meshgrid on\n",
    "    y: data to base y-axis meshgrid on\n",
    "    h: stepsize for meshgrid, optional\n",
    "\n",
    "    Returns\n",
    "    -------\n",
    "    xx, yy : ndarray\n",
    "    \"\"\"\n",
    "    x_min, x_max = x.min() - 1, x.max() + 1\n",
    "    y_min, y_max = y.min() - 1, y.max() + 1\n",
    "    xx, yy = np.meshgrid(np.arange(x_min, x_max, h),\n",
    "                         np.arange(y_min, y_max, h))\n",
    "    return xx, yy\n",
    "\n",
    "\n",
    "def plot_contours(ax, clf, xx, yy, **params):\n",
    "    \"\"\"Plot the decision boundaries for a classifier.\n",
    "\n",
    "    Parameters\n",
    "    ----------\n",
    "    ax: matplotlib axes object\n",
    "    clf: a classifier\n",
    "    xx: meshgrid ndarray\n",
    "    yy: meshgrid ndarray\n",
    "    params: dictionary of params to pass to contourf, optional\n",
    "    \"\"\"\n",
    "    Z = clf.predict(np.c_[xx.ravel(), yy.ravel()])\n",
    "    Z = Z.reshape(xx.shape)\n",
    "    out = ax.contourf(xx, yy, Z, **params)\n",
    "    return out"
   ]
  },
  {
   "cell_type": "code",
   "execution_count": 3,
   "metadata": {},
   "outputs": [
    {
     "data": {
      "text/plain": [
       "SVC(C=2.0, cache_size=200, class_weight=None, coef0=0.0,\n",
       "  decision_function_shape='ovr', degree=3, gamma=0.5, kernel='rbf',\n",
       "  max_iter=-1, probability=False, random_state=None, shrinking=True,\n",
       "  tol=0.001, verbose=False)"
      ]
     },
     "execution_count": 3,
     "metadata": {},
     "output_type": "execute_result"
    }
   ],
   "source": [
    "# import some data to play with\n",
    "dataset = datasets.load_breast_cancer()\n",
    "# Take the first two features. We could avoid this by using a two-dim dataset\n",
    "X = dataset.data[:, :2]\n",
    "y = dataset.target\n",
    "\n",
    "# we create an instance of SVM and fit out data. We do not scale our\n",
    "# data since we want to plot the support vectors\n",
    "C = 2.0  # SVM regularization parameter\n",
    "clf = svm.SVC(kernel='rbf', gamma=0.5, C=C)\n",
    "clf.fit(X, y)"
   ]
  },
  {
   "cell_type": "code",
   "execution_count": 4,
   "metadata": {},
   "outputs": [
    {
     "data": {
      "text/plain": [
       "(array([[-1.0002894]]), array([-1.0002894]))"
      ]
     },
     "execution_count": 4,
     "metadata": {},
     "output_type": "execute_result"
    }
   ],
   "source": [
    "# Explicit prediction function, for reference\n",
    "def predict_from_svm(clf, x):\n",
    "    x = np.array(x)\n",
    "    gamma = 1. / x.shape[1]\n",
    "    kernel_features = rbf_kernel(clf.support_vectors_, x)\n",
    "    return np.dot(clf.dual_coef_, kernel_features) + clf.intercept_\n",
    "\n",
    "predict_from_svm(clf, [X[0]]), clf.decision_function([X[0]])"
   ]
  },
  {
   "cell_type": "code",
   "execution_count": 5,
   "metadata": {},
   "outputs": [],
   "source": [
    "def _grid_search_radius(find_bound_fn, clf, point, max_radius, grid_size, grid_breakpoint):\n",
    "    \"\"\"\n",
    "    Search on a non-linear grid.\n",
    "    \"\"\"\n",
    "    rs = np.linspace(0, grid_breakpoint, grid_size // 2)\n",
    "    rs = np.concatenate(\n",
    "        [rs, np.linspace(grid_breakpoint, max_radius, grid_size // 2)])\n",
    "    best_bound = None\n",
    "    for r in tqdm.tqdm_notebook(list(reversed(rs))):\n",
    "        if r > 0:\n",
    "            bound = find_bound_fn(clf, point, r)\n",
    "            if bound >= r:\n",
    "                bound = r\n",
    "            elif (best_bound is None) or (bound >= best_bound):\n",
    "                best_bound = bound\n",
    "    return best_bound"
   ]
  },
  {
   "cell_type": "code",
   "execution_count": 6,
   "metadata": {},
   "outputs": [],
   "source": [
    "def _svm_rbf_l1_lower_bound(clf, point, radius):\n",
    "    gamma = 1. / point.shape[0]\n",
    "    score, = clf.decision_function([point])\n",
    "    denom_upper_bound = np.linalg.norm(\n",
    "        2 * gamma * np.dot(clf.dual_coef_, clf.support_vectors_ - point), 1)\n",
    "    alpha = np.squeeze(clf.dual_coef_)\n",
    "    denom_upper_bound += np.abs(2 * gamma) * np.dot(\n",
    "        np.abs(alpha),\n",
    "        radius * np.ones(alpha.shape))\n",
    "    \n",
    "    return np.abs(score) / denom_upper_bound\n",
    "\n",
    "def svm_rbf_l1_lower_bound(clf, point,\n",
    "                           max_radius=20,\n",
    "                           grid_size=20000,\n",
    "                           grid_breakpoint=1.0):\n",
    "    rs = np.linspace(0, grid_breakpoint, grid_size // 2)\n",
    "    rs = np.concatenate([rs, \n",
    "        np.linspace(grid_breakpoint, max_radius, grid_size // 2)])\n",
    "    best_bound = None\n",
    "    for r in tqdm.tqdm_notebook(list(reversed(rs))):\n",
    "        if r > 0:\n",
    "            bound = _svm_rbf_l1_lower_bound(clf, point, r)\n",
    "            if bound >= r:\n",
    "                bound = r\n",
    "            elif (best_bound is None) or (bound >= best_bound):\n",
    "                best_bound = bound\n",
    "    return best_bound"
   ]
  },
  {
   "cell_type": "code",
   "execution_count": 11,
   "metadata": {},
   "outputs": [],
   "source": [
    "def _svm_rbf_l2_lower_bound(clf, point, radius):\n",
    "    gamma = 1. / point.shape[0]\n",
    "    score, = clf.decision_function([point])\n",
    "    alpha = np.squeeze(clf.dual_coef_)\n",
    "    \n",
    "    support_vecs = clf.support_vectors_\n",
    "    accum = 0\n",
    "    for s, sv_s in enumerate(support_vecs):\n",
    "        for r, sv_r in enumerate(support_vecs):            \n",
    "            pair_s_term = np.linalg.norm(2 * point - sv_s - sv_r, ord=2)\n",
    "            pair_m_term = min(pair_s_term / 2, radius)\n",
    "            pair_dot = np.dot(point - sv_r, point - sv_s)\n",
    "            lower_bound_part = radius * pair_s_term + radius**2\n",
    "            upper_bound_part = -pair_m_term * pair_s_term + pair_m_term**2\n",
    "            squared_sum_diffs = np.linalg.norm(\n",
    "                    point - sv_s, ord=2)**2 + np.linalg.norm(\n",
    "                    point - sv_r, ord=2)**2\n",
    "            alpha_prod = alpha[r] * alpha[s]\n",
    "            \n",
    "            if alpha_prod >= 0:\n",
    "                diff_bound = max(pair_dot + lower_bound_part, 0)\n",
    "                ker_bound = np.exp(-gamma * (squared_sum_diffs + 2 * upper_bound_part))\n",
    "                accum += alpha_prod * diff_bound * ker_bound\n",
    "                \n",
    "                diff_bound = min(pair_dot + lower_bound_part, 0)\n",
    "                ker_bound = np.exp(-gamma * (squared_sum_diffs + 2 * lower_bound_part))\n",
    "                accum += alpha_prod * diff_bound * ker_bound\n",
    "                \n",
    "            else:\n",
    "                diff_bound = max(pair_dot + upper_bound_part, 0)\n",
    "                ker_bound = np.exp(-gamma * (squared_sum_diffs + 2 * lower_bound_part))\n",
    "                accum += alpha_prod * diff_bound * ker_bound\n",
    "                \n",
    "                diff_bound = min(pair_dot + upper_bound_part, 0)\n",
    "                ker_bound = np.exp(-gamma * (squared_sum_diffs + 2 * upper_bound_part))\n",
    "                accum += alpha_prod * diff_bound * ker_bound\n",
    "\n",
    "    local_lipschitz = 2 * gamma * np.sqrt(accum)\n",
    "    return np.abs(score) / local_lipschitz\n",
    "\n",
    "def svm_rbf_l2_lower_bound(clf, point, max_radius=20, grid_size=20,\n",
    "                           grid_breakpoint=1.0):\n",
    "    return _grid_search_radius(_svm_rbf_l2_lower_bound, clf, point,\n",
    "                               max_radius=max_radius, grid_size=grid_size,\n",
    "                               grid_breakpoint=grid_breakpoint)"
   ]
  },
  {
   "cell_type": "code",
   "execution_count": 21,
   "metadata": {},
   "outputs": [],
   "source": [
    "bounds = []"
   ]
  },
  {
   "cell_type": "code",
   "execution_count": 22,
   "metadata": {},
   "outputs": [],
   "source": [
    "OFFSET = 0\n",
    "NUM_POINTS = 10"
   ]
  },
  {
   "cell_type": "code",
   "execution_count": 23,
   "metadata": {},
   "outputs": [
    {
     "data": {
      "application/vnd.jupyter.widget-view+json": {
       "model_id": "c54da59b005148ef9d29133a8ee66fca",
       "version_major": 2,
       "version_minor": 0
      },
      "text/plain": [
       "HBox(children=(IntProgress(value=0, max=10), HTML(value='')))"
      ]
     },
     "metadata": {},
     "output_type": "display_data"
    },
    {
     "data": {
      "application/vnd.jupyter.widget-view+json": {
       "model_id": "0bd3ac47c9874b509b18025d6ef86e9a",
       "version_major": 2,
       "version_minor": 0
      },
      "text/plain": [
       "HBox(children=(IntProgress(value=0, max=50), HTML(value='')))"
      ]
     },
     "metadata": {},
     "output_type": "display_data"
    },
    {
     "data": {
      "application/vnd.jupyter.widget-view+json": {
       "model_id": "13ea5e5344944bb9a3154a5f1edb6060",
       "version_major": 2,
       "version_minor": 0
      },
      "text/plain": [
       "HBox(children=(IntProgress(value=0, max=50), HTML(value='')))"
      ]
     },
     "metadata": {},
     "output_type": "display_data"
    },
    {
     "data": {
      "application/vnd.jupyter.widget-view+json": {
       "model_id": "6de49801a3da4b4d9aeda499b6907c25",
       "version_major": 2,
       "version_minor": 0
      },
      "text/plain": [
       "HBox(children=(IntProgress(value=0, max=50), HTML(value='')))"
      ]
     },
     "metadata": {},
     "output_type": "display_data"
    },
    {
     "data": {
      "application/vnd.jupyter.widget-view+json": {
       "model_id": "11a315a676994ee3acfa94f8b4020fb8",
       "version_major": 2,
       "version_minor": 0
      },
      "text/plain": [
       "HBox(children=(IntProgress(value=0, max=50), HTML(value='')))"
      ]
     },
     "metadata": {},
     "output_type": "display_data"
    },
    {
     "data": {
      "application/vnd.jupyter.widget-view+json": {
       "model_id": "3dc5b6b79971433fa149dcd0f37dba0d",
       "version_major": 2,
       "version_minor": 0
      },
      "text/plain": [
       "HBox(children=(IntProgress(value=0, max=50), HTML(value='')))"
      ]
     },
     "metadata": {},
     "output_type": "display_data"
    },
    {
     "data": {
      "application/vnd.jupyter.widget-view+json": {
       "model_id": "c35f64d685da4c8c9f3d0301d960beaa",
       "version_major": 2,
       "version_minor": 0
      },
      "text/plain": [
       "HBox(children=(IntProgress(value=0, max=50), HTML(value='')))"
      ]
     },
     "metadata": {},
     "output_type": "display_data"
    },
    {
     "data": {
      "application/vnd.jupyter.widget-view+json": {
       "model_id": "d7e0c673ee92484e9f0c7b0e6bab8f64",
       "version_major": 2,
       "version_minor": 0
      },
      "text/plain": [
       "HBox(children=(IntProgress(value=0, max=50), HTML(value='')))"
      ]
     },
     "metadata": {},
     "output_type": "display_data"
    },
    {
     "data": {
      "application/vnd.jupyter.widget-view+json": {
       "model_id": "4491c7263e57434d8d8e23afb1b31f3c",
       "version_major": 2,
       "version_minor": 0
      },
      "text/plain": [
       "HBox(children=(IntProgress(value=0, max=50), HTML(value='')))"
      ]
     },
     "metadata": {},
     "output_type": "display_data"
    },
    {
     "data": {
      "application/vnd.jupyter.widget-view+json": {
       "model_id": "3e3f00e5a412444e87e7fc718f447034",
       "version_major": 2,
       "version_minor": 0
      },
      "text/plain": [
       "HBox(children=(IntProgress(value=0, max=50), HTML(value='')))"
      ]
     },
     "metadata": {},
     "output_type": "display_data"
    },
    {
     "data": {
      "application/vnd.jupyter.widget-view+json": {
       "model_id": "baeca1dfe3ac4942965cb6ee33a7d67d",
       "version_major": 2,
       "version_minor": 0
      },
      "text/plain": [
       "HBox(children=(IntProgress(value=0, max=50), HTML(value='')))"
      ]
     },
     "metadata": {},
     "output_type": "display_data"
    }
   ],
   "source": [
    "for x in tqdm.tqdm_notebook(X[OFFSET:OFFSET + NUM_POINTS]):\n",
    "    bounds.append(svm_rbf_l2_lower_bound(clf, x, max_radius=2, grid_size=50, grid_breakpoint=0.01))"
   ]
  },
  {
   "cell_type": "markdown",
   "metadata": {},
   "source": [
    "## Visualize"
   ]
  },
  {
   "cell_type": "markdown",
   "metadata": {},
   "source": [
    "Visualize the Hein & Andriushchenko adv.robustness values, multiplied by 2 (they are too small otherwise)"
   ]
  },
  {
   "cell_type": "code",
   "execution_count": 24,
   "metadata": {},
   "outputs": [
    {
     "data": {
      "image/png": "[encoded data removed]",
      "text/plain": [
       "<Figure size 1080x1080 with 1 Axes>"
      ]
     },
     "metadata": {},
     "output_type": "display_data"
    }
   ],
   "source": [
    "start_range = OFFSET\n",
    "end_range = OFFSET + NUM_POINTS\n",
    "\n",
    "X0, X1 = X[:, 0], X[:, 1]\n",
    "xx, yy = make_meshgrid(X0, X1)\n",
    "\n",
    "fig, ax = plt.subplots()\n",
    "fig.set_figwidth(15)\n",
    "fig.set_figheight(15)\n",
    "\n",
    "plot_contours(ax, clf, xx, yy,\n",
    "              cmap=plt.cm.coolwarm, alpha=0.8)\n",
    "    \n",
    "ax.scatter(X0[OFFSET:end_range],\n",
    "           X1[OFFSET:end_range],\n",
    "           c=y[OFFSET:end_range],\n",
    "           cmap=plt.cm.coolwarm, s=20)\n",
    "\n",
    "for i, x_index in enumerate(range(OFFSET, end_range)):\n",
    "    ax.add_artist(\n",
    "        plt.Circle((X0[x_index], X1[x_index]), 1 * bounds[i],\n",
    "                   color='black', alpha=.2))\n",
    "\n",
    "ax.set_xlim(X0[OFFSET:end_range].min() - 1,\n",
    "            X0[OFFSET:end_range].max() + 1)\n",
    "ax.set_ylim(X1[OFFSET:end_range].min() - 1,\n",
    "            X1[OFFSET:end_range].max() + 1)\n",
    "ax.set_xlabel(dataset.feature_names[0])\n",
    "ax.set_ylabel(dataset.feature_names[1])\n",
    "\n",
    "if NUM_POINTS < 20:\n",
    "    for i in range(OFFSET, end_range):\n",
    "        ax.annotate(str(i), (X0[i], X1[i]))\n",
    "\n",
    "ax.set_xticks(())\n",
    "ax.set_yticks(())\n",
    "\n",
    "plt.show()"
   ]
  }
 ],
 "metadata": {
  "kernelspec": {
   "display_name": "Python 3",
   "language": "python",
   "name": "python3"
  },
  "language_info": {
   "codemirror_mode": {
    "name": "ipython",
    "version": 3
   },
   "file_extension": ".py",
   "mimetype": "text/x-python",
   "name": "python",
   "nbconvert_exporter": "python",
   "pygments_lexer": "ipython3",
   "version": "3.6.6"
  }
 },
 "nbformat": 4,
 "nbformat_minor": 2
}
