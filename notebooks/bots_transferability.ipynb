{
 "cells": [
  {
   "cell_type": "code",
   "execution_count": 1,
   "metadata": {
    "tags": [
     "parameters"
    ]
   },
   "outputs": [],
   "source": [
    "REPORT_PATH_TEMPLATE = '../out/reports/bots__band_%s__target_%s.pkl'\n",
    "# or overrided REPORT_PATH_TEMPLATE\n",
    "REPORT_PATH = None\n",
    "\n",
    "BAND = '1k'\n",
    "TARGET_CONFIDENCE = '50'\n",
    "FOCUS_BINS = 20\n",
    "TARGET_CLASS = 0"
   ]
  },
  {
   "cell_type": "code",
   "execution_count": 2,
   "metadata": {},
   "outputs": [
    {
     "name": "stderr",
     "output_type": "stream",
     "text": [
      "/home/bogdan/Workspace/trickster/venv/lib/python3.6/site-packages/sklearn/ensemble/weight_boosting.py:29: DeprecationWarning: numpy.core.umath_tests is an internal NumPy module and should not be imported. It will be removed in a future NumPy release.\n",
      "  from numpy.core.umath_tests import inner1d\n"
     ]
    }
   ],
   "source": [
    "import numpy as np\n",
    "import pandas as pd\n",
    "import pickle\n",
    "from collections import defaultdict\n",
    "\n",
    "from sklearn import metrics\n",
    "from sklearn.svm import SVC\n",
    "from sklearn.ensemble import GradientBoostingClassifier\n",
    "from sklearn.neural_network import MLPClassifier\n",
    "from sklearn.model_selection import train_test_split\n",
    "from sklearn.model_selection import GridSearchCV\n",
    "\n",
    "from scripts import bots"
   ]
  },
  {
   "cell_type": "code",
   "execution_count": 3,
   "metadata": {},
   "outputs": [],
   "source": [
    "def load_results(datafile):\n",
    "    with open(datafile, 'rb') as f:\n",
    "        results = pickle.load(f)\n",
    "        return results\n",
    "    \n",
    "def group_by_key(data, key):\n",
    "    obj = defaultdict(list)\n",
    "    for d in data:\n",
    "        value = d[key]\n",
    "        obj[value].append(d)        \n",
    "    return obj\n",
    "\n",
    "def save_fig(fig, name_template, *args, **kwargs):\n",
    "    fig.savefig(os.path.join(FIGS_PATH, name_template.format(*args, **kwargs)))"
   ]
  },
  {
   "cell_type": "code",
   "execution_count": 4,
   "metadata": {},
   "outputs": [],
   "source": [
    "# Load results from running adversarial search on bot dataset.\n",
    "if REPORT_PATH is None:\n",
    "    REPORT_PATH = REPORT_PATH_TEMPLATE % (BAND, TARGET_CONFIDENCE)\n",
    "results = load_results(REPORT_PATH)\n",
    "\n",
    "results_data = group_by_key(results, 'bins')[FOCUS_BINS][0]['search_results']"
   ]
  },
  {
   "cell_type": "code",
   "execution_count": 5,
   "metadata": {},
   "outputs": [],
   "source": [
    "X_adv = np.vstack(results_data.x_adv_features.as_matrix())\n",
    "adv_indices = results_data.dataset_index"
   ]
  },
  {
   "cell_type": "markdown",
   "metadata": {},
   "source": [
    "Load and preprocess the data"
   ]
  },
  {
   "cell_type": "code",
   "execution_count": 6,
   "metadata": {},
   "outputs": [],
   "source": [
    "# Features that will be removed.\n",
    "drop_features = [\n",
    "    \"follower_friend_ratio\",\n",
    "    \"tweet_frequency\",\n",
    "    \"favourite_tweet_ratio\",\n",
    "]\n",
    "\n",
    "bins = 20\n",
    "\n",
    "X, y, feature_names = bots.load_transform_data(\n",
    "    human_dataset='../data/twitter_bots/humans/humans.1k.csv',\n",
    "    bot_dataset='../data/twitter_bots/bots/bots.1k.csv',\n",
    "    drop_features=drop_features,\n",
    "    bins=20,\n",
    ")\n",
    "\n",
    "X_train, X_test, y_train, y_test = train_test_split(\n",
    "    X, y, test_size=0.1, random_state=1\n",
    ")"
   ]
  },
  {
   "cell_type": "markdown",
   "metadata": {},
   "source": [
    "Baseline"
   ]
  },
  {
   "cell_type": "code",
   "execution_count": 7,
   "metadata": {},
   "outputs": [
    {
     "data": {
      "text/plain": [
       "0.6094827586206897"
      ]
     },
     "execution_count": 7,
     "metadata": {},
     "output_type": "execute_result"
    }
   ],
   "source": [
    "max(y_train.mean(), 1 - y_train.mean())"
   ]
  },
  {
   "cell_type": "markdown",
   "metadata": {},
   "source": [
    "Train a bunch of models, including the recreation of the original target model"
   ]
  },
  {
   "cell_type": "code",
   "execution_count": 8,
   "metadata": {},
   "outputs": [
    {
     "data": {
      "text/plain": [
       "0.875968992248062"
      ]
     },
     "execution_count": 8,
     "metadata": {},
     "output_type": "execute_result"
    }
   ],
   "source": [
    "lr = bots.fit_lr(X_train, y_train, seed=1)\n",
    "lr.score(X_test, y_test)"
   ]
  },
  {
   "cell_type": "code",
   "execution_count": 9,
   "metadata": {},
   "outputs": [
    {
     "data": {
      "text/plain": [
       "0.875968992248062"
      ]
     },
     "execution_count": 9,
     "metadata": {},
     "output_type": "execute_result"
    }
   ],
   "source": [
    "svm = bots.fit_svmrbf(X_train, y_train, seed=1)\n",
    "svm.score(X_test, y_test)"
   ]
  },
  {
   "cell_type": "code",
   "execution_count": 10,
   "metadata": {},
   "outputs": [
    {
     "data": {
      "text/plain": [
       "0.8527131782945736"
      ]
     },
     "execution_count": 10,
     "metadata": {},
     "output_type": "execute_result"
    }
   ],
   "source": [
    "net1 = MLPClassifier(activation='relu',\n",
    "                     hidden_layer_sizes=[20, 10])\n",
    "net1.fit(X_train, y_train)\n",
    "net1.score(X_test, y_test)"
   ]
  },
  {
   "cell_type": "code",
   "execution_count": 11,
   "metadata": {},
   "outputs": [
    {
     "data": {
      "text/plain": [
       "0.8449612403100775"
      ]
     },
     "execution_count": 11,
     "metadata": {},
     "output_type": "execute_result"
    }
   ],
   "source": [
    "net2 = MLPClassifier(activation='relu',\n",
    "                     hidden_layer_sizes=[2000, 500])\n",
    "net2.fit(X_train, y_train)\n",
    "net2.score(X_test, y_test)"
   ]
  },
  {
   "cell_type": "code",
   "execution_count": 12,
   "metadata": {},
   "outputs": [
    {
     "data": {
      "text/plain": [
       "0.8682170542635659"
      ]
     },
     "execution_count": 12,
     "metadata": {},
     "output_type": "execute_result"
    }
   ],
   "source": [
    "gbt = GradientBoostingClassifier(n_estimators=100)\n",
    "gbt.fit(X_train, y_train)\n",
    "gbt.score(X_test, y_test)"
   ]
  },
  {
   "cell_type": "code",
   "execution_count": 13,
   "metadata": {},
   "outputs": [],
   "source": [
    "models = {\n",
    "    'LR': lr,\n",
    "    'NN-A': net1,\n",
    "    'NN-B': net2,\n",
    "    'GBDT': gbt,\n",
    "    'SVM (RBF)': svm,\n",
    "}"
   ]
  },
  {
   "cell_type": "code",
   "execution_count": 14,
   "metadata": {},
   "outputs": [
    {
     "data": {
      "text/html": [
       "<div>\n",
       "<style scoped>\n",
       "    .dataframe tbody tr th:only-of-type {\n",
       "        vertical-align: middle;\n",
       "    }\n",
       "\n",
       "    .dataframe tbody tr th {\n",
       "        vertical-align: top;\n",
       "    }\n",
       "\n",
       "    .dataframe thead th {\n",
       "        text-align: right;\n",
       "    }\n",
       "</style>\n",
       "<table border=\"1\" class=\"dataframe\">\n",
       "  <thead>\n",
       "    <tr style=\"text-align: right;\">\n",
       "      <th></th>\n",
       "      <th>model</th>\n",
       "      <th>test accuracy</th>\n",
       "      <th>transferability</th>\n",
       "    </tr>\n",
       "  </thead>\n",
       "  <tbody>\n",
       "    <tr>\n",
       "      <th>0</th>\n",
       "      <td>LR</td>\n",
       "      <td>87.60%</td>\n",
       "      <td>100.00%</td>\n",
       "    </tr>\n",
       "    <tr>\n",
       "      <th>1</th>\n",
       "      <td>NN-A</td>\n",
       "      <td>85.27%</td>\n",
       "      <td>48.78%</td>\n",
       "    </tr>\n",
       "    <tr>\n",
       "      <th>2</th>\n",
       "      <td>NN-B</td>\n",
       "      <td>84.50%</td>\n",
       "      <td>48.78%</td>\n",
       "    </tr>\n",
       "    <tr>\n",
       "      <th>3</th>\n",
       "      <td>GBDT</td>\n",
       "      <td>86.82%</td>\n",
       "      <td>75.61%</td>\n",
       "    </tr>\n",
       "    <tr>\n",
       "      <th>4</th>\n",
       "      <td>SVM (RBF)</td>\n",
       "      <td>87.60%</td>\n",
       "      <td>73.17%</td>\n",
       "    </tr>\n",
       "  </tbody>\n",
       "</table>\n",
       "</div>"
      ],
      "text/plain": [
       "       model test accuracy transferability\n",
       "0         LR        87.60%         100.00%\n",
       "1       NN-A        85.27%          48.78%\n",
       "2       NN-B        84.50%          48.78%\n",
       "3       GBDT        86.82%          75.61%\n",
       "4  SVM (RBF)        87.60%          73.17%"
      ]
     },
     "execution_count": 14,
     "metadata": {},
     "output_type": "execute_result"
    }
   ],
   "source": [
    "trans_df = pd.DataFrame(columns=['model', 'test accuracy', 'transferability'])\n",
    "for model_name, model in models.items():\n",
    "    score = model.score(X_test, y_test)\n",
    "    trans = (model.predict(X_adv) == TARGET_CLASS).mean()\n",
    "    trans_df = trans_df.append({\n",
    "        'model': model_name,\n",
    "        'test accuracy': '{:1.2f}%'.format(score * 100),\n",
    "        'transferability': '{:1.2f}%'.format(trans * 100),\n",
    "    }, ignore_index=True)\n",
    "    \n",
    "trans_df"
   ]
  },
  {
   "cell_type": "code",
   "execution_count": 15,
   "metadata": {},
   "outputs": [
    {
     "data": {
      "text/plain": [
       "'\\\\begin{tabular}{llll}\\n\\\\toprule\\n{} &      model & test accuracy & transferability \\\\\\\\\\n\\\\midrule\\n0 &         LR &        87.60\\\\% &         100.00\\\\% \\\\\\\\\\n1 &       NN-A &        85.27\\\\% &          48.78\\\\% \\\\\\\\\\n2 &       NN-B &        84.50\\\\% &          48.78\\\\% \\\\\\\\\\n3 &       GBDT &        86.82\\\\% &          75.61\\\\% \\\\\\\\\\n4 &  SVM (RBF) &        87.60\\\\% &          73.17\\\\% \\\\\\\\\\n\\\\bottomrule\\n\\\\end{tabular}\\n'"
      ]
     },
     "execution_count": 15,
     "metadata": {},
     "output_type": "execute_result"
    }
   ],
   "source": [
    "trans_df.to_latex()"
   ]
  }
 ],
 "metadata": {
  "kernelspec": {
   "display_name": "Python 3",
   "language": "python",
   "name": "python3"
  },
  "language_info": {
   "codemirror_mode": {
    "name": "ipython",
    "version": 3
   },
   "file_extension": ".py",
   "mimetype": "text/x-python",
   "name": "python",
   "nbconvert_exporter": "python",
   "pygments_lexer": "ipython3",
   "version": "3.6.7"
  }
 },
 "nbformat": 4,
 "nbformat_minor": 2
}
