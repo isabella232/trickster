{
 "cells": [
  {
   "cell_type": "code",
   "execution_count": 1,
   "metadata": {},
   "outputs": [],
   "source": [
    "%load_ext  autoreload\n",
    "%autoreload 2"
   ]
  },
  {
   "cell_type": "code",
   "execution_count": 2,
   "metadata": {},
   "outputs": [],
   "source": [
    "import sys\n",
    "sys.path.append('..')"
   ]
  },
  {
   "cell_type": "code",
   "execution_count": 3,
   "metadata": {},
   "outputs": [],
   "source": [
    "import numpy as np\n",
    "import pandas as pd\n",
    "import seaborn as sns\n",
    "import ast\n",
    "\n",
    "from trickster.search import a_star_search, ida_star_search\n",
    "from trickster.expansion import *\n",
    "\n",
    "from sklearn.utils import shuffle\n",
    "from sklearn.model_selection import train_test_split, GridSearchCV\n",
    "from sklearn.linear_model import LogisticRegressionCV\n",
    "from sklearn.svm import SVC\n",
    "from scipy.spatial import distance\n",
    "from tqdm import tqdm_notebook, tqdm\n",
    "from matplotlib import pyplot as plt\n",
    "\n",
    "from defaultcontext import with_default_context\n",
    "from profiled import Profiler, profiled\n",
    "\n",
    "SEED = 2018\n",
    "np.random.seed(SEED)"
   ]
  },
  {
   "cell_type": "markdown",
   "metadata": {},
   "source": [
    "## Load data\n",
    "\n",
    "We assume the target linear model will work on one-hot discretized features. This is a common practice, since a linear model can only capture linear relationship between response and a continuous feature. If the continuous feature, however, is quantized, the relationship captured can be non-linear.\n",
    "\n",
    "Therefore, we discretize and one-hot encode all features. We quantize the continuous features, like credit amount, age, etc., into 5 bins."
   ]
  },
  {
   "cell_type": "code",
   "execution_count": 4,
   "metadata": {},
   "outputs": [],
   "source": [
    "# Define helper functions.\n",
    "\n",
    "def transform_collection(X_k):\n",
    "    X_k = X_k.apply(lambda x: x.replace(';', ','))\n",
    "    X_k = X_k.apply(ast.literal_eval)\n",
    "    \n",
    "    # Get the value of the maximum element in X_k.\n",
    "    arg_max = np.max([item for sublist in X_k.values.tolist() for item in sublist])\n",
    "    \n",
    "    N = X_k.shape[0]\n",
    "    X_k_transformed = np.zeros((N, arg_max+1), dtype='intc')\n",
    "        \n",
    "    for i in range(N):\n",
    "        for item in X_k[i]:\n",
    "            X_k_transformed[i, item] = 1\n",
    "\n",
    "    return X_k_transformed"
   ]
  },
  {
   "cell_type": "code",
   "execution_count": 5,
   "metadata": {
    "scrolled": true
   },
   "outputs": [
    {
     "name": "stdout",
     "output_type": "stream",
     "text": [
      "Examples are represented as 57-dimensional vectors.\n"
     ]
    }
   ],
   "source": [
    "data_folder = 'data/twitter_bots/'\n",
    "\n",
    "# Load data for humans.\n",
    "df1 = pd.read_csv(data_folder + 'humans.1k.csv')\n",
    "df1 = df1.drop('screen_name', axis=1) # remove screen_name column\n",
    "df1 = df1.assign(is_bot=0)\n",
    "\n",
    "# Load data for bots.\n",
    "df2 = pd.read_csv(data_folder + 'bots.1k.csv')\n",
    "df2 = df2.drop('screen_name', axis=1) # remove screen_name column\n",
    "df2 = df2.assign(is_bot=1)\n",
    "\n",
    "# Concatenate dataframes.\n",
    "df = df1.append(df2, ignore_index=True)\n",
    "\n",
    "# Perform feature quantization.\n",
    "bins = 5\n",
    "features = [\n",
    "    'user_tweeted',\n",
    "    'user_retweeted',\n",
    "    'user_favourited',\n",
    "    'user_replied',\n",
    "    'likes_per_tweet',\n",
    "    'retweets_per_tweet',\n",
    "    'lists_per_user',\n",
    "    'follower_friend_ratio',\n",
    "    'tweet_frequency',\n",
    "    'favourite_tweet_ratio',\n",
    "    'age_of_account_in_days',\n",
    "    'sources_count',\n",
    "    'urls_count',\n",
    "    'cdn_content_in_kb'\n",
    "]\n",
    "\n",
    "for feat in features:\n",
    "\n",
    "    # Drop feature if there is only 1 distinct value.\n",
    "    uniq_len = np.unique(df.loc[:, feat]).size\n",
    "    if uniq_len == 1:\n",
    "        df = df.drop(feat, axis=1)\n",
    "        continue\n",
    "\n",
    "    series = df.loc[:, feat]\n",
    "    df.loc[:, feat] = pd.qcut(series, bins, duplicates='drop')\n",
    "    \n",
    "# Encode 'source_identity' field by setting '1's if source is present.\n",
    "transformed = transform_collection(df.loc[:, 'source_identity'])\n",
    "df = df.drop('source_identity', axis=1)\n",
    "\n",
    "df['source_identity_other'] = transformed[:, 0]\n",
    "df['source_identity_browser'] = transformed[:, 1]\n",
    "df['source_identity_mobile'] = transformed[:, 2]\n",
    "df['source_identity_osn'] = transformed[:, 3]\n",
    "df['source_identity_automation'] = transformed[:, 4]\n",
    "df['source_identity_marketing'] = transformed[:, 5]\n",
    "\n",
    "# Perform one-hot encoding\n",
    "df = pd.get_dummies(df)\n",
    "\n",
    "# Separate features from targets\n",
    "df_X = df.iloc[:, 1:]\n",
    "df_y = df.iloc[:, 0]\n",
    "\n",
    "print('Examples are represented as {}-dimensional vectors.'.format(df_X.shape[1]))"
   ]
  },
  {
   "cell_type": "code",
   "execution_count": 6,
   "metadata": {
    "scrolled": false
   },
   "outputs": [
    {
     "name": "stdout",
     "output_type": "stream",
     "text": [
      "Shape of X: (1289, 57). Shape of y: (1289,).\n",
      "Number of training points: 1160. Number of test points: 129.\n"
     ]
    }
   ],
   "source": [
    "# Convert to numpy\n",
    "X = df_X.values.astype('intc')\n",
    "y = df_y.values.astype('intc')\n",
    "print('Shape of X: {}. Shape of y: {}.'.format(X.shape, y.shape))\n",
    "\n",
    "# Split into training and test sets\n",
    "X_train, X_test, y_train, y_test = train_test_split(X, y, test_size=0.1, random_state=SEED)\n",
    "print('Number of training points: {}. Number of test points: {}.'.format(X_train.shape[0], X_test.shape[0]))"
   ]
  },
  {
   "cell_type": "markdown",
   "metadata": {},
   "source": [
    "## Fit the target model"
   ]
  },
  {
   "cell_type": "markdown",
   "metadata": {},
   "source": [
    "Now we fit the target logistic regression model."
   ]
  },
  {
   "cell_type": "code",
   "execution_count": 7,
   "metadata": {
    "scrolled": true
   },
   "outputs": [
    {
     "name": "stdout",
     "output_type": "stream",
     "text": [
      "Training score for a constant model f(x) = 0 is: 61.38%.\n",
      "Training accuracy is: 88.02%. Best C is: 1.1750. Class weight: None. Scoring: f1.\n"
     ]
    }
   ],
   "source": [
    "# Fit logistic regression and perform CV\n",
    "from sklearn.metrics import make_scorer, accuracy_score, roc_auc_score, roc_curve, f1_score\n",
    "\n",
    "Cs = np.arange(0.1, 2, 0.025)\n",
    "class_weight = None # balanced or None\n",
    "scoring = 'f1' # accuracy, f1 or roc_auc\n",
    "\n",
    "clf = LogisticRegressionCV(\n",
    "    Cs=Cs, \n",
    "    cv=5, \n",
    "    n_jobs=-1, \n",
    "    penalty='l2',\n",
    "    scoring=scoring,\n",
    "    class_weight=class_weight,\n",
    "    random_state=SEED\n",
    ")\n",
    "clf.fit(X_train, y_train)\n",
    "\n",
    "# Get best score and C value\n",
    "mean_scores = np.mean(clf.scores_[1], axis=0)\n",
    "best_idx = np.argmax(mean_scores)\n",
    "best_score = mean_scores[best_idx]\n",
    "best_C = clf.Cs_[best_idx]\n",
    "\n",
    "constant_acc = 1 - sum(y_train) / len(y_train)\n",
    "print('Training score for a constant model f(x) = 0 is: {:.2f}%.'.format(constant_acc*100))\n",
    "print('Training accuracy is: {:.2f}%. Best C is: {:.4f}. Class weight: {}. Scoring: {}.'\n",
    "      .format(clf.score(X_train, y_train)*100, best_C, class_weight, scoring))\n",
    "\n",
    "# Training score for a constant model f(x) = 0 is: 61.38%.\n",
    "# Training accuracy is: 88.02%. Best C is: 1.1750. Class weight: None. Scoring: f1."
   ]
  },
  {
   "cell_type": "code",
   "execution_count": 8,
   "metadata": {},
   "outputs": [
    {
     "name": "stdout",
     "output_type": "stream",
     "text": [
      "Test score for a constant model f(x) = 0 is: 61.24%.\n",
      "Test accuracy is: 90.70%.\n"
     ]
    }
   ],
   "source": [
    "constant_acc = 1 - sum(y_test) / len(y_test)\n",
    "print('Test score for a constant model f(x) = 0 is: {:.2f}%.'.format(constant_acc*100))\n",
    "print('Test accuracy is: {:.2f}%.'.format(clf.score(X_test, y_test)*100))\n",
    "\n",
    "# Test score for a constant model f(x) = 0 is: 61.24%.\n",
    "# Test accuracy is: 90.70%."
   ]
  },
  {
   "cell_type": "markdown",
   "metadata": {},
   "source": [
    "## Perform adversarial examples search"
   ]
  },
  {
   "cell_type": "markdown",
   "metadata": {},
   "source": [
    "Context-local counter we'll use for counting expanded graph nodes."
   ]
  },
  {
   "cell_type": "code",
   "execution_count": 51,
   "metadata": {},
   "outputs": [],
   "source": [
    "class CounterLimitExceeded(Exception):\n",
    "    pass\n",
    "\n",
    "@with_default_context(use_empty_init=True)\n",
    "class Counter:\n",
    "    \n",
    "    limit = 5000\n",
    "    \n",
    "    def __init__(self):\n",
    "        self.cnt = 0\n",
    "        \n",
    "    def increment(self):\n",
    "        if Counter.limit is not None and self.cnt > Counter.limit:\n",
    "            raise CounterLimitExceeded('>> Expansion counter limit {} reached.'.format(Counter.limit))\n",
    "        self.cnt += 1\n",
    "        \n",
    "    def set_count(self, count):\n",
    "        self.cnt = count\n",
    "    \n",
    "    def get_count(self):\n",
    "        return self.cnt"
   ]
  },
  {
   "cell_type": "markdown",
   "metadata": {},
   "source": [
    "Define transformable features and obtain their indexes in the feature vectors."
   ]
  },
  {
   "cell_type": "code",
   "execution_count": 52,
   "metadata": {},
   "outputs": [],
   "source": [
    "def index(xs, item):\n",
    "    '''Can be used to get the index of the required substring within a string.'''\n",
    "    idxs = [i for (i, x) in enumerate(xs) if item in x]\n",
    "    return idxs\n",
    "\n",
    "TRANSFORMABLE_FEATURES = [\n",
    "    'user_tweeted',\n",
    "    'user_retweeted',\n",
    "    'user_favourited',\n",
    "    'user_replied',\n",
    "    'urls_count'\n",
    "]\n",
    "\n",
    "FEATURE_SET = []\n",
    "\n",
    "for x in TRANSFORMABLE_FEATURES:\n",
    "    FEATURE_SET.extend(index(df_X.columns, x))"
   ]
  },
  {
   "cell_type": "markdown",
   "metadata": {},
   "source": [
    "Define expansions required for the expand_fn when searching for adversarial examples."
   ]
  },
  {
   "cell_type": "code",
   "execution_count": 53,
   "metadata": {},
   "outputs": [],
   "source": [
    "features = df_X.columns\n",
    "EXPANSIONS = []\n",
    "\n",
    "# Define expansion for user_tweeted feature.\n",
    "idxs = index(features, 'user_tweeted')\n",
    "EXPANSIONS.append((idxs, expand_quantized))\n",
    "\n",
    "# Define expansion for user_retweeted feature.\n",
    "idxs = index(features, 'user_retweeted')\n",
    "EXPANSIONS.append((idxs, expand_quantized))\n",
    "\n",
    "# Define expansion for user_favourited feature.\n",
    "idxs = index(features, 'user_favourited')\n",
    "EXPANSIONS.append((idxs, expand_quantized))\n",
    "\n",
    "# Define expansion for user_replied feature.\n",
    "idxs = index(features, 'user_replied')\n",
    "EXPANSIONS.append((idxs, expand_quantized))\n",
    "\n",
    "# Define expansion for urls_count feature.\n",
    "idxs = index(features, 'urls_count')\n",
    "EXPANSIONS.append((idxs, expand_quantized))"
   ]
  },
  {
   "cell_type": "markdown",
   "metadata": {},
   "source": [
    "All the functions that need to be passed into the search, in the expected format."
   ]
  },
  {
   "cell_type": "code",
   "execution_count": 76,
   "metadata": {},
   "outputs": [],
   "source": [
    "@profiled\n",
    "def find_adversarial(x, clf, search_fn, epsilon, expansions, target_confidence=0.5, \n",
    "                p_norm=1, q_norm=np.inf, **kwargs):\n",
    "    \"\"\"Transform an example until it is classified with target confidence.\"\"\"\n",
    "    \n",
    "    def expand_fn(x, expansions, p_norm=1):\n",
    "        \"\"\"Expand x and compute the costs.\n",
    "        Returns a list of tuples (child, cost)\n",
    "        \"\"\"\n",
    "        # Increment the counter of expanded nodes.\n",
    "        counter = Counter.get_default()\n",
    "        counter.increment()\n",
    "        \n",
    "        children = expand(x, expansions)\n",
    "        costs = [np.linalg.norm(x - c, ord=p_norm) for c in children]\n",
    "        \n",
    "        return list(zip(children, costs))\n",
    "\n",
    "    def goal_fn(x, clf, target_confidence=0.5):\n",
    "        \"\"\"Tell whether the example has reached the goal.\"\"\"\n",
    "        return clf.predict_proba([x])[0, 1] <= target_confidence\n",
    "\n",
    "    def heuristic_fn(x, clf, epsilon, q_norm=np.inf):\n",
    "        \"\"\"Distance to the decision boundary of a logistic regression classifier.\n",
    "        By default the distance is w.r.t. L1 norm. This means that the denominator\n",
    "        has to be in terms of the Holder dual norm (`q_norm`), so L-inf. I know,\n",
    "        this interface is horrible.\n",
    "        NOTE: The value has to be zero if the example is already on the target side\n",
    "        of the boundary.\n",
    "        \"\"\"\n",
    "        score = clf.decision_function([x])[0]\n",
    "        if score <= 0:\n",
    "            return 0.0\n",
    "        h = np.abs(score) / np.linalg.norm(clf.coef_[0, list(FEATURE_SET)], ord=q_norm)\n",
    "        \n",
    "        return h * epsilon\n",
    "\n",
    "    def hash_fn(x):\n",
    "        \"\"\"Hash function for examples.\"\"\"\n",
    "        return hash(x.tostring())\n",
    "\n",
    "    if clf.predict_proba([x])[0, 1] <= target_confidence:\n",
    "        raise Exception('Initial example is already classified as bening.')\n",
    "        \n",
    "    heuristic_fn = kwargs.get('heuristic_fn', heuristic_fn)\n",
    "\n",
    "    return search_fn(\n",
    "        start_node=x,\n",
    "        expand_fn=lambda x: expand_fn(x, expansions, p_norm=p_norm),\n",
    "        goal_fn=lambda x: goal_fn(x, clf, target_confidence),\n",
    "        heuristic_fn=lambda x: heuristic_fn(x, clf, epsilon, q_norm=q_norm),\n",
    "        hash_fn=hash_fn\n",
    "    )"
   ]
  },
  {
   "cell_type": "markdown",
   "metadata": {},
   "source": [
    "Main function that performs adversarial example search."
   ]
  },
  {
   "cell_type": "code",
   "execution_count": 13,
   "metadata": {},
   "outputs": [],
   "source": [
    "def find_adv_examples(X, search_fn, columns, epsilon=1, target_confidence=0.5):\n",
    "    \"\"\"Find adversarial examples for a whole dataset\"\"\"\n",
    "    \n",
    "    # Dataframe for storing the results.\n",
    "    results = pd.DataFrame(\n",
    "        columns=['index', 'found', 'expansions', 'x', 'init_confidence', \n",
    "                 'x_adv', 'adv_confidence', 'real_cost', 'path_cost', \n",
    "                 'nodes_expanded', 'runtime']\n",
    "    )\n",
    "    \n",
    "    # Indices of examples classified as bots.\n",
    "    idxs, = np.where(clf.predict_proba(X)[:, 1] > target_confidence)\n",
    "    \n",
    "    for i, idx in enumerate(tqdm_notebook(idxs)):\n",
    "        x = X[idx]\n",
    "        \n",
    "        # Instantiate a counter for expanded nodes, and a profiler.\n",
    "        expanded_counter = Counter()\n",
    "        per_example_profiler = Profiler()\n",
    "        \n",
    "        p_norm = 1\n",
    "        q_norm = np.inf\n",
    "        \n",
    "        with expanded_counter.as_default(), per_example_profiler.as_default():\n",
    "            try:\n",
    "                x_adv, path_cost = find_adversarial(\n",
    "                    x, \n",
    "                    clf, \n",
    "                    search_fn=search_fn,\n",
    "                    epsilon=epsilon,\n",
    "                    expansions=EXPANSIONS,\n",
    "                    target_confidence=target_confidence,\n",
    "                    p_norm=p_norm,\n",
    "                    q_norm=q_norm,\n",
    "                )\n",
    "            except CounterLimitExceeded as e:\n",
    "                print('>> WARN! {}'.format(e))\n",
    "                continue\n",
    "\n",
    "        nodes_expanded = expanded_counter.count()\n",
    "        runtime = per_example_profiler.compute_stats()['find_adversarial']['tot']\n",
    "        init_confidence = clf.predict_proba([x])[0, 1]\n",
    "        \n",
    "        # Record performed expansions and transformed features.\n",
    "        expansions = [(x, y, z.__name__) for (x, (y, z)) in zip(TRANSFORMABLE_FEATURES, EXPANSIONS)]\n",
    "        \n",
    "        # If an adversarial example was not found, only record index, runtime, and \n",
    "        # the number of expanded nodes.        \n",
    "        if x_adv is None:\n",
    "            results.loc[i] = [idx, False, expansions, x, init_confidence, \n",
    "                              None, None, None, None, \n",
    "                              nodes_expanded, runtime]\n",
    "        else:\n",
    "            adv_confidence = clf.predict_proba([x_adv])[0, 1]\n",
    "            real_cost = np.linalg.norm(x - x_adv, ord=p_norm)            \n",
    "            results.loc[i] = [idx, True, expansions, x, init_confidence, \n",
    "                              x_adv, adv_confidence, real_cost, path_cost, \n",
    "                              nodes_expanded, runtime]\n",
    "\n",
    "    return results"
   ]
  },
  {
   "cell_type": "markdown",
   "metadata": {},
   "source": [
    "## Run the experiments"
   ]
  },
  {
   "cell_type": "code",
   "execution_count": null,
   "metadata": {
    "scrolled": true
   },
   "outputs": [],
   "source": [
    "results = find_adv_examples(\n",
    "    X, \n",
    "    a_star_search, \n",
    "    columns=df_X.columns, \n",
    "    epsilon=1, \n",
    "    target_confidence=0.5\n",
    ")"
   ]
  },
  {
   "cell_type": "markdown",
   "metadata": {},
   "source": [
    "Visualise changes that are required to transform initial example into an adversarial one."
   ]
  },
  {
   "cell_type": "code",
   "execution_count": null,
   "metadata": {},
   "outputs": [],
   "source": [
    "def get_changes(x, x_adv, columns):\n",
    "    init = np.where((x != x_adv) & (x == 1))[0]\n",
    "    diff = np.where((x != x_adv) & (x_adv == 1))[0]\n",
    "    changes = ['{} -> {}'.format(x, y) for (x, y) in zip(columns[init], columns[diff])]\n",
    "    return changes\n",
    "\n",
    "for idx, row in results.iterrows():\n",
    "    if row['x_adv'] is None:\n",
    "        continue\n",
    "    changes = get_changes(row['x'], row['x_adv'], df_X.columns)\n",
    "    idx = row['index']\n",
    "    print('Adversarial example for sample at index {} was created with the following change(s):\\n{}.\\n'\n",
    "          .format(idx, ',\\n'.join(changes))\n",
    "    )"
   ]
  },
  {
   "cell_type": "markdown",
   "metadata": {},
   "source": [
    "Compare A\\* search to IDA\\* search to BFS."
   ]
  },
  {
   "cell_type": "code",
   "execution_count": 181,
   "metadata": {},
   "outputs": [],
   "source": [
    "def get_expanded_nodes_stats(X, target_confidence=0.5, p_norm=1, q_norm=np.inf):\n",
    "\n",
    "    # Indices of examples classified as bots.\n",
    "    idxs, = np.where(clf.predict_proba(X)[:, 1] > target_confidence)\n",
    "    counts = []\n",
    "\n",
    "    for i, idx in enumerate(tqdm_notebook(idxs)):\n",
    "        \n",
    "        x = X[idx]\n",
    "        \n",
    "        with Counter().as_default() as cnt_astar:\n",
    "            try: \n",
    "                x_adv_1, _ = find_adversarial(x, clf, search_fn=a_star_search, epsilon=1, expansions=EXPANSIONS, \n",
    "                    target_confidence=target_confidence, p_norm=p_norm, q_norm=q_norm)       \n",
    "            except CounterLimitExceeded:\n",
    "                cnt_astar = Counter()\n",
    "                cnt_astar.set_count(Counter.limit)\n",
    "            \n",
    "        with Counter().as_default() as cnt_bfs:\n",
    "            try:\n",
    "                heuristic_fn = lambda x, clf, epsilon, q_norm: 0 \n",
    "                x_adv_2, _ = find_adversarial(x, clf, search_fn=a_star_search, epsilon=1, expansions=EXPANSIONS, \n",
    "                    target_confidence=target_confidence, p_norm=p_norm, q_norm=q_norm, heuristic_fn=heuristic_fn)       \n",
    "            except CounterLimitExceeded:\n",
    "                cnt_bfs = Counter()\n",
    "                cnt_bfs.set_count(Counter.limit)\n",
    "                \n",
    "        if x_adv_1 is None and x_adv_2 is None:\n",
    "            continue\n",
    "        \n",
    "        counts.append([cnt_astar.get_count(), cnt_bfs.get_count()])\n",
    "        \n",
    "    return pd.DataFrame(counts, columns=['A*', 'BFS'])"
   ]
  },
  {
   "cell_type": "code",
   "execution_count": 183,
   "metadata": {},
   "outputs": [
    {
     "data": {
      "application/vnd.jupyter.widget-view+json": {
       "model_id": "6bb4e4d3f7d94aaf922f941af7726b3c",
       "version_major": 2,
       "version_minor": 0
      },
      "text/plain": [
       "HBox(children=(IntProgress(value=0, max=453), HTML(value='')))"
      ]
     },
     "metadata": {},
     "output_type": "display_data"
    },
    {
     "data": {
      "image/png": "[encoded data removed]",
      "text/plain": [
       "<Figure size 864x288 with 1 Axes>"
      ]
     },
     "metadata": {},
     "output_type": "display_data"
    },
    {
     "data": {
      "image/png": "[encoded data removed]",
      "text/plain": [
       "<Figure size 864x288 with 1 Axes>"
      ]
     },
     "metadata": {},
     "output_type": "display_data"
    }
   ],
   "source": [
    "search_fns_stats = get_expanded_nodes_stats(X, target_confidence=0.5, p_norm=1, q_norm=np.inf)\n",
    "\n",
    "# Obtain indexes that would sort the BFS expansions array.\n",
    "idxs = np.argsort(search_fns_stats['BFS'].values)\n",
    "\n",
    "# Display the \"A* search vs BFS search\" plot.\n",
    "plt.figure(figsize=(12,4))\n",
    "plt.title('A* Search vs BFS search')\n",
    "plt.plot(search_fns_stats['A*'].values[idxs], color='red', label='A* search')\n",
    "plt.plot(search_fns_stats['BFS'].values[idxs], color='blue', label='BFS search')\n",
    "plt.grid(True)\n",
    "plt.xlabel('Examples (sorted by number of BFS expansions)', fontsize=12)\n",
    "plt.ylabel('Expansions', fontsize=12)\n",
    "# plt.xticks(np.arange(0, len(search_fns_stats['A*'].values), 50))\n",
    "# plt.yticks(np.arange(0, max(search_fns_stats['A*'].values), 500))\n",
    "plt.legend(loc='best', fontsize=11)\n",
    "plt.show()\n",
    "\n",
    "# Display the \"A* over BFS search improvement\" plot.\n",
    "improvement = (search_fns_stats['BFS'].values[idxs] - search_fns_stats['A*'].values[idxs])\n",
    "improvement = (improvement / search_fns_stats['A*'].values[idxs]) * 100\n",
    "\n",
    "plt.figure(figsize=(12,4))\n",
    "plt.plot(improvement, color='green')\n",
    "plt.grid(True)\n",
    "# plt.xticks(np.arange(0, len(search_fns_stats['A*'].values), 50))\n",
    "plt.xlabel('Examples (sorted by number of BFS expansions)', fontsize=12)\n",
    "plt.ylabel('A* improvement over BFS (%)', fontsize=12)\n",
    "plt.show()"
   ]
  },
  {
   "cell_type": "markdown",
   "metadata": {},
   "source": [
    "Fix several target confidence levels."
   ]
  },
  {
   "cell_type": "code",
   "execution_count": null,
   "metadata": {},
   "outputs": [],
   "source": [
    "confidence_levels = np.linspace(0.50, 0.95, 10)\n",
    "confidence_levels"
   ]
  },
  {
   "cell_type": "markdown",
   "metadata": {},
   "source": [
    "Find adversarial examples for the whole dataset using different transformation graphs"
   ]
  },
  {
   "cell_type": "code",
   "execution_count": null,
   "metadata": {},
   "outputs": [],
   "source": [
    "results_graph_1 = []\n",
    "for level in tqdm_notebook(confidence_levels):\n",
    "    results_graph_1.append(find_adv_examples(X, level))"
   ]
  },
  {
   "cell_type": "code",
   "execution_count": null,
   "metadata": {},
   "outputs": [],
   "source": [
    "results_graph_2 = []\n",
    "for level in tqdm_notebook(confidence_levels):\n",
    "    results_graph_2.append(\n",
    "        find_adv_examples(X, level, graph='increase_amount'))"
   ]
  },
  {
   "cell_type": "code",
   "execution_count": null,
   "metadata": {},
   "outputs": [],
   "source": [
    "results_graph_3 = []\n",
    "for level in tqdm_notebook(confidence_levels):\n",
    "    results_graph_3.append(\n",
    "        find_adv_examples(X, level, graph='increase_amount_and_duration'))"
   ]
  },
  {
   "cell_type": "markdown",
   "metadata": {},
   "source": [
    "## Sanity check for the optimality"
   ]
  },
  {
   "cell_type": "markdown",
   "metadata": {},
   "source": [
    "This part was used for debugging. It checks the costs of the found adversarial examples for all three graphs. Since the second graph is a subgraph of the first, and the third is a subgraph of the second ($G_3 \\subset G_2 \\subset G_1$), the path cost of the adversarial examples has to follow $C(x, x^*_{G_3}) \\geq C(x, x^*_{G_2}) \\geq C(x, x^*_{G_1})$."
   ]
  },
  {
   "cell_type": "code",
   "execution_count": null,
   "metadata": {},
   "outputs": [],
   "source": [
    "def example_diff(a, b):\n",
    "    different_indices = np.where(a != b)\n",
    "    return pd.DataFrame(\n",
    "        [a[different_indices], b[different_indices]],\n",
    "        columns=df_X.columns[different_indices],\n",
    "    )\n",
    "\n",
    "from IPython.display import display"
   ]
  },
  {
   "cell_type": "code",
   "execution_count": null,
   "metadata": {},
   "outputs": [],
   "source": [
    "for result_graph_1, result_graph_2, result_graph_3 in zip(\n",
    "        results_graph_1, results_graph_2, results_graph_3):\n",
    "\n",
    "    for i, x in enumerate(X):\n",
    "        a = result_graph_1['path_cost'][result_graph_1['index'] == i].values\n",
    "        b = result_graph_2['path_cost'][result_graph_2['index'] == i].values\n",
    "        c = result_graph_3['path_cost'][result_graph_3['index'] == i].values\n",
    "\n",
    "        try:\n",
    "            if len(a) > 0 and len(b) > 0 and not pd.isna(a) and not pd.isna(b):\n",
    "                assert a[0] <= b[0]\n",
    "            if len(b) > 0 and len(c) > 0 and not pd.isna(b) and not pd.isna(c):\n",
    "                assert b[0] <= c[0]\n",
    "            if len(a) > 0 and len(c) > 0 and not pd.isna(a) and not pd.isna(c):\n",
    "                assert a[0] <= c[0]\n",
    "        \n",
    "        # Output information about violating examples.\n",
    "        except AssertionError:\n",
    "            print('Assumption violated at index', i)\n",
    "            print('Real costs:', a, b, c)\n",
    "            \n",
    "            path_a = result_graph_1['path_cost'][result_graph_1['index'] == i].values\n",
    "            path_b = result_graph_2['path_cost'][result_graph_2['index'] == i].values\n",
    "            path_c = result_graph_3['path_cost'][result_graph_3['index'] == i].values\n",
    "            print('Path costs:', path_a, path_b, path_c)\n",
    "            \n",
    "            conf_a = result_graph_1['confidence'][result_graph_1['index'] == i].values[0]\n",
    "            conf_b = result_graph_2['confidence'][result_graph_2['index'] == i].values[0]\n",
    "            conf_c = result_graph_3['confidence'][result_graph_3['index'] == i].values[0]\n",
    "            print('Confidences:', conf_a, conf_b, conf_c)\n",
    "            \n",
    "            x_adv_a = result_graph_1['x_adv'][result_graph_1['index'] == i].values[0]\n",
    "            x_adv_b = result_graph_2['x_adv'][result_graph_2['index'] == i].values[0]\n",
    "            x_adv_c = result_graph_3['x_adv'][result_graph_3['index'] == i].values[0]\n",
    "            \n",
    "            if len(x_adv_a) > 0:\n",
    "                display(example_diff(X[i], x_adv_a))\n",
    "            if len(x_adv_b) > 0:\n",
    "                display(example_diff(X[i], x_adv_b))\n",
    "            if len(x_adv_c) > 0:\n",
    "                display(example_diff(X[i], x_adv_c))\n",
    "\n",
    "            continue"
   ]
  },
  {
   "cell_type": "markdown",
   "metadata": {},
   "source": [
    "### Plots"
   ]
  },
  {
   "cell_type": "markdown",
   "metadata": {},
   "source": [
    "Success rates for crafting adversarial examples, and average confidence of these."
   ]
  },
  {
   "cell_type": "code",
   "execution_count": null,
   "metadata": {},
   "outputs": [],
   "source": [
    "def plot_confidence(results):\n",
    "    success_prop = [result['found'].mean() for result in results]\n",
    "    avg_confidence = [result['confidence'].mean() for result in results]\n",
    "    \n",
    "    fig, ax = plt.subplots()\n",
    "    ax.set_xticks(confidence_levels)\n",
    "    ax.plot(confidence_levels, success_prop,\n",
    "            label='Success proportion')\n",
    "    ax.plot(confidence_levels, avg_confidence,\n",
    "            label='Avg confidence of adversarial examples')\n",
    "    ax.plot(confidence_levels, confidence_levels,\n",
    "            linestyle='dashed', color='gray', label='Baseline confidence')\n",
    "    ax.set_xlabel('Target confidence')\n",
    "    ax.set_ylabel('')\n",
    "    plt.legend()\n",
    "    plt.show()"
   ]
  },
  {
   "cell_type": "markdown",
   "metadata": {},
   "source": [
    "Graph 1 (changing \"amount\", \"duration\", and \"purpose\" in any direction)"
   ]
  },
  {
   "cell_type": "code",
   "execution_count": null,
   "metadata": {},
   "outputs": [],
   "source": [
    "plot_confidence(results_graph_1)"
   ]
  },
  {
   "cell_type": "markdown",
   "metadata": {},
   "source": [
    "Graph 2 (changing \"duration\" in any direction, and \"purpose\", and only increasing \"amount\")"
   ]
  },
  {
   "cell_type": "code",
   "execution_count": null,
   "metadata": {},
   "outputs": [],
   "source": [
    "plot_confidence(results_graph_2)"
   ]
  },
  {
   "cell_type": "markdown",
   "metadata": {},
   "source": [
    "Graph 3 (changing \"purpose\" in any direction, and only increasing \"amount\" and \"duration\")"
   ]
  },
  {
   "cell_type": "code",
   "execution_count": null,
   "metadata": {},
   "outputs": [],
   "source": [
    "plot_confidence(results_graph_3)"
   ]
  },
  {
   "cell_type": "markdown",
   "metadata": {},
   "source": [
    "Number of expanded nodes for graph 1 (strongly correlated with runtime)"
   ]
  },
  {
   "cell_type": "code",
   "execution_count": null,
   "metadata": {},
   "outputs": [],
   "source": [
    "avg_expanded = pd.Series(\n",
    "    [np.mean(result['nodes_expanded'][result['found']])\n",
    "     for result in results_graph_1])\n",
    "sigma_expanded = pd.Series(\n",
    "    [np.std(result['nodes_expanded'][result['found']])\n",
    "     for result in results_graph_1])\n",
    "\n",
    "avg_runtime = pd.Series(\n",
    "    [np.mean(result['runtime'][result['found']])\n",
    "     for result in results_graph_1])\n",
    "\n",
    "fig, ax = plt.subplots()\n",
    "avg_expanded.plot(label='Number of expanded nodes', ax=ax)\n",
    "ax.fill_between(range(len(confidence_levels)),\n",
    "                avg_expanded - 2 * sigma_expanded,\n",
    "                avg_expanded + 2 * sigma_expanded, alpha=.2)\n",
    "ax.set_xticks(range(len(confidence_levels)))\n",
    "ax.set_xticklabels(['%2.2f' % level for level in confidence_levels])\n",
    "ax.set_xlim(0, len(confidence_levels) - 1)\n",
    "ax.set_xlabel('Target confidence')\n",
    "ax.set_ylabel('Number of expanded nodes')\n",
    "\n",
    "# avg_runtime.plot(secondary_y=True, label='Avg runtime')\n",
    "plt.show()"
   ]
  }
 ],
 "metadata": {
  "kernelspec": {
   "display_name": "Python 3",
   "language": "python",
   "name": "python3"
  },
  "language_info": {
   "codemirror_mode": {
    "name": "ipython",
    "version": 3
   },
   "file_extension": ".py",
   "mimetype": "text/x-python",
   "name": "python",
   "nbconvert_exporter": "python",
   "pygments_lexer": "ipython3",
   "version": "3.6.5"
  }
 },
 "nbformat": 4,
 "nbformat_minor": 2
}
