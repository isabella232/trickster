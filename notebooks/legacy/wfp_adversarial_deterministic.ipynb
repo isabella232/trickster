{
 "cells": [
  {
   "cell_type": "code",
   "execution_count": 1,
   "metadata": {},
   "outputs": [],
   "source": [
    "%load_ext  autoreload\n",
    "%autoreload 2"
   ]
  },
  {
   "cell_type": "code",
   "execution_count": 2,
   "metadata": {},
   "outputs": [],
   "source": [
    "import sys\n",
    "sys.path.append('..')"
   ]
  },
  {
   "cell_type": "code",
   "execution_count": 3,
   "metadata": {},
   "outputs": [],
   "source": [
    "import os\n",
    "import math\n",
    "\n",
    "import numpy as np\n",
    "import pandas as pd\n",
    "import seaborn as sns\n",
    "from itertools import groupby\n",
    "from IPython.display import display, HTML\n",
    "\n",
    "from trickster.search import a_star_search\n",
    "from trickster.wfp_helper import extract, load_cell\n",
    "\n",
    "from sklearn.utils import shuffle\n",
    "from sklearn.model_selection import train_test_split, GridSearchCV\n",
    "from sklearn.linear_model import LogisticRegressionCV\n",
    "from sklearn.svm import SVC\n",
    "from scipy.spatial import distance\n",
    "from tqdm import tqdm_notebook\n",
    "from matplotlib import pyplot as plt\n",
    "\n",
    "from defaultcontext import with_default_context\n",
    "from profiled import Profiler, profiled\n",
    "\n",
    "seed = 2018"
   ]
  },
  {
   "cell_type": "code",
   "execution_count": 4,
   "metadata": {},
   "outputs": [],
   "source": [
    "def load_data(path='./data/wfp_traces/'):\n",
    "    labels = []\n",
    "    data = []\n",
    "    for fn in tqdm_notebook(os.listdir(path)):\n",
    "        file_path = path + fn\n",
    "        if os.path.isfile(file_path):\n",
    "            cell_list = load_cell(file_path)\n",
    "            feature_list = extract(cell_list)\n",
    "            if \"-\" in str(fn):\n",
    "                labels.append(1)\n",
    "                data.append((cell_list, feature_list))\n",
    "            else:\n",
    "                labels.append(0)\n",
    "                data.append((cell_list, feature_list))\n",
    "    labels = np.array(labels)\n",
    "    data = np.array(data)\n",
    "    return data, labels"
   ]
  },
  {
   "cell_type": "markdown",
   "metadata": {},
   "source": [
    "# Load data\n",
    "\n",
    "Load website cell traces - load both cell traces and CUMUL features for classification."
   ]
  },
  {
   "cell_type": "code",
   "execution_count": 5,
   "metadata": {},
   "outputs": [
    {
     "data": {
      "application/vnd.jupyter.widget-view+json": {
       "model_id": "bfda25703537460d88d61e2eef50a25c",
       "version_major": 2,
       "version_minor": 0
      },
      "text/plain": [
       "HBox(children=(IntProgress(value=0, max=96), HTML(value='')))"
      ]
     },
     "metadata": {},
     "output_type": "display_data"
    },
    {
     "name": "stdout",
     "output_type": "stream",
     "text": [
      "\n",
      "Shape of data: (96, 2), Shape of labels: (96,)\n",
      "Number train samples: 86, Number test samples: 10\n"
     ]
    }
   ],
   "source": [
    "X, y = load_data(path='./data/wfp_traces_toy/')\n",
    "X, y = X[:500], y[:500]\n",
    "print(\"Shape of data: {}, Shape of labels: {}\".format(X.shape, y.shape))\n",
    "\n",
    "# Split into training and test sets\n",
    "X_train, X_test, y_train, y_test = train_test_split(X, y, test_size=0.1, random_state=seed)\n",
    "print(\"Number train samples: {}, Number test samples: {}\".format(X_train.shape[0], X_test.shape[0]))\n",
    "\n",
    "X_train_cell, X_train_features = zip(*X_train)\n",
    "X_test_cell, X_test_features = zip(*X_test)\n",
    "X_train_cell, X_train_features = np.array(X_train_cell), np.array(X_train_features)\n",
    "X_test_cell, X_test_features = np.array(X_test_cell), np.array(X_test_features)"
   ]
  },
  {
   "cell_type": "markdown",
   "metadata": {},
   "source": [
    "# Fit logistic regression model"
   ]
  },
  {
   "cell_type": "code",
   "execution_count": 6,
   "metadata": {},
   "outputs": [
    {
     "name": "stdout",
     "output_type": "stream",
     "text": [
      "Best score is: 93.06%. Best C is: 0.0631.\n",
      "Test score is: 90.00%.\n"
     ]
    }
   ],
   "source": [
    "# Fit logistic regression and perform CV\n",
    "clf = LogisticRegressionCV(\n",
    "    Cs=21, \n",
    "    cv=5, \n",
    "    n_jobs=-1, \n",
    "    random_state=seed\n",
    ")\n",
    "clf.fit(X_train_features, y_train)\n",
    "\n",
    "# Get best score and C value\n",
    "mean_scores = np.mean(clf.scores_[1], axis=0)\n",
    "best_idx = np.argmax(mean_scores)\n",
    "best_score = mean_scores[best_idx]\n",
    "best_C = clf.Cs_[best_idx]\n",
    "\n",
    "print('Best score is: {:.2f}%. Best C is: {:.4f}.'.format(best_score*100, best_C))\n",
    "print('Test score is: {:.2f}%.'.format(clf.score(X_test_features, y_test)*100))"
   ]
  },
  {
   "cell_type": "code",
   "execution_count": 7,
   "metadata": {},
   "outputs": [],
   "source": [
    "@with_default_context(use_empty_init=True)\n",
    "class Counter:\n",
    "    def __init__(self):\n",
    "        self.cnt = 0\n",
    "        \n",
    "    def increment(self):\n",
    "        self.cnt += 1\n",
    "        \n",
    "    def count(self):\n",
    "        return self.cnt"
   ]
  },
  {
   "cell_type": "markdown",
   "metadata": {},
   "source": [
    "Define `BruteNode` class transformation code:\n",
    "If at level i a node contains an input of length n, there will be n+1 branches at level i+1 with a new request at every possible index."
   ]
  },
  {
   "cell_type": "code",
   "execution_count": 8,
   "metadata": {},
   "outputs": [],
   "source": [
    "class BruteNode:\n",
    "    \n",
    "    def __init__(self, x):\n",
    "        self.root = list(x)\n",
    "    \n",
    "    def expand(self):\n",
    "        # Increment the counter of expanded nodes.\n",
    "        counter = Counter.get_default()\n",
    "        counter.increment()\n",
    "\n",
    "        children = [ ]\n",
    "\n",
    "        for idx in range(len(self.root) + 1):\n",
    "            expanded_node = self.root[:idx] + [1] + self.root[idx:]\n",
    "            children.append(np.array(expanded_node))\n",
    "        \n",
    "        return children\n",
    "    \n",
    "    def __repr__(self):\n",
    "        return 'Node({})'.format(self.root)"
   ]
  },
  {
   "cell_type": "markdown",
   "metadata": {},
   "source": [
    "All the functions that need to be passed into the search, in the expected format.  "
   ]
  },
  {
   "cell_type": "code",
   "execution_count": 9,
   "metadata": {},
   "outputs": [],
   "source": [
    "def _expand_fn(x, p_norm=1):\n",
    "    \"\"\"Wrap the example in `Node`, expand the node, and compute the costs.\n",
    "    \n",
    "    Returns a list of tuples (child, cost)\n",
    "    \"\"\"\n",
    "    node = BruteNode(x)\n",
    "    children = node.expand()\n",
    "    costs = [np.linalg.norm(\n",
    "        np.array(extract(x)) - np.array(extract(c)), ord=p_norm)\n",
    "             for c in children]\n",
    "    return list(zip(children, costs))\n",
    "\n",
    "def _goal_fn(x, clf, target_confidence=0.5):\n",
    "    \"\"\"Tell whether the example has reached the goal.\"\"\"\n",
    "    return clf.predict_proba([extract(x)])[0, 1] >= target_confidence\n",
    "\n",
    "def _heuristic_fn(x, clf, q_norm=np.inf):\n",
    "    \"\"\"Distance to the decision boundary of a logistic regression classifier.\n",
    "    \n",
    "    By default the distance is w.r.t. L1 norm. This means that the denominator\n",
    "    has to be in terms of the Holder dual norm (`q_norm`), so L-inf. I know,\n",
    "    this interface is horrible.\n",
    "    \n",
    "    NOTE: The value has to be zero if the example is already on the target side\n",
    "    of the boundary.\n",
    "    \"\"\"\n",
    "    score = clf.decision_function([extract(x)])[0]\n",
    "    if score >= 0:\n",
    "        return 0.0\n",
    "    return np.abs(score) / np.linalg.norm(clf.coef_, ord=q_norm)\n",
    "\n",
    "def hash_fn(x):\n",
    "    \"\"\"Hash function for examples.\"\"\"\n",
    "    x_str = ''.join(str(e) for e in x)\n",
    "    return hash(x_str)"
   ]
  },
  {
   "cell_type": "code",
   "execution_count": 18,
   "metadata": {},
   "outputs": [],
   "source": [
    "@profiled\n",
    "def find_adversarial(x, clf, p_norm=1, q_norm=np.inf,\n",
    "                     target_confidence=0.5, return_path=False):\n",
    "    \"\"\"Transform an example until it is classified with target confidence.\"\"\" \n",
    "\n",
    "    if clf.predict_proba([extract(x)])[0, 1] >= target_confidence:\n",
    "        raise Exception('Initial example is already classified as positive.')        \n",
    "    return a_star_search(\n",
    "        start_node=x, \n",
    "        expand_fn=lambda x: _expand_fn(x, p_norm=p_norm), \n",
    "        goal_fn=lambda x: _goal_fn(x, clf, target_confidence), \n",
    "        heuristic_fn=lambda x: _heuristic_fn(x, clf, q_norm=q_norm), \n",
    "        iter_lim=int(100),\n",
    "        hash_fn=hash_fn,\n",
    "        return_path=return_path\n",
    "    )"
   ]
  },
  {
   "cell_type": "code",
   "execution_count": 15,
   "metadata": {},
   "outputs": [],
   "source": [
    "def find_adv_examples(X_cells, X_features, target_confidence, p_norm=1, q_norm=np.inf):\n",
    "    \"\"\"Find adversarial examples for a whole dataset\"\"\"\n",
    "    \n",
    "\n",
    "    # Dataframe for storing the results.\n",
    "    results = pd.DataFrame(\n",
    "        columns=['index', 'found', 'confidence', 'original_confidence',\n",
    "                 'real_cost', 'path_cost', 'nodes_expanded', 'runtime', 'conf_level'])\n",
    "\n",
    "    # Indices of examples classified as negative.\n",
    "    neg_indices, = np.where(clf.predict_proba(X_features)[:, 1] < target_confidence)\n",
    "    \n",
    "    for i, original_index in enumerate(neg_indices):\n",
    "        x = X_cells[original_index]\n",
    "        \n",
    "        # Instantiate a counter for expanded nodes, and a profiler.\n",
    "        expanded_counter = Counter()\n",
    "        per_example_profiler = Profiler()\n",
    "        \n",
    "        with expanded_counter.as_default(), per_example_profiler.as_default():\n",
    "            x_adv, path_cost = find_adversarial(\n",
    "                    x, clf, target_confidence=target_confidence)\n",
    "\n",
    "        nodes_expanded = expanded_counter.count()\n",
    "        runtime = per_example_profiler.compute_stats()['find_adversarial']['tot']\n",
    "        \n",
    "        # If an adversarial example was not found, only record index, runtime, and \n",
    "        # the number of expanded nodes.\n",
    "        if x_adv is None:\n",
    "            results.loc[i] = [original_index, False, [], None,\n",
    "                              None, None, nodes_expanded, runtime]\n",
    "        else:\n",
    "            confidence = clf.predict_proba([extract(x_adv)])[0, 1]\n",
    "            original_confidence = clf.predict_proba([extract(x)])[0, 1]\n",
    "            real_cost = np.linalg.norm(x_adv, ord=p_norm) - np.linalg.norm(x, ord=p_norm)\n",
    "            \n",
    "            results.loc[i] = [original_index, True, confidence, original_confidence,\n",
    "                              real_cost, path_cost, nodes_expanded, runtime, target_confidence]\n",
    "\n",
    "    return results"
   ]
  },
  {
   "cell_type": "markdown",
   "metadata": {},
   "source": [
    "## Run the experiments  \n",
    "  \n",
    "Fix several target confidence levels."
   ]
  },
  {
   "cell_type": "code",
   "execution_count": null,
   "metadata": {},
   "outputs": [
    {
     "data": {
      "application/vnd.jupyter.widget-view+json": {
       "model_id": "54e0fcdea5a04287969c0ea031d155ca",
       "version_major": 2,
       "version_minor": 0
      },
      "text/plain": [
       "HBox(children=(IntProgress(value=0, max=1), HTML(value='')))"
      ]
     },
     "metadata": {},
     "output_type": "display_data"
    },
    {
     "name": "stdout",
     "output_type": "stream",
     "text": [
      "0\n",
      "1\n",
      "2\n",
      "3\n",
      "4\n",
      "5\n",
      "6\n",
      "7\n",
      "8\n",
      "9\n",
      "10\n",
      "11\n",
      "12\n",
      "13\n",
      "14\n",
      "15\n",
      "16\n",
      "17\n",
      "18\n",
      "19\n",
      "20\n",
      "21\n",
      "22\n",
      "23\n",
      "24\n",
      "25\n"
     ]
    }
   ],
   "source": [
    "results_graph_1 = []\n",
    "for level in tqdm_notebook(confidence_levels):\n",
    "    results_graph_1.append(find_adv_examples(X_test_cell, X_test_features, level))\n",
    "\n",
    "for res in results_graph_1:\n",
    "    display(HTML(res.to_html()))\n",
    "    print()\n",
    "    "
   ]
  },
  {
   "cell_type": "code",
   "execution_count": 16,
   "metadata": {},
   "outputs": [],
   "source": [
    "confidence_levels = np.linspace(0.50, 0.95, 1)"
   ]
  },
  {
   "cell_type": "markdown",
   "metadata": {},
   "source": [
    "Find adversarial examples for the whole dataset using transformation graph"
   ]
  },
  {
   "cell_type": "markdown",
   "metadata": {},
   "source": [
    "### Plots"
   ]
  },
  {
   "cell_type": "markdown",
   "metadata": {},
   "source": [
    "Check path cost and real cost are correlated."
   ]
  },
  {
   "cell_type": "code",
   "execution_count": null,
   "metadata": {},
   "outputs": [],
   "source": [
    "for res in results_graph_1:\n",
    "    plt.scatter(res['real_cost'], res['path_cost'])\n",
    "    \n",
    "plt.xlabel('Real cost')\n",
    "plt.ylabel('Path cost')\n",
    "plt.show()"
   ]
  },
  {
   "cell_type": "markdown",
   "metadata": {},
   "source": [
    "Success rates for crafting adversarial examples, and average confidence of these."
   ]
  },
  {
   "cell_type": "code",
   "execution_count": 17,
   "metadata": {},
   "outputs": [],
   "source": [
    "def plot_confidence(results):\n",
    "    success_prop = [result['found'].mean() for result in results]\n",
    "    avg_confidence = [result['confidence'].mean() for result in results]\n",
    "    \n",
    "    fig, ax = plt.subplots()\n",
    "    ax.set_xticks(confidence_levels)\n",
    "    ax.plot(confidence_levels, success_prop,\n",
    "            label='Success proportion')\n",
    "    ax.plot(confidence_levels, avg_confidence,\n",
    "            label='Avg confidence of adversarial examples')\n",
    "    ax.plot(confidence_levels, confidence_levels,\n",
    "            linestyle='dashed', color='gray', label='Baseline confidence')\n",
    "    ax.set_xlabel('Target confidence')\n",
    "    ax.set_ylabel('')\n",
    "    plt.legend()\n",
    "    plt.show()"
   ]
  },
  {
   "cell_type": "code",
   "execution_count": 18,
   "metadata": {},
   "outputs": [
    {
     "data": {
      "image/png": "[encoded data removed]",
      "text/plain": [
       "<Figure size 432x288 with 1 Axes>"
      ]
     },
     "metadata": {},
     "output_type": "display_data"
    }
   ],
   "source": [
    "plot_confidence(results_graph_1)"
   ]
  },
  {
   "cell_type": "markdown",
   "metadata": {},
   "source": [
    "Number of expanded nodes for graph 1 (strongly correlated with runtime)"
   ]
  },
  {
   "cell_type": "code",
   "execution_count": 20,
   "metadata": {},
   "outputs": [
    {
     "name": "stderr",
     "output_type": "stream",
     "text": [
      "/usr/local/lib/python3.6/site-packages/matplotlib/axes/_base.py:3124: UserWarning: Attempting to set identical left==right results\n",
      "in singular transformations; automatically expanding.\n",
      "left=0, right=0\n",
      "  'left=%s, right=%s') % (left, right))\n"
     ]
    },
    {
     "data": {
      "image/png": "[encoded data removed]",
      "text/plain": [
       "<Figure size 432x288 with 1 Axes>"
      ]
     },
     "metadata": {},
     "output_type": "display_data"
    }
   ],
   "source": [
    "avg_expanded = pd.Series(\n",
    "    [np.mean(result['nodes_expanded'][result['found']])\n",
    "     for result in results_graph_1])\n",
    "sigma_expanded = pd.Series(\n",
    "    [np.std(result['nodes_expanded'][result['found']])\n",
    "     for result in results_graph_1])\n",
    "\n",
    "avg_runtime = pd.Series(\n",
    "    [np.mean(result['runtime'][result['found']])\n",
    "     for result in results_graph_1])\n",
    "\n",
    "fig, ax = plt.subplots()\n",
    "avg_expanded.plot(label='Number of expanded nodes', ax=ax)\n",
    "ax.fill_between(range(len(confidence_levels)),\n",
    "                avg_expanded - 2 * sigma_expanded,\n",
    "                avg_expanded + 2 * sigma_expanded, alpha=.2)\n",
    "ax.set_xticks(range(len(confidence_levels)))\n",
    "ax.set_xticklabels(['%2.2f' % level for level in confidence_levels])\n",
    "ax.set_xlim(0, len(confidence_levels) - 1)\n",
    "ax.set_xlabel('Target confidence')\n",
    "ax.set_ylabel('Number of expanded nodes')\n",
    "\n",
    "# avg_runtime.plot(secondary_y=True, label='Avg runtime')\n",
    "plt.show()"
   ]
  },
  {
   "cell_type": "code",
   "execution_count": null,
   "metadata": {},
   "outputs": [],
   "source": []
  },
  {
   "cell_type": "code",
   "execution_count": null,
   "metadata": {},
   "outputs": [],
   "source": []
  },
  {
   "cell_type": "code",
   "execution_count": null,
   "metadata": {},
   "outputs": [],
   "source": []
  }
 ],
 "metadata": {
  "kernelspec": {
   "display_name": "Python 3",
   "language": "python",
   "name": "python3"
  },
  "language_info": {
   "codemirror_mode": {
    "name": "ipython",
    "version": 3
   },
   "file_extension": ".py",
   "mimetype": "text/x-python",
   "name": "python",
   "nbconvert_exporter": "python",
   "pygments_lexer": "ipython3",
   "version": "3.6.5"
  }
 },
 "nbformat": 4,
 "nbformat_minor": 2
}
